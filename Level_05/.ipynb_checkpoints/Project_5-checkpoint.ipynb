{
 "cells": [
  {
   "cell_type": "code",
   "execution_count": 1,
   "id": "ab62adbb-4d90-4be9-b99a-f8b3bb5862a5",
   "metadata": {},
   "outputs": [
    {
     "name": "stdout",
     "output_type": "stream",
     "text": [
      "Requirement already satisfied: pyforest in c:\\users\\nithy\\anaconda3\\lib\\site-packages (1.1.2)\n",
      "Note: you may need to restart the kernel to use updated packages.\n"
     ]
    }
   ],
   "source": [
    "pip install pyforest"
   ]
  },
  {
   "cell_type": "code",
   "execution_count": 3,
   "id": "f7c40da9-4201-418f-b61b-5a3d0163c2de",
   "metadata": {},
   "outputs": [],
   "source": [
    "import pyforest\n",
    "from dataclasses import dataclass"
   ]
  },
  {
   "cell_type": "code",
   "execution_count": 5,
   "id": "a08d8718-7f81-4f89-8850-1c576bbbfca1",
   "metadata": {},
   "outputs": [],
   "source": [
    "@dataclass\n",
    "class stats:\n",
    "    count:int\n",
    "    mean:float\n",
    "    min:float\n",
    "    max:float\n",
    "    def histogram(self,df,colname):\n",
    "        plt.hist(df[colname])\n",
    "        plt.title(\"Distribution of the housing price\")\n",
    "        plt.xlabel(colname)\n",
    "        plt.ylabel('Frequency')\n",
    "        plt.show()\n",
    "        "
   ]
  },
  {
   "cell_type": "code",
   "execution_count": 11,
   "id": "46b260d9-6e74-4fd8-907a-6d69829d8f10",
   "metadata": {},
   "outputs": [
    {
     "name": "stdout",
     "output_type": "stream",
     "text": [
      "\n",
      "1.Statistics:\n",
      "\n",
      "2.Histogram:\n",
      "\n",
      "3.Exit:\n"
     ]
    },
    {
     "name": "stdin",
     "output_type": "stream",
     "text": [
      "Enter your Choice:  1\n"
     ]
    },
    {
     "data": {
      "application/javascript": [
       "\n",
       "        if (window._pyforest_update_imports_cell) { window._pyforest_update_imports_cell('import pandas as pd'); }\n",
       "    "
      ],
      "text/plain": [
       "<IPython.core.display.Javascript object>"
      ]
     },
     "metadata": {},
     "output_type": "display_data"
    },
    {
     "name": "stdin",
     "output_type": "stream",
     "text": [
      "Enter your data path: C:/Users/nithy/OneDrive/Desktop/Training/Level_5/train.csv\n",
      "Enter your column name: SalePrice\n"
     ]
    },
    {
     "name": "stdout",
     "output_type": "stream",
     "text": [
      "Count:1460\n",
      "Mean:180921.19589041095\n",
      "Min:34900\n",
      "Max:755000\n",
      "\n",
      "1.Statistics:\n",
      "\n",
      "2.Histogram:\n",
      "\n",
      "3.Exit:\n"
     ]
    },
    {
     "name": "stdin",
     "output_type": "stream",
     "text": [
      "Enter your Choice:  2\n"
     ]
    },
    {
     "data": {
      "application/javascript": [
       "\n",
       "        if (window._pyforest_update_imports_cell) { window._pyforest_update_imports_cell('import pandas as pd'); }\n",
       "    "
      ],
      "text/plain": [
       "<IPython.core.display.Javascript object>"
      ]
     },
     "metadata": {},
     "output_type": "display_data"
    },
    {
     "name": "stdin",
     "output_type": "stream",
     "text": [
      "Enter your data path: C:/Users/nithy/OneDrive/Desktop/Training/Level_5/train.csv\n",
      "Enter your column name: SalePrice\n"
     ]
    },
    {
     "data": {
      "application/javascript": [
       "\n",
       "        if (window._pyforest_update_imports_cell) { window._pyforest_update_imports_cell('import matplotlib.pyplot as plt\\nimport pandas as pd'); }\n",
       "    "
      ],
      "text/plain": [
       "<IPython.core.display.Javascript object>"
      ]
     },
     "metadata": {},
     "output_type": "display_data"
    },
    {
     "data": {
      "application/javascript": [
       "\n",
       "        if (window._pyforest_update_imports_cell) { window._pyforest_update_imports_cell('import matplotlib.pyplot as plt\\nimport pandas as pd'); }\n",
       "    "
      ],
      "text/plain": [
       "<IPython.core.display.Javascript object>"
      ]
     },
     "metadata": {},
     "output_type": "display_data"
    },
    {
     "data": {
      "application/javascript": [
       "\n",
       "        if (window._pyforest_update_imports_cell) { window._pyforest_update_imports_cell('import matplotlib.pyplot as plt\\nimport pandas as pd'); }\n",
       "    "
      ],
      "text/plain": [
       "<IPython.core.display.Javascript object>"
      ]
     },
     "metadata": {},
     "output_type": "display_data"
    },
    {
     "data": {
      "application/javascript": [
       "\n",
       "        if (window._pyforest_update_imports_cell) { window._pyforest_update_imports_cell('import matplotlib.pyplot as plt\\nimport pandas as pd'); }\n",
       "    "
      ],
      "text/plain": [
       "<IPython.core.display.Javascript object>"
      ]
     },
     "metadata": {},
     "output_type": "display_data"
    },
    {
     "data": {
      "application/javascript": [
       "\n",
       "        if (window._pyforest_update_imports_cell) { window._pyforest_update_imports_cell('import matplotlib.pyplot as plt\\nimport pandas as pd'); }\n",
       "    "
      ],
      "text/plain": [
       "<IPython.core.display.Javascript object>"
      ]
     },
     "metadata": {},
     "output_type": "display_data"
    },
    {
     "data": {
      "image/png": "[encoded data removed]",
      "text/plain": [
       "<Figure size 640x480 with 1 Axes>"
      ]
     },
     "metadata": {},
     "output_type": "display_data"
    },
    {
     "name": "stdout",
     "output_type": "stream",
     "text": [
      "\n",
      "1.Statistics:\n",
      "\n",
      "2.Histogram:\n",
      "\n",
      "3.Exit:\n"
     ]
    },
    {
     "name": "stdin",
     "output_type": "stream",
     "text": [
      "Enter your Choice:  3\n"
     ]
    },
    {
     "name": "stdout",
     "output_type": "stream",
     "text": [
      "Execution stopped\n"
     ]
    }
   ],
   "source": [
    "def main():\n",
    "    run=True\n",
    "    while run:\n",
    "        print(\"\\n1.Statistics:\")\n",
    "        print(\"\\n2.Histogram:\")\n",
    "        print(\"\\n3.Exit:\")\n",
    "        try:\n",
    "            choice=int(input(\"Enter your Choice: \"))\n",
    "        except ValueError:\n",
    "            print(\"Enter a valid choice(1/2/3): \")\n",
    "            continue\n",
    "        if choice in [1,2]:\n",
    "            try:\n",
    "                df=pd.read_csv(input(\"Enter your data path:\"))\n",
    "            except FileNotFoundError:\n",
    "                print(\"Enter a valid file path\")\n",
    "                continue\n",
    "            col_name=input(\"Enter your column name:\")\n",
    "            if col_name in df.columns:\n",
    "                statistics=stats(len(df[col_name]),df[col_name].mean(),min(df[col_name]),max(df[col_name]))\n",
    "                if choice==1:\n",
    "                    print(f'Count:{statistics.count}')\n",
    "                    print(f'Mean:{statistics.mean}')\n",
    "                    print(f'Min:{statistics.min}')\n",
    "                    print(f'Max:{statistics.max}')\n",
    "                elif choice==2:\n",
    "                    statistics.histogram(df,col_name)\n",
    "            else:\n",
    "                print(f'{col_name} not in given data.Please enter a valid column')\n",
    "        elif choice==3:\n",
    "                print('Execution stopped')\n",
    "                break\n",
    "        else:\n",
    "            print('Invalid choice.')\n",
    "if __name__ == \"__main__\":\n",
    "    main()"
   ]
  },
  {
   "cell_type": "code",
   "execution_count": null,
   "id": "75f16fa9-d7d2-4adc-a7eb-6bbc8d6d0935",
   "metadata": {},
   "outputs": [],
   "source": []
  }
 ],
 "metadata": {
  "kernelspec": {
   "display_name": "Python 3 (ipykernel)",
   "language": "python",
   "name": "python3"
  },
  "language_info": {
   "codemirror_mode": {
    "name": "ipython",
    "version": 3
   },
   "file_extension": ".py",
   "mimetype": "text/x-python",
   "name": "python",
   "nbconvert_exporter": "python",
   "pygments_lexer": "ipython3",
   "version": "3.12.4"
  }
 },
 "nbformat": 4,
 "nbformat_minor": 5
}
