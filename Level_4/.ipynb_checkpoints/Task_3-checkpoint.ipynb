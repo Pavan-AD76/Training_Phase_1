{
 "cells": [
  {
   "cell_type": "markdown",
   "id": "5db79455-9e33-4845-a299-c1fb3c62a053",
   "metadata": {},
   "source": [
    "## Task 3: Multi-Threaded Execution"
   ]
  },
  {
   "cell_type": "code",
   "execution_count": 1,
   "id": "182653eb-eefd-41a4-9565-68f204e34e32",
   "metadata": {},
   "outputs": [
    {
     "name": "stdout",
     "output_type": "stream",
     "text": [
      "[1, 2, 3]\n",
      "['A', 'B', 'C']\n"
     ]
    }
   ],
   "source": [
    "import concurrent.futures\n",
    "def print_numbers():\n",
    "    print([1, 2, 3])\n",
    "def print_letters():\n",
    "    print([\"A\", \"B\", \"C\"])\n",
    "with concurrent.futures.ThreadPoolExecutor() as executor:\n",
    "    executor.submit(print_numbers)\n",
    "    executor.submit(print_letters)"
   ]
  },
  {
   "cell_type": "code",
   "execution_count": null,
   "id": "17975aa0-2c17-4745-9197-b4a4a83ec391",
   "metadata": {},
   "outputs": [],
   "source": []
  }
 ],
 "metadata": {
  "kernelspec": {
   "display_name": "Python 3 (ipykernel)",
   "language": "python",
   "name": "python3"
  },
  "language_info": {
   "codemirror_mode": {
    "name": "ipython",
    "version": 3
   },
   "file_extension": ".py",
   "mimetype": "text/x-python",
   "name": "python",
   "nbconvert_exporter": "python",
   "pygments_lexer": "ipython3",
   "version": "3.12.4"
  }
 },
 "nbformat": 4,
 "nbformat_minor": 5
}
