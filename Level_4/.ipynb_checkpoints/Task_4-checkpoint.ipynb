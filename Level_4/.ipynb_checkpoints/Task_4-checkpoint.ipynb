{
 "cells": [
  {
   "cell_type": "code",
   "execution_count": 1,
   "id": "3a713a97-c3ec-4490-890b-ed2a87665c92",
   "metadata": {},
   "outputs": [
    {
     "name": "stdout",
     "output_type": "stream",
     "text": [
      "Logging setup complete. Check \"app.log\" for logs.\n"
     ]
    }
   ],
   "source": [
    "import logging\n",
    "logging.basicConfig(filename=\"app.log\",level=logging.INFO,filemode='a',format='%(asctime)s -%(levelname)s -%(message)s',datefmt='%Y-%m-%d %H:%M:%S')\n",
    "logging.info(\"Script has started.\")\n",
    "logging.info(\"Task has been completed.\")\n",
    "print('Logging setup complete. Check \"app.log\" for logs.')"
   ]
  },
  {
   "cell_type": "code",
   "execution_count": null,
   "id": "b4262643-5017-4d72-ba01-e054afc9255a",
   "metadata": {},
   "outputs": [],
   "source": []
  }
 ],
 "metadata": {
  "kernelspec": {
   "display_name": "Python 3 (ipykernel)",
   "language": "python",
   "name": "python3"
  },
  "language_info": {
   "codemirror_mode": {
    "name": "ipython",
    "version": 3
   },
   "file_extension": ".py",
   "mimetype": "text/x-python",
   "name": "python",
   "nbconvert_exporter": "python",
   "pygments_lexer": "ipython3",
   "version": "3.12.4"
  }
 },
 "nbformat": 4,
 "nbformat_minor": 5
}
