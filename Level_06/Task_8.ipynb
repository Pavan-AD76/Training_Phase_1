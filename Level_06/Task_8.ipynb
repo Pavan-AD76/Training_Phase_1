{
 "cells": [
  {
   "cell_type": "markdown",
   "id": "7150d689-5a61-478a-8e33-63eed76945cf",
   "metadata": {},
   "source": [
    "# Task 8: Gaussian Distribution"
   ]
  },
  {
   "cell_type": "code",
   "execution_count": 3,
   "id": "f3725f03-ee15-4f56-b1fe-bb3dce9495e6",
   "metadata": {},
   "outputs": [],
   "source": [
    "from scipy.stats import norm"
   ]
  },
  {
   "cell_type": "code",
   "execution_count": 5,
   "id": "ca243d59-0881-4f5e-a109-4ae0000361b7",
   "metadata": {},
   "outputs": [],
   "source": [
    "mean=100\n",
    "std=15"
   ]
  },
  {
   "cell_type": "code",
   "execution_count": 13,
   "id": "ab8669bd-8d02-497e-8d57-4be7fff616f8",
   "metadata": {},
   "outputs": [
    {
     "data": {
      "application/javascript": [
       "\n",
       "        if (window._pyforest_update_imports_cell) { window._pyforest_update_imports_cell('import numpy as np'); }\n",
       "    "
      ],
      "text/plain": [
       "<IPython.core.display.Javascript object>"
      ]
     },
     "metadata": {},
     "output_type": "display_data"
    },
    {
     "data": {
      "text/plain": [
       "0.159"
      ]
     },
     "execution_count": 13,
     "metadata": {},
     "output_type": "execute_result"
    }
   ],
   "source": [
    "p85=np.round(norm.cdf(85,mean,std),3)\n",
    "p85"
   ]
  },
  {
   "cell_type": "code",
   "execution_count": 11,
   "id": "7e52e369-cd40-487f-ae26-faed89947eb7",
   "metadata": {},
   "outputs": [
    {
     "data": {
      "application/javascript": [
       "\n",
       "        if (window._pyforest_update_imports_cell) { window._pyforest_update_imports_cell('import numpy as np'); }\n",
       "    "
      ],
      "text/plain": [
       "<IPython.core.display.Javascript object>"
      ]
     },
     "metadata": {},
     "output_type": "display_data"
    },
    {
     "data": {
      "text/plain": [
       "0.841"
      ]
     },
     "execution_count": 11,
     "metadata": {},
     "output_type": "execute_result"
    }
   ],
   "source": [
    "p115=np.round(norm.cdf(115,mean,std),3)\n",
    "p115"
   ]
  },
  {
   "cell_type": "code",
   "execution_count": 15,
   "id": "aa8943a6-626f-4c45-937d-9518b6a0e090",
   "metadata": {},
   "outputs": [
    {
     "data": {
      "text/plain": [
       "0.6819999999999999"
      ]
     },
     "execution_count": 15,
     "metadata": {},
     "output_type": "execute_result"
    }
   ],
   "source": [
    "prob=p115-p85\n",
    "prob"
   ]
  },
  {
   "cell_type": "code",
   "execution_count": 31,
   "id": "91356f4b-e25a-457f-955a-94ad315ef229",
   "metadata": {},
   "outputs": [
    {
     "data": {
      "application/javascript": [
       "\n",
       "        if (window._pyforest_update_imports_cell) { window._pyforest_update_imports_cell('import numpy as np'); }\n",
       "    "
      ],
      "text/plain": [
       "<IPython.core.display.Javascript object>"
      ]
     },
     "metadata": {},
     "output_type": "display_data"
    },
    {
     "data": {
      "text/plain": [
       "68"
      ]
     },
     "execution_count": 31,
     "metadata": {},
     "output_type": "execute_result"
    }
   ],
   "source": [
    "percent=np.round(prob*100)\n",
    "percentage=int(percent)\n",
    "percentage"
   ]
  },
  {
   "cell_type": "code",
   "execution_count": 33,
   "id": "74203076-e0ca-4b2b-865b-cbb1533473fd",
   "metadata": {},
   "outputs": [
    {
     "name": "stdout",
     "output_type": "stream",
     "text": [
      "Approximately 68 of the data lies between 85 and 115.\n"
     ]
    }
   ],
   "source": [
    "print(f\"Approximately {percentage} of the data lies between 85 and 115.\")"
   ]
  },
  {
   "cell_type": "code",
   "execution_count": null,
   "id": "415f5226-a952-403c-8423-bc8292e29132",
   "metadata": {},
   "outputs": [],
   "source": []
  }
 ],
 "metadata": {
  "kernelspec": {
   "display_name": "Python 3 (ipykernel)",
   "language": "python",
   "name": "python3"
  },
  "language_info": {
   "codemirror_mode": {
    "name": "ipython",
    "version": 3
   },
   "file_extension": ".py",
   "mimetype": "text/x-python",
   "name": "python",
   "nbconvert_exporter": "python",
   "pygments_lexer": "ipython3",
   "version": "3.12.4"
  }
 },
 "nbformat": 4,
 "nbformat_minor": 5
}
