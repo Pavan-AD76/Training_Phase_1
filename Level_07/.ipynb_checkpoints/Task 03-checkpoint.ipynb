{
 "cells": [
  {
   "cell_type": "markdown",
   "id": "b9999b7b-d7b8-4222-8383-f7822b6b3c95",
   "metadata": {},
   "source": [
    "## Task 3: One-Sample T-Test"
   ]
  },
  {
   "cell_type": "code",
   "execution_count": 17,
   "id": "16236a36-73aa-483e-b7bb-f63683d80355",
   "metadata": {},
   "outputs": [],
   "source": [
    "import numpy as np\n",
    "from scipy.stats import ttest_1samp"
   ]
  },
  {
   "cell_type": "code",
   "execution_count": 19,
   "id": "b9eba087-e12d-4bdc-8514-3d77e6e7071e",
   "metadata": {},
   "outputs": [
    {
     "data": {
      "text/plain": [
       "array([118.28738793, 159.94690893, 145.65956996, 109.87410572,\n",
       "       128.42799496, 173.02873074,  91.46641513, 131.42174742,\n",
       "       165.31872517, 122.66519195, 126.42227697, 138.10582062,\n",
       "       169.82779252, 127.22196007, 131.12036081, 131.31297449,\n",
       "       184.11860165, 183.73572178, 160.08107796, 147.72372798,\n",
       "       154.74737152, 169.81464056, 121.28332263, 163.5165809 ,\n",
       "       114.92238665, 127.24496995, 158.14210392, 111.426386  ,\n",
       "       137.1986256 , 122.76490208])"
      ]
     },
     "execution_count": 19,
     "metadata": {},
     "output_type": "execute_result"
    }
   ],
   "source": [
    "np.random.seed(123)\n",
    "data=np.random.normal(140,20,30)\n",
    "data"
   ]
  },
  {
   "cell_type": "code",
   "execution_count": 21,
   "id": "e8a5d2d4-1d90-4cda-9b01-6303671d2971",
   "metadata": {},
   "outputs": [],
   "source": [
    "T_test,p_value=ttest_1samp(data,popmean=100)"
   ]
  },
  {
   "cell_type": "code",
   "execution_count": 23,
   "id": "7d24cd68-a002-41ee-84c1-c76e2531a98c",
   "metadata": {},
   "outputs": [
    {
     "name": "stdout",
     "output_type": "stream",
     "text": [
      "T-Test= 9.433418193186226\n",
      "P-Value= 2.4369130346221736e-10\n",
      "Reject H₀; medication increases IQ (mean = 140 > 100).\n"
     ]
    }
   ],
   "source": [
    "α=0.05\n",
    "print(\"T-Test=\",T_test)\n",
    "print(\"P-Value=\",p_value)\n",
    "if p_value<α:\n",
    "    print(\"Reject H₀; medication increases IQ (mean = 140 > 100).\")\n",
    "else:\n",
    "    print(\"Accept H₀\")"
   ]
  },
  {
   "cell_type": "code",
   "execution_count": null,
   "id": "4125c38c-50fa-4f60-8e77-7fcccbf514b5",
   "metadata": {},
   "outputs": [],
   "source": []
  }
 ],
 "metadata": {
  "kernelspec": {
   "display_name": "Python 3 (ipykernel)",
   "language": "python",
   "name": "python3"
  },
  "language_info": {
   "codemirror_mode": {
    "name": "ipython",
    "version": 3
   },
   "file_extension": ".py",
   "mimetype": "text/x-python",
   "name": "python",
   "nbconvert_exporter": "python",
   "pygments_lexer": "ipython3",
   "version": "3.12.4"
  }
 },
 "nbformat": 4,
 "nbformat_minor": 5
}
