{
 "cells": [
  {
   "cell_type": "markdown",
   "id": "9dae388f-3157-4393-9a6a-38b933d83dfe",
   "metadata": {},
   "source": [
    "## Task 8: Binomial Distribution Simulation"
   ]
  },
  {
   "cell_type": "code",
   "execution_count": 2,
   "id": "296c7931-4488-40d9-a5ee-b305a58c3e9f",
   "metadata": {},
   "outputs": [],
   "source": [
    "import numpy as np\n",
    "import matplotlib.pyplot as plt"
   ]
  },
  {
   "cell_type": "code",
   "execution_count": 4,
   "id": "c046367f-a2e8-4dcd-addc-38e2987a7225",
   "metadata": {},
   "outputs": [
    {
     "data": {
      "text/plain": [
       "array([6, 5, 6, 4, 9, 5, 6, 7, 4, 8, 6, 6, 5, 6, 2, 6, 5, 7, 5, 6, 3, 4,\n",
       "       5, 5, 4, 7, 6, 5, 5, 4, 5, 7, 4, 3, 5, 5, 6, 4, 6, 2, 4, 5, 6, 7,\n",
       "       7, 5, 5, 5, 4, 6, 3, 5, 5, 3, 2, 5, 5, 1, 9, 4, 4, 7, 4, 6, 3, 5,\n",
       "       6, 7, 4, 5, 3, 5, 3, 6, 4, 7, 6, 4, 4, 7, 5, 5, 4, 5, 7, 6, 3, 4,\n",
       "       7, 7, 6, 3, 5, 4, 7, 6, 4, 6, 4, 6, 7, 6, 4, 4, 7, 5, 3, 4, 5, 5,\n",
       "       5, 3, 4, 4, 5, 4, 7, 4, 8, 6, 1, 5, 6, 4, 8, 7, 3, 4, 5, 7, 3, 5,\n",
       "       6, 5, 3, 6, 3, 4, 4, 2, 4, 5, 4, 4, 7, 5, 4, 4, 6, 7, 3, 9, 6, 7,\n",
       "       5, 7, 6, 6, 5, 6, 6, 3, 7, 7, 4, 3, 5, 5, 8, 6, 7, 7, 6, 7, 6, 5,\n",
       "       7, 4, 5, 4, 8, 8, 3, 4, 4, 5, 5, 4, 4, 9, 3, 7, 3, 8, 6, 6, 8, 6,\n",
       "       5, 3, 7, 7, 7, 4, 7, 4, 5, 4, 1, 3, 7, 6, 5, 8, 4, 5, 7, 6, 5, 6,\n",
       "       8, 7, 5, 4, 4, 5, 4, 7, 3, 6, 4, 6, 5, 7, 4, 4, 6, 4, 5, 4, 4, 6,\n",
       "       5, 4, 6, 5, 7, 5, 4, 3, 5, 5, 3, 5, 7, 4, 7, 7, 5, 6, 5, 4, 5, 7,\n",
       "       4, 4, 7, 8, 5, 4, 6, 5, 3, 5, 7, 5, 7, 6, 4, 3, 4, 5, 7, 6, 5, 6,\n",
       "       5, 6, 3, 4, 4, 6, 7, 5, 5, 4, 4, 7, 5, 2, 4, 7, 4, 5, 5, 5, 2, 6,\n",
       "       8, 3, 3, 5, 6, 5, 6, 5, 5, 6, 8, 4, 4, 4, 8, 8, 6, 4, 7, 4, 4, 6,\n",
       "       5, 4, 4, 7, 4, 4, 5, 4, 3, 5, 4, 4, 4, 5, 5, 6, 4, 5, 6, 6, 5, 5,\n",
       "       6, 7, 5, 4, 2, 4, 4, 5, 6, 3, 5, 5, 4, 4, 3, 6, 5, 5, 7, 4, 4, 4,\n",
       "       5, 5, 4, 4, 3, 8, 6, 4, 7, 7, 4, 7, 6, 5, 2, 4, 6, 4, 5, 5, 6, 7,\n",
       "       5, 6, 6, 7, 6, 7, 1, 6, 4, 5, 5, 5, 7, 7, 5, 5, 4, 8, 7, 4, 4, 9,\n",
       "       5, 7, 6, 5, 4, 5, 5, 4, 3, 5, 5, 4, 4, 9, 3, 6, 4, 3, 3, 5, 5, 5,\n",
       "       3, 6, 8, 6, 8, 7, 6, 8, 5, 6, 5, 6, 6, 3, 5, 5, 7, 4, 4, 5, 2, 3,\n",
       "       7, 6, 5, 7, 5, 3, 4, 5, 5, 5, 6, 2, 5, 4, 5, 4, 5, 8, 7, 6, 3, 7,\n",
       "       4, 4, 4, 3, 8, 4, 4, 2, 4, 4, 6, 3, 4, 6, 6, 7, 6, 7, 6, 8, 5, 4,\n",
       "       4, 6, 5, 3, 5, 2, 5, 4, 5, 4, 5, 5, 6, 5, 5, 5, 5, 8, 4, 5, 6, 4,\n",
       "       4, 9, 6, 4, 7, 4, 3, 3, 6, 3, 7, 5, 8, 3, 5, 4, 5, 2, 5, 3, 6, 2,\n",
       "       4, 5, 4, 3, 4, 6, 5, 6, 6, 7, 6, 5, 4, 3, 5, 6, 6, 3, 5, 4, 6, 6,\n",
       "       5, 6, 4, 4, 6, 2, 4, 4, 5, 5, 3, 8, 5, 6, 6, 6, 6, 6, 4, 5, 8, 4,\n",
       "       5, 7, 7, 7, 4, 2, 3, 3, 4, 4, 4, 2, 4, 5, 4, 5, 7, 3, 4, 4, 4, 5,\n",
       "       2, 5, 6, 5, 6, 6, 5, 3, 6, 4, 7, 3, 7, 2, 4, 3, 3, 6, 3, 5, 7, 4,\n",
       "       8, 6, 3, 4, 2, 7, 5, 7, 2, 3, 4, 7, 5, 7, 7, 6, 4, 4, 4, 4, 4, 6,\n",
       "       7, 4, 5, 4, 3, 4, 6, 8, 7, 7, 7, 4, 2, 3, 6, 5, 3, 4, 6, 6, 4, 4,\n",
       "       6, 5, 1, 4, 4, 5, 2, 6, 5, 4, 5, 3, 5, 5, 5, 6, 5, 9, 6, 7, 3, 5,\n",
       "       3, 4, 3, 4, 6, 3, 3, 8, 5, 5, 3, 3, 7, 6, 3, 5, 6, 6, 3, 3, 3, 7,\n",
       "       3, 6, 6, 3, 8, 5, 4, 3, 4, 6, 6, 4, 6, 5, 4, 8, 5, 4, 4, 6, 5, 4,\n",
       "       4, 5, 7, 6, 6, 6, 8, 2, 3, 3, 6, 8, 8, 4, 3, 5, 4, 4, 5, 3, 5, 5,\n",
       "       3, 2, 2, 6, 5, 6, 6, 3, 7, 8, 6, 5, 4, 2, 5, 4, 6, 5, 5, 3, 4, 4,\n",
       "       3, 7, 3, 5, 4, 7, 5, 3, 7, 6, 6, 9, 5, 4, 4, 5, 6, 5, 4, 7, 4, 7,\n",
       "       3, 6, 7, 6, 5, 4, 5, 6, 8, 3, 5, 4, 3, 4, 6, 6, 3, 6, 6, 7, 4, 6,\n",
       "       5, 4, 6, 6, 6, 6, 5, 7, 7, 7, 5, 5, 4, 7, 4, 4, 6, 6, 6, 5, 6, 7,\n",
       "       7, 6, 6, 7, 5, 5, 4, 4, 6, 4, 7, 3, 4, 7, 2, 5, 7, 3, 8, 6, 5, 5,\n",
       "       5, 6, 6, 6, 9, 3, 3, 9, 7, 6, 6, 4, 4, 6, 4, 5, 5, 7, 3, 8, 5, 5,\n",
       "       3, 6, 4, 5, 3, 5, 4, 5, 5, 4, 4, 5, 8, 4, 5, 2, 5, 8, 8, 4, 8, 6,\n",
       "       3, 5, 6, 4, 4, 6, 7, 7, 7, 4, 6, 5, 6, 7, 5, 3, 7, 7, 5, 9, 7, 4,\n",
       "       4, 3, 5, 7, 4, 5, 3, 3, 8, 7, 8, 6, 5, 3, 5, 3, 2, 7, 6, 5, 4, 5,\n",
       "       4, 7, 5, 5, 5, 4, 4, 7, 5, 4, 7, 5, 5, 6, 2, 5, 5, 2, 5, 4, 3, 8,\n",
       "       5, 5, 5, 4, 3, 5, 4, 6, 6, 5])"
      ]
     },
     "execution_count": 4,
     "metadata": {},
     "output_type": "execute_result"
    }
   ],
   "source": [
    "data=np.random.binomial(n=10,p=0.5,size=1000)\n",
    "data"
   ]
  },
  {
   "cell_type": "code",
   "execution_count": 8,
   "id": "8ef889ad-1d5f-4472-9107-9f0bca31cebc",
   "metadata": {},
   "outputs": [
    {
     "data": {
      "image/png": "[encoded data removed]",
      "text/plain": [
       "<Figure size 640x480 with 1 Axes>"
      ]
     },
     "metadata": {},
     "output_type": "display_data"
    }
   ],
   "source": [
    "plt.hist(data,bins=range(12),density=True)\n",
    "plt.show()"
   ]
  },
  {
   "cell_type": "code",
   "execution_count": 16,
   "id": "c619b761-9619-45eb-93d7-d0d8ef88d27a",
   "metadata": {},
   "outputs": [
    {
     "data": {
      "text/plain": [
       "5.0"
      ]
     },
     "execution_count": 16,
     "metadata": {},
     "output_type": "execute_result"
    }
   ],
   "source": [
    "mean=np.round(data.mean())\n",
    "mean"
   ]
  },
  {
   "cell_type": "code",
   "execution_count": 24,
   "id": "591312e7-27fa-4757-acde-cf23ef67f81a",
   "metadata": {},
   "outputs": [
    {
     "name": "stdout",
     "output_type": "stream",
     "text": [
      "Histogram peaking near 5.0, mean ≈ 5.0, Matches binomial expectation (n × p = 5.0)\n"
     ]
    }
   ],
   "source": [
    "print(f\"Histogram peaking near {mean}, mean ≈ {mean}, Matches binomial expectation (n × p = {mean})\")\n"
   ]
  },
  {
   "cell_type": "code",
   "execution_count": null,
   "id": "c7805187-c7b8-4e8e-9754-3db5684bb02a",
   "metadata": {},
   "outputs": [],
   "source": []
  }
 ],
 "metadata": {
  "kernelspec": {
   "display_name": "Python 3 (ipykernel)",
   "language": "python",
   "name": "python3"
  },
  "language_info": {
   "codemirror_mode": {
    "name": "ipython",
    "version": 3
   },
   "file_extension": ".py",
   "mimetype": "text/x-python",
   "name": "python",
   "nbconvert_exporter": "python",
   "pygments_lexer": "ipython3",
   "version": "3.12.4"
  }
 },
 "nbformat": 4,
 "nbformat_minor": 5
}
