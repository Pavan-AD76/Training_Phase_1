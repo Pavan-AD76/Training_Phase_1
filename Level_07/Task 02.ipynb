{
 "cells": [
  {
   "cell_type": "markdown",
   "id": "02348646-187e-44a7-89fa-b332ac598533",
   "metadata": {},
   "source": [
    "## Task 2: Two-Sample Z-Test"
   ]
  },
  {
   "cell_type": "code",
   "execution_count": 17,
   "id": "ecc62dd2-aeda-47ca-9f56-edaf870224cc",
   "metadata": {},
   "outputs": [],
   "source": [
    "import numpy as np\n",
    "from statsmodels.stats.weightstats import ztest as ztest"
   ]
  },
  {
   "cell_type": "code",
   "execution_count": 25,
   "id": "26d5f3e3-2c62-44ee-93b1-260a3bf65d5f",
   "metadata": {},
   "outputs": [
    {
     "name": "stdout",
     "output_type": "stream",
     "text": [
      "Traditional Scores:\n",
      " [64.14369397 84.97345447 77.82978498 59.93705286 69.21399748 91.51436537\n",
      " 50.73320757 70.71087371 87.65936259 66.33259598 68.21113848 74.05291031\n",
      " 89.91389626 68.61098003 70.5601804  70.65648724 97.05930083 96.86786089\n",
      " 85.04053898 78.86186399 82.37368576 89.90732028 65.64166132 86.75829045\n",
      " 62.46119332 68.62248498 84.07105196 60.713193   73.5993128  66.38245104\n",
      " 72.44380629 47.01410895 57.28466895 68.00122765 84.27462432 73.26364317\n",
      " 75.02845916 81.88222711 66.20463657 77.83627324]\n",
      "New score:\n",
      " [ 72.33560178  61.26796607  77.30920247  88.88567035  86.06306861\n",
      "  81.85803407 110.70838319  86.95494592  93.74483207 108.85772006\n",
      "  66.47097612  69.53454148 102.9245467   72.42324718  82.35619876\n",
      "  94.83179163  92.6884767  103.05863418  99.94772964  94.83271204\n",
      "  72.72749543  91.53835201  85.77126393  66.08481448  99.00758856\n",
      "  91.68683841  82.54588097  79.20289527  67.62038626  84.39428888\n",
      "  87.62126943  72.02614019  95.94644859  68.83356344  56.5227958 ]\n"
     ]
    }
   ],
   "source": [
    "np.random.seed(123)\n",
    "traditional_scores = np.random.normal(75, 10, 40)\n",
    "new_method_scores=np.random.normal(82,12,35)\n",
    "print(\"Traditional Scores:\\n\",traditional_scores)\n",
    "print(\"New score:\\n\",new_method_scores)"
   ]
  },
  {
   "cell_type": "code",
   "execution_count": 27,
   "id": "d05929e8-fd81-4d6d-ae0c-34cb24419f09",
   "metadata": {},
   "outputs": [],
   "source": [
    "z_test,p_value=ztest(traditional_scores,new_method_scores,alternative=\"larger\")"
   ]
  },
  {
   "cell_type": "code",
   "execution_count": 29,
   "id": "45bb8908-2117-41ba-b6f1-ba5dd7357eb3",
   "metadata": {},
   "outputs": [
    {
     "name": "stdout",
     "output_type": "stream",
     "text": [
      "Z_test: -3.4089303012826258\n",
      "P-Value: 0.9996739092991161\n",
      "Accept H₀, meaning there is no strong evidence that the new method improves scores.\n"
     ]
    }
   ],
   "source": [
    "α=0.05\n",
    "print(\"Z_test:\",z_test)\n",
    "print(\"P-Value:\",p_value)\n",
    "if p_value<α:\n",
    "    print(\"Reject H₀: The new teaching method significantly increases test scores.\")\n",
    "else:\n",
    "    print(\"Accept H₀, meaning there is no strong evidence that the new method improves scores.\")"
   ]
  },
  {
   "cell_type": "code",
   "execution_count": null,
   "id": "e0684e1f-6dfd-4bd0-a0fb-bc9fe04b4a98",
   "metadata": {},
   "outputs": [],
   "source": []
  }
 ],
 "metadata": {
  "kernelspec": {
   "display_name": "Python 3 (ipykernel)",
   "language": "python",
   "name": "python3"
  },
  "language_info": {
   "codemirror_mode": {
    "name": "ipython",
    "version": 3
   },
   "file_extension": ".py",
   "mimetype": "text/x-python",
   "name": "python",
   "nbconvert_exporter": "python",
   "pygments_lexer": "ipython3",
   "version": "3.12.4"
  }
 },
 "nbformat": 4,
 "nbformat_minor": 5
}
