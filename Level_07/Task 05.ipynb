{
 "cells": [
  {
   "cell_type": "markdown",
   "id": "07b10d89-7cc5-46da-8cdb-8f33b633d78d",
   "metadata": {},
   "source": [
    "## Task 5: Covariance Calculation"
   ]
  },
  {
   "cell_type": "code",
   "execution_count": 2,
   "id": "e2ff2acb-9669-4f66-a3ff-98ca6fdd4a2c",
   "metadata": {},
   "outputs": [],
   "source": [
    "import numpy as np"
   ]
  },
  {
   "cell_type": "code",
   "execution_count": 6,
   "id": "181d545c-ad67-47bd-8998-6bc8ceb0e816",
   "metadata": {},
   "outputs": [],
   "source": [
    "height = np.array([160, 170, 180, 175])\n",
    "weight = np.array([60, 70, 75, 65])"
   ]
  },
  {
   "cell_type": "code",
   "execution_count": 10,
   "id": "e9ab1546-6753-42ab-a8e3-91fce19f2cea",
   "metadata": {},
   "outputs": [
    {
     "data": {
      "text/plain": [
       "45.83333333333333"
      ]
     },
     "execution_count": 10,
     "metadata": {},
     "output_type": "execute_result"
    }
   ],
   "source": [
    "cov=np.cov(height,weight)[0,1]"
   ]
  },
  {
   "cell_type": "code",
   "execution_count": 14,
   "id": "f65f3eee-c56f-4909-a9e2-3f3f988c4570",
   "metadata": {},
   "outputs": [
    {
     "name": "stdout",
     "output_type": "stream",
     "text": [
      "Covariance= 45.83333333333333\n",
      "Positive covariance; as height increases, weight tends to increase\n"
     ]
    }
   ],
   "source": [
    "print(\"Covariance=\",cov)\n",
    "if cov>0:\n",
    "    print(\"Positive covariance; as height increases, weight tends to increase\")\n",
    "elif cov<0:\n",
    "    print(\"Negative covariance\")\n",
    "else:\n",
    "    print(\"No Relationa between height and weight\")"
   ]
  },
  {
   "cell_type": "code",
   "execution_count": null,
   "id": "e9d2a5aa-9e40-4dd5-852c-695bfc0597fb",
   "metadata": {},
   "outputs": [],
   "source": []
  }
 ],
 "metadata": {
  "kernelspec": {
   "display_name": "Python 3 (ipykernel)",
   "language": "python",
   "name": "python3"
  },
  "language_info": {
   "codemirror_mode": {
    "name": "ipython",
    "version": 3
   },
   "file_extension": ".py",
   "mimetype": "text/x-python",
   "name": "python",
   "nbconvert_exporter": "python",
   "pygments_lexer": "ipython3",
   "version": "3.12.4"
  }
 },
 "nbformat": 4,
 "nbformat_minor": 5
}
