{
 "cells": [
  {
   "cell_type": "markdown",
   "id": "0489b1a5-14cb-4d6c-8814-3d1b094d90b9",
   "metadata": {},
   "source": [
    "## Task 4: Chi-Square Test"
   ]
  },
  {
   "cell_type": "code",
   "execution_count": 10,
   "id": "d758f469-aede-49d9-8600-b3619ae687a7",
   "metadata": {},
   "outputs": [],
   "source": [
    "from scipy.stats import stats"
   ]
  },
  {
   "cell_type": "code",
   "execution_count": 12,
   "id": "178e719f-da9c-4a5f-9cd7-85b59470e6e5",
   "metadata": {},
   "outputs": [],
   "source": [
    "observed = [121, 288, 91]\n",
    "expected=[100,150,250]"
   ]
  },
  {
   "cell_type": "code",
   "execution_count": 14,
   "id": "7473d2a6-1b92-4642-8154-14dffec4bf57",
   "metadata": {},
   "outputs": [
    {
     "name": "stderr",
     "output_type": "stream",
     "text": [
      "C:\\Users\\nithy\\AppData\\Local\\Temp\\ipykernel_45100\\1836389717.py:1: DeprecationWarning: Please import `chisquare` from the `scipy.stats` namespace; the `scipy.stats.stats` namespace is deprecated and will be removed in SciPy 2.0.0.\n",
      "  chi_value,p_value=stats.chisquare(observed,expected)\n"
     ]
    }
   ],
   "source": [
    "chi_value,p_value=stats.chisquare(observed,expected)"
   ]
  },
  {
   "cell_type": "code",
   "execution_count": 16,
   "id": "a939a6e3-a1e1-46af-9ff8-d1e016bbf25b",
   "metadata": {},
   "outputs": [
    {
     "name": "stdout",
     "output_type": "stream",
     "text": [
      "Chi_Square: 232.494\n",
      "P-value: 3.270162712012095e-51\n",
      "Reject H₀; age distribution changed.\n"
     ]
    }
   ],
   "source": [
    "α=0.05\n",
    "print(\"Chi_Square:\",chi_value)\n",
    "print(\"P-value:\",p_value)\n",
    "if p_value<α:\n",
    "    print(\"Reject H₀; age distribution changed.\")\n",
    "else:\n",
    "    print(\"Acccept H₀\")"
   ]
  },
  {
   "cell_type": "code",
   "execution_count": null,
   "id": "e57373ec-d02a-4740-9ffe-8d1ffb8c142c",
   "metadata": {},
   "outputs": [],
   "source": []
  }
 ],
 "metadata": {
  "kernelspec": {
   "display_name": "Python 3 (ipykernel)",
   "language": "python",
   "name": "python3"
  },
  "language_info": {
   "codemirror_mode": {
    "name": "ipython",
    "version": 3
   },
   "file_extension": ".py",
   "mimetype": "text/x-python",
   "name": "python",
   "nbconvert_exporter": "python",
   "pygments_lexer": "ipython3",
   "version": "3.12.4"
  }
 },
 "nbformat": 4,
 "nbformat_minor": 5
}
