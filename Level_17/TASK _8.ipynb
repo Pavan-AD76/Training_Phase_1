{
 "cells": [
  {
   "cell_type": "markdown",
   "metadata": {
    "application/vnd.databricks.v1+cell": {
     "cellMetadata": {},
     "inputWidgets": {},
     "nuid": "c0f9f6f5-9992-41e8-932d-9e1e2f4e5cdd",
     "showTitle": false,
     "tableResultSettingsMap": {},
     "title": ""
    }
   },
   "source": [
    "### TASK_8"
   ]
  },
  {
   "cell_type": "code",
   "execution_count": 0,
   "metadata": {
    "application/vnd.databricks.v1+cell": {
     "cellMetadata": {
      "byteLimit": 2048000,
      "rowLimit": 10000
     },
     "inputWidgets": {},
     "nuid": "9d4e0357-feac-4fb2-9b08-a38078f4ebd2",
     "showTitle": false,
     "tableResultSettingsMap": {},
     "title": ""
    }
   },
   "outputs": [
    {
     "output_type": "stream",
     "name": "stdout",
     "output_type": "stream",
     "text": [
      "=== Commentary Data ===\n+--------+------+-------------------------------------------------------------+\n|match_id|team  |playing11                                                    |\n+--------+------+-------------------------------------------------------------+\n|1       |Team A|[Rohit Sharma, Jasprit Bumrah, Hardik Pandya, Virat Kohli]   |\n|2       |Team B|[Bhuvneshwar Kumar, Ravindra Jadeja, MS Dhoni, Kuldeep Yadav]|\n+--------+------+-------------------------------------------------------------+\n\n"
     ]
    }
   ],
   "source": [
    "from pyspark.sql import SparkSession\n",
    "from pyspark.sql.functions import explode\n",
    "spark = SparkSession.builder.appName(\"Explode and Join Example\").getOrCreate()\n",
    "commentary_data = [\n",
    "    (\"1\", \"Team A\", [\"Rohit Sharma\", \"Jasprit Bumrah\", \"Hardik Pandya\", \"Virat Kohli\"]),\n",
    "    (\"2\", \"Team B\", [\"Bhuvneshwar Kumar\", \"Ravindra Jadeja\", \"MS Dhoni\", \"Kuldeep Yadav\"])\n",
    "]\n",
    "commentary_columns = [\"match_id\", \"team\", \"playing11\"]\n",
    "commentary_df = spark.createDataFrame(commentary_data, commentary_columns)\n",
    "print(\"=== Commentary Data ===\")\n",
    "commentary_df.show(truncate=False)"
   ]
  },
  {
   "cell_type": "code",
   "execution_count": 0,
   "metadata": {
    "application/vnd.databricks.v1+cell": {
     "cellMetadata": {
      "byteLimit": 2048000,
      "rowLimit": 10000
     },
     "inputWidgets": {},
     "nuid": "7b278ec9-3f98-4c57-8a83-7cdfe56ec920",
     "showTitle": false,
     "tableResultSettingsMap": {},
     "title": ""
    }
   },
   "outputs": [
    {
     "output_type": "stream",
     "name": "stdout",
     "output_type": "stream",
     "text": [
      "=== Player Info ===\n+-----------------+------------+----------+\n|player_name      |role        |is_captain|\n+-----------------+------------+----------+\n|Rohit Sharma     |Batsman     |No        |\n|Jasprit Bumrah   |Bowler      |No        |\n|Hardik Pandya    |Allrounder  |No        |\n|Virat Kohli      |Batsman     |Yes       |\n|Bhuvneshwar Kumar|Bowler      |No        |\n|Ravindra Jadeja  |Allrounder  |No        |\n|MS Dhoni         |Wicketkeeper|Yes       |\n|Kuldeep Yadav    |Bowler      |No        |\n+-----------------+------------+----------+\n\n"
     ]
    }
   ],
   "source": [
    "player_info_data = [\n",
    "    (\"Rohit Sharma\", \"Batsman\", \"No\"),\n",
    "    (\"Jasprit Bumrah\", \"Bowler\", \"No\"),\n",
    "    (\"Hardik Pandya\", \"Allrounder\", \"No\"),\n",
    "    (\"Virat Kohli\", \"Batsman\", \"Yes\"),\n",
    "    (\"Bhuvneshwar Kumar\", \"Bowler\", \"No\"),\n",
    "    (\"Ravindra Jadeja\", \"Allrounder\", \"No\"),\n",
    "    (\"MS Dhoni\", \"Wicketkeeper\", \"Yes\"),\n",
    "    (\"Kuldeep Yadav\", \"Bowler\", \"No\")\n",
    "]\n",
    "player_info_columns = [\"player_name\", \"role\", \"is_captain\"]\n",
    "player_info_df = spark.createDataFrame(player_info_data, player_info_columns)\n",
    "print(\"=== Player Info ===\")\n",
    "player_info_df.show(truncate=False)"
   ]
  },
  {
   "cell_type": "code",
   "execution_count": 0,
   "metadata": {
    "application/vnd.databricks.v1+cell": {
     "cellMetadata": {
      "byteLimit": 2048000,
      "rowLimit": 10000
     },
     "inputWidgets": {},
     "nuid": "254833c6-bc09-4ca5-b6a4-3f14a5583638",
     "showTitle": false,
     "tableResultSettingsMap": {},
     "title": ""
    }
   },
   "outputs": [
    {
     "output_type": "stream",
     "name": "stdout",
     "output_type": "stream",
     "text": [
      "=== Captains Info ===\n+--------+------+-----------+------------+----------+\n|match_id|team  |player_name|role        |is_captain|\n+--------+------+-----------+------------+----------+\n|2       |Team B|MS Dhoni   |Wicketkeeper|Yes       |\n|1       |Team A|Virat Kohli|Batsman     |Yes       |\n+--------+------+-----------+------------+----------+\n\n"
     ]
    }
   ],
   "source": [
    "exploded_players_df = commentary_df.select(\"match_id\",\"team\",explode(\"playing11\").alias(\"player_name\"))\n",
    "joined_df = exploded_players_df.join(player_info_df,on=\"player_name\",how=\"left\")\n",
    "captains_df = joined_df.filter(joined_df[\"is_captain\"] == \"Yes\")\n",
    "print(\"=== Captains Info ===\")\n",
    "captains_df.select(\"match_id\", \"team\", \"player_name\", \"role\", \"is_captain\").show(truncate=False)"
   ]
  }
 ],
 "metadata": {
  "application/vnd.databricks.v1+notebook": {
   "computePreferences": null,
   "dashboards": [],
   "environmentMetadata": {
    "base_environment": "",
    "environment_version": "1"
   },
   "inputWidgetPreferences": null,
   "language": "python",
   "notebookMetadata": {
    "pythonIndentUnit": 4
   },
   "notebookName": "TASK _8",
   "widgets": {}
  }
 },
 "nbformat": 4,
 "nbformat_minor": 0
}