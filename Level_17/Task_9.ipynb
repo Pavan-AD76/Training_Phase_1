{
 "cells": [
  {
   "cell_type": "markdown",
   "metadata": {
    "application/vnd.databricks.v1+cell": {
     "cellMetadata": {},
     "inputWidgets": {},
     "nuid": "5cdb40c5-7e25-493a-b888-497292fc049f",
     "showTitle": false,
     "tableResultSettingsMap": {},
     "title": ""
    }
   },
   "source": [
    "### Task_9"
   ]
  },
  {
   "cell_type": "code",
   "execution_count": 0,
   "metadata": {
    "application/vnd.databricks.v1+cell": {
     "cellMetadata": {
      "byteLimit": 2048000,
      "rowLimit": 10000
     },
     "inputWidgets": {},
     "nuid": "d98db474-7f47-45b7-b4b0-b09e68e209bc",
     "showTitle": false,
     "tableResultSettingsMap": {},
     "title": ""
    }
   },
   "outputs": [
    {
     "output_type": "stream",
     "name": "stdout",
     "output_type": "stream",
     "text": [
      "Out[11]: Row(match_id='335982', inning='1', batting_team='Kolkata Knight Riders', bowling_team='Royal Challengers Bangalore', over='0', ball='1', batter='SC Ganguly', bowler='P Kumar', non_striker='BB McCullum', batsman_runs='0', extra_runs='1', total_runs='1', extras_type='legbyes', is_wicket='0', player_dismissed=None, dismissal_kind=None, fielder=None)"
     ]
    }
   ],
   "source": [
    "from pyspark.sql import SparkSession\n",
    "from pyspark.sql.functions import col, sum as _sum\n",
    "from pyspark.sql.window import Window\n",
    "spark = SparkSession.builder.appName(\"Cumulative Score\").getOrCreate()\n",
    "df = spark.read.option(\"header\", True).csv(\"/FileStore/tables/ipl_sample_deliveries.csv\")\n",
    "df.head()"
   ]
  },
  {
   "cell_type": "code",
   "execution_count": 0,
   "metadata": {
    "application/vnd.databricks.v1+cell": {
     "cellMetadata": {
      "byteLimit": 2048000,
      "rowLimit": 10000
     },
     "inputWidgets": {},
     "nuid": "f2b4f894-93f0-41b5-a0e9-a8f12d2dd1e2",
     "showTitle": false,
     "tableResultSettingsMap": {},
     "title": ""
    }
   },
   "outputs": [
    {
     "output_type": "stream",
     "name": "stdout",
     "output_type": "stream",
     "text": [
      "+--------+------+----+----+----------+----------------+\n|match_id|inning|over|ball|total_runs|cumulative_score|\n+--------+------+----+----+----------+----------------+\n|335982  |1     |0   |1   |1         |1               |\n|335982  |1     |0   |2   |0         |1               |\n|335982  |1     |0   |3   |1         |2               |\n|335982  |1     |0   |4   |0         |2               |\n|335982  |1     |0   |5   |0         |2               |\n|335982  |1     |0   |6   |1         |3               |\n|335982  |1     |1   |1   |2         |5               |\n|335982  |1     |1   |2   |0         |5               |\n|335982  |1     |1   |3   |4         |9               |\n|335982  |1     |1   |4   |6         |15              |\n|335982  |1     |1   |5   |1         |16              |\n|335982  |1     |1   |6   |3         |19              |\n|335982  |1     |2   |1   |0         |19              |\n|335982  |1     |2   |2   |1         |20              |\n|335982  |1     |2   |3   |1         |21              |\n|335982  |1     |2   |4   |2         |23              |\n|335982  |1     |2   |5   |0         |23              |\n|335982  |1     |2   |6   |4         |27              |\n|335982  |1     |3   |1   |0         |27              |\n|335982  |1     |3   |2   |6         |33              |\n+--------+------+----+----+----------+----------------+\n\n"
     ]
    }
   ],
   "source": [
    "window_spec = Window.partitionBy(\"match_id\", \"inning\") \\\n",
    "                    .orderBy(col(\"over\").cast(\"int\"), col(\"ball\").cast(\"int\")) \\\n",
    "                    .rowsBetween(Window.unboundedPreceding, Window.currentRow)\n",
    "df_with_cumulative = df.withColumn(\"cumulative_score\",_sum(col(\"total_runs\").cast(\"int\")).over(window_spec))\n",
    "df_with_cumulative.select(\"match_id\", \"inning\", \"over\", \"ball\", \"total_runs\", \"cumulative_score\").show(20, truncate=False)"
   ]
  }
 ],
 "metadata": {
  "application/vnd.databricks.v1+notebook": {
   "computePreferences": null,
   "dashboards": [],
   "environmentMetadata": {
    "base_environment": "",
    "environment_version": "1"
   },
   "inputWidgetPreferences": null,
   "language": "python",
   "notebookMetadata": {
    "pythonIndentUnit": 4
   },
   "notebookName": "Task_9",
   "widgets": {}
  }
 },
 "nbformat": 4,
 "nbformat_minor": 0
}