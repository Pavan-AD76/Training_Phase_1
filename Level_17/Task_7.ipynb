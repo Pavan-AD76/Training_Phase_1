{
 "cells": [
  {
   "cell_type": "code",
   "execution_count": 0,
   "metadata": {
    "application/vnd.databricks.v1+cell": {
     "cellMetadata": {
      "byteLimit": 2048000,
      "rowLimit": 10000
     },
     "inputWidgets": {},
     "nuid": "7e78a9a8-200a-4531-82d4-9c1dbc376e33",
     "showTitle": false,
     "tableResultSettingsMap": {},
     "title": ""
    }
   },
   "outputs": [
    {
     "output_type": "stream",
     "name": "stdout",
     "output_type": "stream",
     "text": [
      "root\n |-- year: string (nullable = true)\n |-- series_type: string (nullable = true)\n |-- series_name: string (nullable = true)\n |-- match_no: string (nullable = true)\n |-- match_type: string (nullable = true)\n |-- match_id: string (nullable = true)\n |-- match_venue: string (nullable = true)\n |-- match_status: string (nullable = true)\n |-- match_winning_team: string (nullable = true)\n |-- match_tie_breaker: string (nullable = true)\n |-- match_toss: string (nullable = true)\n |-- umpires: string (nullable = true)\n |-- match_referee: string (nullable = true)\n |-- third_umpires: string (nullable = true)\n |-- match_datetime: string (nullable = true)\n |-- team1_name: string (nullable = true)\n |-- team2_name: string (nullable = true)\n |-- team1_score: string (nullable = true)\n |-- team1_wickets: string (nullable = true)\n |-- team2_score: string (nullable = true)\n |-- team2_wickets: string (nullable = true)\n |-- team1_captain: string (nullable = true)\n |-- team1_players: string (nullable = true)\n |-- team1_bench: string (nullable = true)\n |-- team1_support_staff: string (nullable = true)\n |-- team2_captain: string (nullable = true)\n |-- team2_players: string (nullable = true)\n |-- team2_bench: string (nullable = true)\n |-- team2_support_staff: string (nullable = true)\n |-- over_no: string (nullable = true)\n |-- over_total_runs: string (nullable = true)\n |-- over_summary: string (nullable = true)\n |-- over_batsman1_name: string (nullable = true)\n |-- over_batsman1_curr_scr: string (nullable = true)\n |-- over_batsman1_played_balls: string (nullable = true)\n |-- over_batsman2_name: string (nullable = true)\n |-- over_batsman2_curr_scr: string (nullable = true)\n |-- over_batsman2_played_balls: string (nullable = true)\n |-- over_bowler_name: string (nullable = true)\n |-- over_bowler_bowled_overs: string (nullable = true)\n |-- over_bowler_bowled_maidens: string (nullable = true)\n |-- over_bowler_bowled_runs: string (nullable = true)\n |-- over_bowler_bowled_wickets: string (nullable = true)\n\nroot\n |-- year: string (nullable = true)\n |-- series_type: string (nullable = true)\n |-- series_name: string (nullable = true)\n |-- match_no: string (nullable = true)\n |-- match_type: string (nullable = true)\n |-- match_id: string (nullable = true)\n |-- match_venue: string (nullable = true)\n |-- match_status: string (nullable = true)\n |-- match_winning_team: string (nullable = true)\n |-- match_tie_breaker: string (nullable = true)\n |-- match_toss: string (nullable = true)\n |-- umpires: string (nullable = true)\n |-- match_referee: string (nullable = true)\n |-- third_umpires: string (nullable = true)\n |-- match_datetime: string (nullable = true)\n |-- team1_name: string (nullable = true)\n |-- team2_name: string (nullable = true)\n |-- team1_score: string (nullable = true)\n |-- team1_wickets: string (nullable = true)\n |-- team2_score: string (nullable = true)\n |-- team2_wickets: string (nullable = true)\n |-- team1_captain: string (nullable = true)\n |-- team1_players: string (nullable = true)\n |-- team1_bench: string (nullable = true)\n |-- team1_support_staff: string (nullable = true)\n |-- team2_captain: string (nullable = true)\n |-- team2_players: string (nullable = true)\n |-- team2_bench: string (nullable = true)\n |-- team2_support_staff: string (nullable = true)\n |-- ball_no: string (nullable = true)\n |-- over_no: string (nullable = true)\n |-- ball_commentary: string (nullable = true)\n\n"
     ]
    }
   ],
   "source": [
    "over_df = spark.read.option(\"header\", True).csv(\"/FileStore/tables/ipl_over_data-5.csv\")\n",
    "commentary_df = spark.read.option(\"header\", True).csv(\"/FileStore/tables/ipl_commentary_data-5.csv\")\n",
    "over_df.printSchema()"
   ]
  },
  {
   "cell_type": "code",
   "execution_count": 0,
   "metadata": {
    "application/vnd.databricks.v1+cell": {
     "cellMetadata": {
      "byteLimit": 2048000,
      "rowLimit": 10000
     },
     "inputWidgets": {},
     "nuid": "fa1673a6-ba2c-409e-ab17-5b060b0838e7",
     "showTitle": false,
     "tableResultSettingsMap": {},
     "title": ""
    }
   },
   "outputs": [
    {
     "output_type": "stream",
     "name": "stdout",
     "output_type": "stream",
     "text": [
      "root\n |-- year: string (nullable = true)\n |-- series_type: string (nullable = true)\n |-- series_name: string (nullable = true)\n |-- match_no: string (nullable = true)\n |-- match_type: string (nullable = true)\n |-- match_id: string (nullable = true)\n |-- match_venue: string (nullable = true)\n |-- match_status: string (nullable = true)\n |-- match_winning_team: string (nullable = true)\n |-- match_tie_breaker: string (nullable = true)\n |-- match_toss: string (nullable = true)\n |-- umpires: string (nullable = true)\n |-- match_referee: string (nullable = true)\n |-- third_umpires: string (nullable = true)\n |-- match_datetime: string (nullable = true)\n |-- team1_name: string (nullable = true)\n |-- team2_name: string (nullable = true)\n |-- team1_score: string (nullable = true)\n |-- team1_wickets: string (nullable = true)\n |-- team2_score: string (nullable = true)\n |-- team2_wickets: string (nullable = true)\n |-- team1_captain: string (nullable = true)\n |-- team1_players: string (nullable = true)\n |-- team1_bench: string (nullable = true)\n |-- team1_support_staff: string (nullable = true)\n |-- team2_captain: string (nullable = true)\n |-- team2_players: string (nullable = true)\n |-- team2_bench: string (nullable = true)\n |-- team2_support_staff: string (nullable = true)\n |-- ball_no: string (nullable = true)\n |-- over_no: string (nullable = true)\n |-- ball_commentary: string (nullable = true)\n\n"
     ]
    }
   ],
   "source": [
    "commentary_df.printSchema()"
   ]
  },
  {
   "cell_type": "code",
   "execution_count": 0,
   "metadata": {
    "application/vnd.databricks.v1+cell": {
     "cellMetadata": {
      "byteLimit": 2048000,
      "rowLimit": 10000
     },
     "inputWidgets": {},
     "nuid": "9e4c3213-229e-41c4-be6b-ef9118c1a7c9",
     "showTitle": false,
     "tableResultSettingsMap": {},
     "title": ""
    }
   },
   "outputs": [],
   "source": [
    "left_join_df = over_df.join(commentary_df, on=\"match_id\", how=\"left\")\n",
    "right_join_df = over_df.join(commentary_df, on=\"match_id\", how=\"right\")\n",
    "inner_join_df = over_df.join(commentary_df, on=\"match_id\", how=\"inner\")"
   ]
  },
  {
   "cell_type": "code",
   "execution_count": 0,
   "metadata": {
    "application/vnd.databricks.v1+cell": {
     "cellMetadata": {
      "byteLimit": 2048000,
      "rowLimit": 10000
     },
     "inputWidgets": {},
     "nuid": "ca067802-ba95-4b63-89eb-46db92c86e4d",
     "showTitle": false,
     "tableResultSettingsMap": {},
     "title": ""
    }
   },
   "outputs": [],
   "source": [
    "left_matches = left_join_df.select(\"match_id\").distinct().count()\n",
    "right_matches = right_join_df.select(\"match_id\").distinct().count()\n",
    "inner_matches = inner_join_df.select(\"match_id\").distinct().count()"
   ]
  },
  {
   "cell_type": "code",
   "execution_count": 0,
   "metadata": {
    "application/vnd.databricks.v1+cell": {
     "cellMetadata": {
      "byteLimit": 2048000,
      "rowLimit": 10000
     },
     "inputWidgets": {},
     "nuid": "535165d1-b7cb-4f79-ac7d-ab1ce3c096f2",
     "showTitle": false,
     "tableResultSettingsMap": {},
     "title": ""
    }
   },
   "outputs": [
    {
     "output_type": "stream",
     "name": "stdout",
     "output_type": "stream",
     "text": [
      "Number of distinct match_ids in LEFT JOIN: 524\nNumber of distinct match_ids in RIGHT JOIN: 525\nNumber of distinct match_ids in INNER JOIN: 524\n"
     ]
    }
   ],
   "source": [
    "print(\"Number of distinct match_ids in LEFT JOIN:\", left_matches)\n",
    "print(\"Number of distinct match_ids in RIGHT JOIN:\", right_matches)\n",
    "print(\"Number of distinct match_ids in INNER JOIN:\", inner_matches)"
   ]
  }
 ],
 "metadata": {
  "application/vnd.databricks.v1+notebook": {
   "computePreferences": null,
   "dashboards": [],
   "environmentMetadata": {
    "base_environment": "",
    "environment_version": "1"
   },
   "inputWidgetPreferences": null,
   "language": "python",
   "notebookMetadata": {
    "pythonIndentUnit": 4
   },
   "notebookName": "Task_7",
   "widgets": {}
  }
 },
 "nbformat": 4,
 "nbformat_minor": 0
}