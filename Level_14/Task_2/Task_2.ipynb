{
 "cells": [
  {
   "cell_type": "code",
   "execution_count": 3,
   "id": "c7e29dc8-8808-4a58-80fa-d87a841fe130",
   "metadata": {},
   "outputs": [
    {
     "name": "stdout",
     "output_type": "stream",
     "text": [
      "Scraping completed and data saved.\n"
     ]
    }
   ],
   "source": [
    "from selenium import webdriver\n",
    "from selenium.webdriver.chrome.service import Service\n",
    "from selenium.webdriver.chrome.options import Options\n",
    "from webdriver_manager.chrome import ChromeDriverManager\n",
    "from bs4 import BeautifulSoup\n",
    "import pandas as pd\n",
    "import time\n",
    "options = Options()\n",
    "options.add_argument(\"--headless\")\n",
    "options.add_argument(\"--no-sandbox\")\n",
    "options.add_argument(\"--disable-dev-shm-usage\")\n",
    "driver = webdriver.Chrome(service=Service(ChromeDriverManager().install()), options=options)\n",
    "base_url = \"https://www.cricbuzz.com\"\n",
    "page_url = \"https://www.cricbuzz.com/cricket-series/3472/indian-premier-league-2021/matches\"\n",
    "driver.get(page_url)\n",
    "time.sleep(3)  # Let JS load\n",
    "page_source = driver.page_source\n",
    "driver.quit()\n",
    "soup = BeautifulSoup(page_source, \"html.parser\")\n",
    "match_data = []\n",
    "matches = soup.select(\"div.cb-col-100.cb-col.cb-series-matches\")\n",
    "year = \"2021\"\n",
    "for match in matches:\n",
    "    date = match.select_one('span.ng-binding').text.strip()\n",
    "    match_date = date.split(\",\")[0].strip()\n",
    "    match_item = match.select_one(\"a.text-hvr-underline\")\n",
    "    if not match_item:\n",
    "        continue  \n",
    "    match_detail = match_item.select_one(\"span\").text.strip().split(',')\n",
    "    match_name = match_detail[0]   \n",
    "    match_no = str(len(match_data)+1)\n",
    "    match_href = base_url + match_item['href']\n",
    "    playoffs = [\"Qualifier 1\", \"Qualifier 2\", \"Eliminator\", \"Final\"]\n",
    "    is_playoff = match_detail[1].strip() in playoffs\n",
    "    match_type = \"Playoff\" if is_playoff else \"League\"\n",
    "    match_time_tag = match.select_one('span.schedule-date')\n",
    "    match_time = match_time_tag.text.strip() if match_time_tag else \"\"\n",
    "    match_venue_tag = match.select_one(\"div.text-gray\")\n",
    "    match_venue = match_venue_tag.text.strip() if match_venue_tag else \"\"\n",
    "    match_teams = match_name.split(\" vs \")\n",
    "    if len(match_teams) != 2:\n",
    "        continue\n",
    "    match_team1 = match_teams[0].strip()\n",
    "    match_team2 = match_teams[1].strip()\n",
    "    result_tag = match.select_one(\"a.cb-text-complete\")\n",
    "    result = result_tag.text.strip() if result_tag else \"\"\n",
    "    winning_team = result.split(\"won\")[0].strip() if \"won\" in result else \"\"\n",
    "    match_data.append({\n",
    "        \"match_no\": match_no,\n",
    "        \"match_name\": match_name,\n",
    "        \"match_type\": match_type,\n",
    "        \"match_date\": match_date + \", \" + year,\n",
    "        \"match_time\": match_time,\n",
    "        \"match_venue\": match_venue,\n",
    "        \"match_href\": match_href,\n",
    "        \"match_team1\": match_team1,\n",
    "        \"match_team2\": match_team2,\n",
    "        \"winning_team\": winning_team.upper()\n",
    "    })\n",
    "df = pd.DataFrame(match_data)\n",
    "df.to_csv(\"ipl 2021 data.csv\", index=False)\n",
    "print(\"Scraping completed and data saved.\")"
   ]
  },
  {
   "cell_type": "code",
   "execution_count": null,
   "id": "e7c5fd18-91a7-4172-ae51-ddd1b1fb0c0b",
   "metadata": {},
   "outputs": [],
   "source": []
  }
 ],
 "metadata": {
  "kernelspec": {
   "display_name": "Python 3 (ipykernel)",
   "language": "python",
   "name": "python3"
  },
  "language_info": {
   "codemirror_mode": {
    "name": "ipython",
    "version": 3
   },
   "file_extension": ".py",
   "mimetype": "text/x-python",
   "name": "python",
   "nbconvert_exporter": "python",
   "pygments_lexer": "ipython3",
   "version": "3.12.4"
  }
 },
 "nbformat": 4,
 "nbformat_minor": 5
}
