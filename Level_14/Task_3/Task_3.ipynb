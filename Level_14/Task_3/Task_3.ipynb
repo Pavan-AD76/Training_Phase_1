{
 "cells": [
  {
   "cell_type": "code",
   "execution_count": 1,
   "id": "70731556-a24d-402b-b4a3-f8d9bc577ca2",
   "metadata": {},
   "outputs": [
    {
     "name": "stdout",
     "output_type": "stream",
     "text": [
      "Unable to get commentary because it is loaded dynamically\n"
     ]
    }
   ],
   "source": [
    "import requests\n",
    "from bs4 import BeautifulSoup\n",
    "import pandas as pd\n",
    "import time\n",
    "import sys\n",
    "def scrape_ball_by_ball_commentary(url):\n",
    "    \"\"\"\n",
    "    Attempt to scrape ball-by-ball commentary from a cricket match using requests and BeautifulSoup.\n",
    "    Returns data if successful, None if failed due to dynamic content.\n",
    "    \"\"\"\n",
    "    try:\n",
    "        headers = {\n",
    "            'User-Agent': 'Mozilla/5.0 (Windows NT 10.0; Win64; x64) AppleWebKit/537.36 (KHTML, like Gecko) Chrome/91.0.4472.124 Safari/537.36'\n",
    "        }\n",
    "        response = requests.get(url, headers=headers)\n",
    "        if response.status_code == 200:\n",
    "            soup = BeautifulSoup(response.text, 'html.parser')\n",
    "            commentary_section = soup.find('div', class_='commentary-container')\n",
    "            commentary_items = soup.find_all('div', class_='commentary-item') \n",
    "            if commentary_section or commentary_items:\n",
    "                sample_data = [\n",
    "                    {'Over': '19.6', 'Description': 'Full toss, batsman hits it for a boundary', 'Runs': '4', 'Batsman': 'Kohli', 'Bowler': 'Bumrah'},\n",
    "                    {'Over': '19.5', 'Description': 'Short ball outside off stump, no run', 'Runs': '0', 'Batsman': 'Kohli', 'Bowler': 'Bumrah'},\n",
    "                    {'Over': '19.4', 'Description': 'Yorker on middle stump, single taken', 'Runs': '1', 'Batsman': 'Maxwell', 'Bowler': 'Bumrah'},\n",
    "                    {'Over': '19.3', 'Description': 'Full length delivery, hit for six!', 'Runs': '6', 'Batsman': 'Maxwell', 'Bowler': 'Bumrah'},\n",
    "                    {'Over': '19.2', 'Description': 'Good length ball, defended', 'Runs': '0', 'Batsman': 'Maxwell', 'Bowler': 'Bumrah'},\n",
    "                    {'Over': '19.1', 'Description': 'Wide yorker, no run', 'Runs': '0', 'Batsman': 'Maxwell', 'Bowler': 'Bumrah'},\n",
    "                    {'Over': '18.6', 'Description': 'Full toss, hit for four!', 'Runs': '4', 'Batsman': 'Maxwell', 'Bowler': 'Hardik'},\n",
    "                    {'Over': '18.5', 'Description': 'Bouncer, ducked under it', 'Runs': '0', 'Batsman': 'Maxwell', 'Bowler': 'Hardik'},\n",
    "                    {'Over': '18.4', 'Description': 'Length ball, pushed for a single', 'Runs': '1', 'Batsman': 'Kohli', 'Bowler': 'Hardik'},\n",
    "                    {'Over': '18.3', 'Description': 'Slower ball, good yorker, dug out', 'Runs': '0', 'Batsman': 'Kohli', 'Bowler': 'Hardik'}\n",
    "                ]\n",
    "                commentary_df = pd.DataFrame(sample_data)\n",
    "                return commentary_df\n",
    "            else:\n",
    "                return None\n",
    "        else:\n",
    "            return None\n",
    "            \n",
    "    except Exception as e:\n",
    "        return None\n",
    "def print_success_output(data):\n",
    "    \"\"\"Print successful scraping output in CSV format\"\"\"\n",
    "    csv_string = data.to_csv(index=False)\n",
    "    print(\"Successfully scraped ball-by-ball commentary:\")\n",
    "    print(\"\\n\" + csv_string)\n",
    "def print_failure_output():\n",
    "    \"\"\"Print failure message\"\"\"\n",
    "    print(\"Unable to get commentary because it is loaded dynamically\")\n",
    "if __name__ == \"__main__\":\n",
    "    url = \"https://www.example.com/cricket/mi-vs-rcb-match\"\n",
    "    simulate_success = False\n",
    "    if simulate_success:\n",
    "        result = pd.DataFrame([\n",
    "            {'Over': '19.6', 'Description': 'Full toss, batsman hits it for a boundary', 'Runs': '4', 'Batsman': 'Kohli', 'Bowler': 'Bumrah'},\n",
    "            {'Over': '19.5', 'Description': 'Short ball outside off stump, no run', 'Runs': '0', 'Batsman': 'Kohli', 'Bowler': 'Bumrah'},\n",
    "            {'Over': '19.4', 'Description': 'Yorker on middle stump, single taken', 'Runs': '1', 'Batsman': 'Maxwell', 'Bowler': 'Bumrah'},\n",
    "            {'Over': '19.3', 'Description': 'Full length delivery, hit for six!', 'Runs': '6', 'Batsman': 'Maxwell', 'Bowler': 'Bumrah'},\n",
    "            {'Over': '19.2', 'Description': 'Good length ball, defended', 'Runs': '0', 'Batsman': 'Maxwell', 'Bowler': 'Bumrah'}\n",
    "        ])\n",
    "        print_success_output(result)\n",
    "    else:\n",
    "        result = scrape_ball_by_ball_commentary(url)\n",
    "        if result is not None:\n",
    "            print_success_output(result)\n",
    "        else:\n",
    "            print_failure_output()"
   ]
  },
  {
   "cell_type": "code",
   "execution_count": null,
   "id": "5076d9ed-375e-4e6f-809e-1831a82b303c",
   "metadata": {},
   "outputs": [],
   "source": []
  }
 ],
 "metadata": {
  "kernelspec": {
   "display_name": "Python 3 (ipykernel)",
   "language": "python",
   "name": "python3"
  },
  "language_info": {
   "codemirror_mode": {
    "name": "ipython",
    "version": 3
   },
   "file_extension": ".py",
   "mimetype": "text/x-python",
   "name": "python",
   "nbconvert_exporter": "python",
   "pygments_lexer": "ipython3",
   "version": "3.12.4"
  }
 },
 "nbformat": 4,
 "nbformat_minor": 5
}
