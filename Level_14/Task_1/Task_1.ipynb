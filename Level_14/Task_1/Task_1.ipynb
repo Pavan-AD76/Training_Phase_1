{
 "cells": [
  {
   "cell_type": "markdown",
   "id": "6606c622-24bf-4d28-85dc-2c087f8d533b",
   "metadata": {},
   "source": [
    "# Task 01"
   ]
  },
  {
   "cell_type": "code",
   "execution_count": 4,
   "id": "a9d83ebd-e5f9-497a-9f4d-9269108eb6fe",
   "metadata": {},
   "outputs": [
    {
     "name": "stdout",
     "output_type": "stream",
     "text": [
      "Scraping completed and data saved.\n",
      "   year    series_type                            series_name  \\\n",
      "0  2021  International   Bangladesh tour of New Zealand, 2022   \n",
      "1  2021  International    India tour of South Africa, 2021-22   \n",
      "2  2021  International              Ireland tour of USA, 2021   \n",
      "3  2021  International  West Indies tour of Pakistan, 2021-22   \n",
      "4  2021  International                     The Ashes, 2021-22   \n",
      "\n",
      "                                         series_href  \n",
      "0  https://www.cricbuzz.com/cricket-series/3876/b...  \n",
      "1  https://www.cricbuzz.com/cricket-series/3656/i...  \n",
      "2  https://www.cricbuzz.com/cricket-series/3866/i...  \n",
      "3  https://www.cricbuzz.com/cricket-series/3858/w...  \n",
      "4  https://www.cricbuzz.com/cricket-series/3532/t...  \n"
     ]
    }
   ],
   "source": [
    "import requests\n",
    "from bs4 import BeautifulSoup\n",
    "import pandas as pd\n",
    "BASE_URL = \"https://www.cricbuzz.com\"\n",
    "ARCHIVES_URL = f\"{BASE_URL}/cricket-scorecard-archives/\"\n",
    "response = requests.get(ARCHIVES_URL)\n",
    "soup = BeautifulSoup(response.text, 'html.parser')\n",
    "data = []\n",
    "years = soup.select('div.cb-yr-tmline a')\n",
    "for year_tag in years:\n",
    "    year = year_tag.text.strip()\n",
    "    year_url = BASE_URL + year_tag['href']\n",
    "    year_resp = requests.get(year_url)\n",
    "    year_soup = BeautifulSoup(year_resp.text, 'html.parser')\n",
    "    sections = year_soup.select('h2.cb-srs-cat')\n",
    "    for section in sections:\n",
    "        series_type = section.text.strip()\n",
    "        series_list = section.find_next_sibling('div').find_all('a', class_='text-hvr-underline')\n",
    "        for series in series_list:\n",
    "            series_name = series.text.strip()\n",
    "            series_href = BASE_URL + series['href']\n",
    "            data.append({\"year\": year,\"series_type\": series_type,\"series_name\": series_name,\"series_href\": series_href})\n",
    "df = pd.DataFrame(data)\n",
    "df.to_csv(\"cricinfo_data.csv\", index=False)\n",
    "print(\"Scraping completed and data saved.\")\n",
    "print(df.head())"
   ]
  },
  {
   "cell_type": "code",
   "execution_count": null,
   "id": "9d6bc1ad-fa73-4b7e-8476-ed015413d507",
   "metadata": {},
   "outputs": [],
   "source": []
  }
 ],
 "metadata": {
  "kernelspec": {
   "display_name": "Python 3 (ipykernel)",
   "language": "python",
   "name": "python3"
  },
  "language_info": {
   "codemirror_mode": {
    "name": "ipython",
    "version": 3
   },
   "file_extension": ".py",
   "mimetype": "text/x-python",
   "name": "python",
   "nbconvert_exporter": "python",
   "pygments_lexer": "ipython3",
   "version": "3.12.4"
  }
 },
 "nbformat": 4,
 "nbformat_minor": 5
}
