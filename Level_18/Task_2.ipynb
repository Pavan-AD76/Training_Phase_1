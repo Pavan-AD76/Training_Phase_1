{
 "cells": [
  {
   "cell_type": "markdown",
   "metadata": {
    "application/vnd.databricks.v1+cell": {
     "cellMetadata": {},
     "inputWidgets": {},
     "nuid": "ae3a96f9-0ace-4e6d-b99b-7a813d78e382",
     "showTitle": false,
     "tableResultSettingsMap": {},
     "title": ""
    }
   },
   "source": [
    "### Task_2"
   ]
  },
  {
   "cell_type": "code",
   "execution_count": 0,
   "metadata": {
    "application/vnd.databricks.v1+cell": {
     "cellMetadata": {
      "byteLimit": 2048000,
      "rowLimit": 10000
     },
     "inputWidgets": {},
     "nuid": "ce5ccc41-3f3e-48ab-827d-077f81ce937e",
     "showTitle": false,
     "tableResultSettingsMap": {},
     "title": ""
    }
   },
   "outputs": [],
   "source": [
    "df = spark.read.option(\"header\", True).csv(\"dbfs:/FileStore/tables/ipl_commentary_data-1.csv\")\n",
    "df.createOrReplaceTempView(\"commentary_view\")"
   ]
  },
  {
   "cell_type": "code",
   "execution_count": 0,
   "metadata": {
    "application/vnd.databricks.v1+cell": {
     "cellMetadata": {
      "byteLimit": 2048000,
      "implicitDf": true,
      "rowLimit": 10000
     },
     "inputWidgets": {},
     "nuid": "e6ca6f13-758c-4253-ad5b-fafa2a524d72",
     "showTitle": false,
     "tableResultSettingsMap": {},
     "title": ""
    }
   },
   "outputs": [
    {
     "output_type": "display_data",
     "data": {
      "text/html": [
       "<style scoped>\n",
       "  .table-result-container {\n",
       "    max-height: 300px;\n",
       "    overflow: auto;\n",
       "  }\n",
       "  table, th, td {\n",
       "    border: 1px solid black;\n",
       "    border-collapse: collapse;\n",
       "  }\n",
       "  th, td {\n",
       "    padding: 5px;\n",
       "  }\n",
       "  th {\n",
       "    text-align: left;\n",
       "  }\n",
       "</style><div class='table-result-container'><table class='table-result'><thead style='background-color: white'><tr><th>year</th><th>series_type</th><th>series_name</th><th>match_no</th><th>match_type</th><th>match_id</th><th>match_venue</th><th>match_status</th><th>match_winning_team</th><th>match_tie_breaker</th><th>match_toss</th><th>umpires</th><th>match_referee</th><th>third_umpires</th><th>match_datetime</th><th>team1_name</th><th>team2_name</th><th>team1_score</th><th>team1_wickets</th><th>team2_score</th><th>team2_wickets</th><th>team1_captain</th><th>team1_players</th><th>team1_bench</th><th>team1_support_staff</th><th>team2_captain</th><th>team2_players</th><th>team2_bench</th><th>team2_support_staff</th><th>ball_no</th><th>over_no</th><th>ball_commentary</th></tr></thead><tbody><tr><td>2021</td><td>T20 League</td><td>Indian Premier League 2021</td><td>1st Match</td><td>T20 IPL</td><td>35612</td><td>{'stadium': 'MA Chidambaram Stadium', 'city': 'Chennai', 'capacity': '50000', 'host_teams': 'Tamil Nadu, Chennai Super Kings'}</td><td>completed</td><td>Royal Challengers Bangalore</td><td>null</td><td>Royal Challengers Bangalore have won the toss and have opted to field</td><td>KN Anantha Padmanabhan, Nitin Menon</td><td>Vengalil Narayanan Kutty</td><td>Chettithody Shamshuddin</td><td>2021-04-09 19:30:00+05:30</td><td>MI</td><td>RCB</td><td>159</td><td>9</td><td>160</td><td>8</td><td>null</td><td>[]</td><td>Nathan Coulter-Nile, Piyush Chawla, Dhawal Kulkarni, Saurabh Tiwary, Aditya Tare, Adam Milne, Jayant Yadav, Anmolpreet Singh, Quinton de Kock, Anukul Roy, Mohsin Khan, Arjun Tendulkar, Yudhvir Singh Charak, James Neesham</td><td>null</td><td>null</td><td>[]</td><td>Adam Zampa, Devdutt Padikkal, Sachin Baby, Navdeep Saini, Kane Richardson, Srikar Bharat, Pavan Deshpande, Finn Allen, Suyash Prabhudessai, Mohammed Azharuddeen</td><td>null</td><td>1</td><td>0.1</td><td>Siraj to Rohit, 2 runs, straightaway into the pads. Siraj pitches it up but doesn't find much swing, leaning into middle and leg stumps and is clipped away for a couple through square leg. Rohit's away</td></tr><tr><td>2021</td><td>T20 League</td><td>Indian Premier League 2021</td><td>1st Match</td><td>T20 IPL</td><td>35612</td><td>{'stadium': 'MA Chidambaram Stadium', 'city': 'Chennai', 'capacity': '50000', 'host_teams': 'Tamil Nadu, Chennai Super Kings'}</td><td>completed</td><td>Royal Challengers Bangalore</td><td>null</td><td>Royal Challengers Bangalore have won the toss and have opted to field</td><td>KN Anantha Padmanabhan, Nitin Menon</td><td>Vengalil Narayanan Kutty</td><td>Chettithody Shamshuddin</td><td>2021-04-09 19:30:00+05:30</td><td>MI</td><td>RCB</td><td>159</td><td>9</td><td>160</td><td>8</td><td>null</td><td>[]</td><td>Nathan Coulter-Nile, Piyush Chawla, Dhawal Kulkarni, Saurabh Tiwary, Aditya Tare, Adam Milne, Jayant Yadav, Anmolpreet Singh, Quinton de Kock, Anukul Roy, Mohsin Khan, Arjun Tendulkar, Yudhvir Singh Charak, James Neesham</td><td>null</td><td>null</td><td>[]</td><td>Adam Zampa, Devdutt Padikkal, Sachin Baby, Navdeep Saini, Kane Richardson, Srikar Bharat, Pavan Deshpande, Finn Allen, Suyash Prabhudessai, Mohammed Azharuddeen</td><td>null</td><td>2</td><td>0.2</td><td>Siraj to Rohit, no run, full ball on middle, defended watchfully down the pitch</td></tr><tr><td>2021</td><td>T20 League</td><td>Indian Premier League 2021</td><td>1st Match</td><td>T20 IPL</td><td>35612</td><td>{'stadium': 'MA Chidambaram Stadium', 'city': 'Chennai', 'capacity': '50000', 'host_teams': 'Tamil Nadu, Chennai Super Kings'}</td><td>completed</td><td>Royal Challengers Bangalore</td><td>null</td><td>Royal Challengers Bangalore have won the toss and have opted to field</td><td>KN Anantha Padmanabhan, Nitin Menon</td><td>Vengalil Narayanan Kutty</td><td>Chettithody Shamshuddin</td><td>2021-04-09 19:30:00+05:30</td><td>MI</td><td>RCB</td><td>159</td><td>9</td><td>160</td><td>8</td><td>null</td><td>[]</td><td>Nathan Coulter-Nile, Piyush Chawla, Dhawal Kulkarni, Saurabh Tiwary, Aditya Tare, Adam Milne, Jayant Yadav, Anmolpreet Singh, Quinton de Kock, Anukul Roy, Mohsin Khan, Arjun Tendulkar, Yudhvir Singh Charak, James Neesham</td><td>null</td><td>null</td><td>[]</td><td>Adam Zampa, Devdutt Padikkal, Sachin Baby, Navdeep Saini, Kane Richardson, Srikar Bharat, Pavan Deshpande, Finn Allen, Suyash Prabhudessai, Mohammed Azharuddeen</td><td>null</td><td>3</td><td>0.3</td><td>Siraj to Rohit, no run, indications of the pace of this surface, and the bounce. Back of a length, probably wasn't there to pull in any case. Rohit goes for it but the ball sneaks under him and strikes him on the thigh</td></tr><tr><td>2021</td><td>T20 League</td><td>Indian Premier League 2021</td><td>1st Match</td><td>T20 IPL</td><td>35612</td><td>{'stadium': 'MA Chidambaram Stadium', 'city': 'Chennai', 'capacity': '50000', 'host_teams': 'Tamil Nadu, Chennai Super Kings'}</td><td>completed</td><td>Royal Challengers Bangalore</td><td>null</td><td>Royal Challengers Bangalore have won the toss and have opted to field</td><td>KN Anantha Padmanabhan, Nitin Menon</td><td>Vengalil Narayanan Kutty</td><td>Chettithody Shamshuddin</td><td>2021-04-09 19:30:00+05:30</td><td>MI</td><td>RCB</td><td>159</td><td>9</td><td>160</td><td>8</td><td>null</td><td>[]</td><td>Nathan Coulter-Nile, Piyush Chawla, Dhawal Kulkarni, Saurabh Tiwary, Aditya Tare, Adam Milne, Jayant Yadav, Anmolpreet Singh, Quinton de Kock, Anukul Roy, Mohsin Khan, Arjun Tendulkar, Yudhvir Singh Charak, James Neesham</td><td>null</td><td>null</td><td>[]</td><td>Adam Zampa, Devdutt Padikkal, Sachin Baby, Navdeep Saini, Kane Richardson, Srikar Bharat, Pavan Deshpande, Finn Allen, Suyash Prabhudessai, Mohammed Azharuddeen</td><td>null</td><td>4</td><td>0.4</td><td>Siraj to Rohit, 2 runs, short of length around the hip, Rohit whips it wide of fine leg, gets back for two</td></tr><tr><td>2021</td><td>T20 League</td><td>Indian Premier League 2021</td><td>1st Match</td><td>T20 IPL</td><td>35612</td><td>{'stadium': 'MA Chidambaram Stadium', 'city': 'Chennai', 'capacity': '50000', 'host_teams': 'Tamil Nadu, Chennai Super Kings'}</td><td>completed</td><td>Royal Challengers Bangalore</td><td>null</td><td>Royal Challengers Bangalore have won the toss and have opted to field</td><td>KN Anantha Padmanabhan, Nitin Menon</td><td>Vengalil Narayanan Kutty</td><td>Chettithody Shamshuddin</td><td>2021-04-09 19:30:00+05:30</td><td>MI</td><td>RCB</td><td>159</td><td>9</td><td>160</td><td>8</td><td>null</td><td>[]</td><td>Nathan Coulter-Nile, Piyush Chawla, Dhawal Kulkarni, Saurabh Tiwary, Aditya Tare, Adam Milne, Jayant Yadav, Anmolpreet Singh, Quinton de Kock, Anukul Roy, Mohsin Khan, Arjun Tendulkar, Yudhvir Singh Charak, James Neesham</td><td>null</td><td>null</td><td>[]</td><td>Adam Zampa, Devdutt Padikkal, Sachin Baby, Navdeep Saini, Kane Richardson, Srikar Bharat, Pavan Deshpande, Finn Allen, Suyash Prabhudessai, Mohammed Azharuddeen</td><td>null</td><td>5</td><td>0.5</td><td>Siraj to Rohit, no run, short of length delivery on off, Rohit is right behind the line in defence</td></tr><tr><td>2021</td><td>T20 League</td><td>Indian Premier League 2021</td><td>1st Match</td><td>T20 IPL</td><td>35612</td><td>{'stadium': 'MA Chidambaram Stadium', 'city': 'Chennai', 'capacity': '50000', 'host_teams': 'Tamil Nadu, Chennai Super Kings'}</td><td>completed</td><td>Royal Challengers Bangalore</td><td>null</td><td>Royal Challengers Bangalore have won the toss and have opted to field</td><td>KN Anantha Padmanabhan, Nitin Menon</td><td>Vengalil Narayanan Kutty</td><td>Chettithody Shamshuddin</td><td>2021-04-09 19:30:00+05:30</td><td>MI</td><td>RCB</td><td>159</td><td>9</td><td>160</td><td>8</td><td>null</td><td>[]</td><td>Nathan Coulter-Nile, Piyush Chawla, Dhawal Kulkarni, Saurabh Tiwary, Aditya Tare, Adam Milne, Jayant Yadav, Anmolpreet Singh, Quinton de Kock, Anukul Roy, Mohsin Khan, Arjun Tendulkar, Yudhvir Singh Charak, James Neesham</td><td>null</td><td>null</td><td>[]</td><td>Adam Zampa, Devdutt Padikkal, Sachin Baby, Navdeep Saini, Kane Richardson, Srikar Bharat, Pavan Deshpande, Finn Allen, Suyash Prabhudessai, Mohammed Azharuddeen</td><td>null</td><td>6</td><td>0.6</td><td>Siraj to Rohit, 1 run, back of a length delivery on off, Rohit tucks it through to deep square leg where a fielder was brought in at some point during the over</td></tr><tr><td>2021</td><td>T20 League</td><td>Indian Premier League 2021</td><td>1st Match</td><td>T20 IPL</td><td>35612</td><td>{'stadium': 'MA Chidambaram Stadium', 'city': 'Chennai', 'capacity': '50000', 'host_teams': 'Tamil Nadu, Chennai Super Kings'}</td><td>completed</td><td>Royal Challengers Bangalore</td><td>null</td><td>Royal Challengers Bangalore have won the toss and have opted to field</td><td>KN Anantha Padmanabhan, Nitin Menon</td><td>Vengalil Narayanan Kutty</td><td>Chettithody Shamshuddin</td><td>2021-04-09 19:30:00+05:30</td><td>MI</td><td>RCB</td><td>159</td><td>9</td><td>160</td><td>8</td><td>null</td><td>[]</td><td>Nathan Coulter-Nile, Piyush Chawla, Dhawal Kulkarni, Saurabh Tiwary, Aditya Tare, Adam Milne, Jayant Yadav, Anmolpreet Singh, Quinton de Kock, Anukul Roy, Mohsin Khan, Arjun Tendulkar, Yudhvir Singh Charak, James Neesham</td><td>null</td><td>null</td><td>[]</td><td>Adam Zampa, Devdutt Padikkal, Sachin Baby, Navdeep Saini, Kane Richardson, Srikar Bharat, Pavan Deshpande, Finn Allen, Suyash Prabhudessai, Mohammed Azharuddeen</td><td>null</td><td>7</td><td>1.1</td><td>Jamieson to Rohit, 1 run, Jamieson introduces himself to the IPL with an in-ducker. Really full, bending in on middle, Rohit digs it out wide of mid-on</td></tr><tr><td>2021</td><td>T20 League</td><td>Indian Premier League 2021</td><td>1st Match</td><td>T20 IPL</td><td>35612</td><td>{'stadium': 'MA Chidambaram Stadium', 'city': 'Chennai', 'capacity': '50000', 'host_teams': 'Tamil Nadu, Chennai Super Kings'}</td><td>completed</td><td>Royal Challengers Bangalore</td><td>null</td><td>Royal Challengers Bangalore have won the toss and have opted to field</td><td>KN Anantha Padmanabhan, Nitin Menon</td><td>Vengalil Narayanan Kutty</td><td>Chettithody Shamshuddin</td><td>2021-04-09 19:30:00+05:30</td><td>MI</td><td>RCB</td><td>159</td><td>9</td><td>160</td><td>8</td><td>null</td><td>[]</td><td>Nathan Coulter-Nile, Piyush Chawla, Dhawal Kulkarni, Saurabh Tiwary, Aditya Tare, Adam Milne, Jayant Yadav, Anmolpreet Singh, Quinton de Kock, Anukul Roy, Mohsin Khan, Arjun Tendulkar, Yudhvir Singh Charak, James Neesham</td><td>null</td><td>null</td><td>[]</td><td>Adam Zampa, Devdutt Padikkal, Sachin Baby, Navdeep Saini, Kane Richardson, Srikar Bharat, Pavan Deshpande, Finn Allen, Suyash Prabhudessai, Mohammed Azharuddeen</td><td>null</td><td>8</td><td>1.2</td><td>Jamieson to Chris Lynn, no run, back of a length on leg, Lynn is struck on the thigh pad looking to pull it away</td></tr><tr><td>2021</td><td>T20 League</td><td>Indian Premier League 2021</td><td>1st Match</td><td>T20 IPL</td><td>35612</td><td>{'stadium': 'MA Chidambaram Stadium', 'city': 'Chennai', 'capacity': '50000', 'host_teams': 'Tamil Nadu, Chennai Super Kings'}</td><td>completed</td><td>Royal Challengers Bangalore</td><td>null</td><td>Royal Challengers Bangalore have won the toss and have opted to field</td><td>KN Anantha Padmanabhan, Nitin Menon</td><td>Vengalil Narayanan Kutty</td><td>Chettithody Shamshuddin</td><td>2021-04-09 19:30:00+05:30</td><td>MI</td><td>RCB</td><td>159</td><td>9</td><td>160</td><td>8</td><td>null</td><td>[]</td><td>Nathan Coulter-Nile, Piyush Chawla, Dhawal Kulkarni, Saurabh Tiwary, Aditya Tare, Adam Milne, Jayant Yadav, Anmolpreet Singh, Quinton de Kock, Anukul Roy, Mohsin Khan, Arjun Tendulkar, Yudhvir Singh Charak, James Neesham</td><td>null</td><td>null</td><td>[]</td><td>Adam Zampa, Devdutt Padikkal, Sachin Baby, Navdeep Saini, Kane Richardson, Srikar Bharat, Pavan Deshpande, Finn Allen, Suyash Prabhudessai, Mohammed Azharuddeen</td><td>null</td><td>9</td><td>1.3</td><td>Jamieson to Chris Lynn, no run, pitched up around off, Lynn drives to mid-off. The ball doesn't seem to be coming on all that well, at least that's the early impression</td></tr><tr><td>2021</td><td>T20 League</td><td>Indian Premier League 2021</td><td>1st Match</td><td>T20 IPL</td><td>35612</td><td>{'stadium': 'MA Chidambaram Stadium', 'city': 'Chennai', 'capacity': '50000', 'host_teams': 'Tamil Nadu, Chennai Super Kings'}</td><td>completed</td><td>Royal Challengers Bangalore</td><td>null</td><td>Royal Challengers Bangalore have won the toss and have opted to field</td><td>KN Anantha Padmanabhan, Nitin Menon</td><td>Vengalil Narayanan Kutty</td><td>Chettithody Shamshuddin</td><td>2021-04-09 19:30:00+05:30</td><td>MI</td><td>RCB</td><td>159</td><td>9</td><td>160</td><td>8</td><td>null</td><td>[]</td><td>Nathan Coulter-Nile, Piyush Chawla, Dhawal Kulkarni, Saurabh Tiwary, Aditya Tare, Adam Milne, Jayant Yadav, Anmolpreet Singh, Quinton de Kock, Anukul Roy, Mohsin Khan, Arjun Tendulkar, Yudhvir Singh Charak, James Neesham</td><td>null</td><td>null</td><td>[]</td><td>Adam Zampa, Devdutt Padikkal, Sachin Baby, Navdeep Saini, Kane Richardson, Srikar Bharat, Pavan Deshpande, Finn Allen, Suyash Prabhudessai, Mohammed Azharuddeen</td><td>null</td><td>10</td><td>1.4</td><td>Jamieson to Chris Lynn, no run, an edge that falls short of first slip. Clearly the lack of pace in the pitch on display here. Lynn went hard on the drive as Jamieson pitched it up, genuine edge, but on the bounce to the fielder diving to his left</td></tr></tbody></table></div>"
      ]
     },
     "metadata": {
      "application/vnd.databricks.v1+output": {
       "addedWidgets": {},
       "aggData": [],
       "aggError": "",
       "aggOverflow": false,
       "aggSchema": [],
       "aggSeriesLimitReached": false,
       "aggType": "",
       "arguments": {},
       "columnCustomDisplayInfos": {},
       "data": [
        [
         "2021",
         "T20 League",
         "Indian Premier League 2021",
         "1st Match",
         "T20 IPL",
         "35612",
         "{'stadium': 'MA Chidambaram Stadium', 'city': 'Chennai', 'capacity': '50000', 'host_teams': 'Tamil Nadu, Chennai Super Kings'}",
         "completed",
         "Royal Challengers Bangalore",
         null,
         "Royal Challengers Bangalore have won the toss and have opted to field",
         "KN Anantha Padmanabhan, Nitin Menon",
         "Vengalil Narayanan Kutty",
         "Chettithody Shamshuddin",
         "2021-04-09 19:30:00+05:30",
         "MI",
         "RCB",
         "159",
         "9",
         "160",
         "8",
         null,
         "[]",
         "Nathan Coulter-Nile, Piyush Chawla, Dhawal Kulkarni, Saurabh Tiwary, Aditya Tare, Adam Milne, Jayant Yadav, Anmolpreet Singh, Quinton de Kock, Anukul Roy, Mohsin Khan, Arjun Tendulkar, Yudhvir Singh Charak, James Neesham",
         null,
         null,
         "[]",
         "Adam Zampa, Devdutt Padikkal, Sachin Baby, Navdeep Saini, Kane Richardson, Srikar Bharat, Pavan Deshpande, Finn Allen, Suyash Prabhudessai, Mohammed Azharuddeen",
         null,
         "1",
         "0.1",
         "Siraj to Rohit, 2 runs, straightaway into the pads. Siraj pitches it up but doesn't find much swing, leaning into middle and leg stumps and is clipped away for a couple through square leg. Rohit's away"
        ],
        [
         "2021",
         "T20 League",
         "Indian Premier League 2021",
         "1st Match",
         "T20 IPL",
         "35612",
         "{'stadium': 'MA Chidambaram Stadium', 'city': 'Chennai', 'capacity': '50000', 'host_teams': 'Tamil Nadu, Chennai Super Kings'}",
         "completed",
         "Royal Challengers Bangalore",
         null,
         "Royal Challengers Bangalore have won the toss and have opted to field",
         "KN Anantha Padmanabhan, Nitin Menon",
         "Vengalil Narayanan Kutty",
         "Chettithody Shamshuddin",
         "2021-04-09 19:30:00+05:30",
         "MI",
         "RCB",
         "159",
         "9",
         "160",
         "8",
         null,
         "[]",
         "Nathan Coulter-Nile, Piyush Chawla, Dhawal Kulkarni, Saurabh Tiwary, Aditya Tare, Adam Milne, Jayant Yadav, Anmolpreet Singh, Quinton de Kock, Anukul Roy, Mohsin Khan, Arjun Tendulkar, Yudhvir Singh Charak, James Neesham",
         null,
         null,
         "[]",
         "Adam Zampa, Devdutt Padikkal, Sachin Baby, Navdeep Saini, Kane Richardson, Srikar Bharat, Pavan Deshpande, Finn Allen, Suyash Prabhudessai, Mohammed Azharuddeen",
         null,
         "2",
         "0.2",
         "Siraj to Rohit, no run, full ball on middle, defended watchfully down the pitch"
        ],
        [
         "2021",
         "T20 League",
         "Indian Premier League 2021",
         "1st Match",
         "T20 IPL",
         "35612",
         "{'stadium': 'MA Chidambaram Stadium', 'city': 'Chennai', 'capacity': '50000', 'host_teams': 'Tamil Nadu, Chennai Super Kings'}",
         "completed",
         "Royal Challengers Bangalore",
         null,
         "Royal Challengers Bangalore have won the toss and have opted to field",
         "KN Anantha Padmanabhan, Nitin Menon",
         "Vengalil Narayanan Kutty",
         "Chettithody Shamshuddin",
         "2021-04-09 19:30:00+05:30",
         "MI",
         "RCB",
         "159",
         "9",
         "160",
         "8",
         null,
         "[]",
         "Nathan Coulter-Nile, Piyush Chawla, Dhawal Kulkarni, Saurabh Tiwary, Aditya Tare, Adam Milne, Jayant Yadav, Anmolpreet Singh, Quinton de Kock, Anukul Roy, Mohsin Khan, Arjun Tendulkar, Yudhvir Singh Charak, James Neesham",
         null,
         null,
         "[]",
         "Adam Zampa, Devdutt Padikkal, Sachin Baby, Navdeep Saini, Kane Richardson, Srikar Bharat, Pavan Deshpande, Finn Allen, Suyash Prabhudessai, Mohammed Azharuddeen",
         null,
         "3",
         "0.3",
         "Siraj to Rohit, no run, indications of the pace of this surface, and the bounce. Back of a length, probably wasn't there to pull in any case. Rohit goes for it but the ball sneaks under him and strikes him on the thigh"
        ],
        [
         "2021",
         "T20 League",
         "Indian Premier League 2021",
         "1st Match",
         "T20 IPL",
         "35612",
         "{'stadium': 'MA Chidambaram Stadium', 'city': 'Chennai', 'capacity': '50000', 'host_teams': 'Tamil Nadu, Chennai Super Kings'}",
         "completed",
         "Royal Challengers Bangalore",
         null,
         "Royal Challengers Bangalore have won the toss and have opted to field",
         "KN Anantha Padmanabhan, Nitin Menon",
         "Vengalil Narayanan Kutty",
         "Chettithody Shamshuddin",
         "2021-04-09 19:30:00+05:30",
         "MI",
         "RCB",
         "159",
         "9",
         "160",
         "8",
         null,
         "[]",
         "Nathan Coulter-Nile, Piyush Chawla, Dhawal Kulkarni, Saurabh Tiwary, Aditya Tare, Adam Milne, Jayant Yadav, Anmolpreet Singh, Quinton de Kock, Anukul Roy, Mohsin Khan, Arjun Tendulkar, Yudhvir Singh Charak, James Neesham",
         null,
         null,
         "[]",
         "Adam Zampa, Devdutt Padikkal, Sachin Baby, Navdeep Saini, Kane Richardson, Srikar Bharat, Pavan Deshpande, Finn Allen, Suyash Prabhudessai, Mohammed Azharuddeen",
         null,
         "4",
         "0.4",
         "Siraj to Rohit, 2 runs, short of length around the hip, Rohit whips it wide of fine leg, gets back for two"
        ],
        [
         "2021",
         "T20 League",
         "Indian Premier League 2021",
         "1st Match",
         "T20 IPL",
         "35612",
         "{'stadium': 'MA Chidambaram Stadium', 'city': 'Chennai', 'capacity': '50000', 'host_teams': 'Tamil Nadu, Chennai Super Kings'}",
         "completed",
         "Royal Challengers Bangalore",
         null,
         "Royal Challengers Bangalore have won the toss and have opted to field",
         "KN Anantha Padmanabhan, Nitin Menon",
         "Vengalil Narayanan Kutty",
         "Chettithody Shamshuddin",
         "2021-04-09 19:30:00+05:30",
         "MI",
         "RCB",
         "159",
         "9",
         "160",
         "8",
         null,
         "[]",
         "Nathan Coulter-Nile, Piyush Chawla, Dhawal Kulkarni, Saurabh Tiwary, Aditya Tare, Adam Milne, Jayant Yadav, Anmolpreet Singh, Quinton de Kock, Anukul Roy, Mohsin Khan, Arjun Tendulkar, Yudhvir Singh Charak, James Neesham",
         null,
         null,
         "[]",
         "Adam Zampa, Devdutt Padikkal, Sachin Baby, Navdeep Saini, Kane Richardson, Srikar Bharat, Pavan Deshpande, Finn Allen, Suyash Prabhudessai, Mohammed Azharuddeen",
         null,
         "5",
         "0.5",
         "Siraj to Rohit, no run, short of length delivery on off, Rohit is right behind the line in defence"
        ],
        [
         "2021",
         "T20 League",
         "Indian Premier League 2021",
         "1st Match",
         "T20 IPL",
         "35612",
         "{'stadium': 'MA Chidambaram Stadium', 'city': 'Chennai', 'capacity': '50000', 'host_teams': 'Tamil Nadu, Chennai Super Kings'}",
         "completed",
         "Royal Challengers Bangalore",
         null,
         "Royal Challengers Bangalore have won the toss and have opted to field",
         "KN Anantha Padmanabhan, Nitin Menon",
         "Vengalil Narayanan Kutty",
         "Chettithody Shamshuddin",
         "2021-04-09 19:30:00+05:30",
         "MI",
         "RCB",
         "159",
         "9",
         "160",
         "8",
         null,
         "[]",
         "Nathan Coulter-Nile, Piyush Chawla, Dhawal Kulkarni, Saurabh Tiwary, Aditya Tare, Adam Milne, Jayant Yadav, Anmolpreet Singh, Quinton de Kock, Anukul Roy, Mohsin Khan, Arjun Tendulkar, Yudhvir Singh Charak, James Neesham",
         null,
         null,
         "[]",
         "Adam Zampa, Devdutt Padikkal, Sachin Baby, Navdeep Saini, Kane Richardson, Srikar Bharat, Pavan Deshpande, Finn Allen, Suyash Prabhudessai, Mohammed Azharuddeen",
         null,
         "6",
         "0.6",
         "Siraj to Rohit, 1 run, back of a length delivery on off, Rohit tucks it through to deep square leg where a fielder was brought in at some point during the over"
        ],
        [
         "2021",
         "T20 League",
         "Indian Premier League 2021",
         "1st Match",
         "T20 IPL",
         "35612",
         "{'stadium': 'MA Chidambaram Stadium', 'city': 'Chennai', 'capacity': '50000', 'host_teams': 'Tamil Nadu, Chennai Super Kings'}",
         "completed",
         "Royal Challengers Bangalore",
         null,
         "Royal Challengers Bangalore have won the toss and have opted to field",
         "KN Anantha Padmanabhan, Nitin Menon",
         "Vengalil Narayanan Kutty",
         "Chettithody Shamshuddin",
         "2021-04-09 19:30:00+05:30",
         "MI",
         "RCB",
         "159",
         "9",
         "160",
         "8",
         null,
         "[]",
         "Nathan Coulter-Nile, Piyush Chawla, Dhawal Kulkarni, Saurabh Tiwary, Aditya Tare, Adam Milne, Jayant Yadav, Anmolpreet Singh, Quinton de Kock, Anukul Roy, Mohsin Khan, Arjun Tendulkar, Yudhvir Singh Charak, James Neesham",
         null,
         null,
         "[]",
         "Adam Zampa, Devdutt Padikkal, Sachin Baby, Navdeep Saini, Kane Richardson, Srikar Bharat, Pavan Deshpande, Finn Allen, Suyash Prabhudessai, Mohammed Azharuddeen",
         null,
         "7",
         "1.1",
         "Jamieson to Rohit, 1 run, Jamieson introduces himself to the IPL with an in-ducker. Really full, bending in on middle, Rohit digs it out wide of mid-on"
        ],
        [
         "2021",
         "T20 League",
         "Indian Premier League 2021",
         "1st Match",
         "T20 IPL",
         "35612",
         "{'stadium': 'MA Chidambaram Stadium', 'city': 'Chennai', 'capacity': '50000', 'host_teams': 'Tamil Nadu, Chennai Super Kings'}",
         "completed",
         "Royal Challengers Bangalore",
         null,
         "Royal Challengers Bangalore have won the toss and have opted to field",
         "KN Anantha Padmanabhan, Nitin Menon",
         "Vengalil Narayanan Kutty",
         "Chettithody Shamshuddin",
         "2021-04-09 19:30:00+05:30",
         "MI",
         "RCB",
         "159",
         "9",
         "160",
         "8",
         null,
         "[]",
         "Nathan Coulter-Nile, Piyush Chawla, Dhawal Kulkarni, Saurabh Tiwary, Aditya Tare, Adam Milne, Jayant Yadav, Anmolpreet Singh, Quinton de Kock, Anukul Roy, Mohsin Khan, Arjun Tendulkar, Yudhvir Singh Charak, James Neesham",
         null,
         null,
         "[]",
         "Adam Zampa, Devdutt Padikkal, Sachin Baby, Navdeep Saini, Kane Richardson, Srikar Bharat, Pavan Deshpande, Finn Allen, Suyash Prabhudessai, Mohammed Azharuddeen",
         null,
         "8",
         "1.2",
         "Jamieson to Chris Lynn, no run, back of a length on leg, Lynn is struck on the thigh pad looking to pull it away"
        ],
        [
         "2021",
         "T20 League",
         "Indian Premier League 2021",
         "1st Match",
         "T20 IPL",
         "35612",
         "{'stadium': 'MA Chidambaram Stadium', 'city': 'Chennai', 'capacity': '50000', 'host_teams': 'Tamil Nadu, Chennai Super Kings'}",
         "completed",
         "Royal Challengers Bangalore",
         null,
         "Royal Challengers Bangalore have won the toss and have opted to field",
         "KN Anantha Padmanabhan, Nitin Menon",
         "Vengalil Narayanan Kutty",
         "Chettithody Shamshuddin",
         "2021-04-09 19:30:00+05:30",
         "MI",
         "RCB",
         "159",
         "9",
         "160",
         "8",
         null,
         "[]",
         "Nathan Coulter-Nile, Piyush Chawla, Dhawal Kulkarni, Saurabh Tiwary, Aditya Tare, Adam Milne, Jayant Yadav, Anmolpreet Singh, Quinton de Kock, Anukul Roy, Mohsin Khan, Arjun Tendulkar, Yudhvir Singh Charak, James Neesham",
         null,
         null,
         "[]",
         "Adam Zampa, Devdutt Padikkal, Sachin Baby, Navdeep Saini, Kane Richardson, Srikar Bharat, Pavan Deshpande, Finn Allen, Suyash Prabhudessai, Mohammed Azharuddeen",
         null,
         "9",
         "1.3",
         "Jamieson to Chris Lynn, no run, pitched up around off, Lynn drives to mid-off. The ball doesn't seem to be coming on all that well, at least that's the early impression"
        ],
        [
         "2021",
         "T20 League",
         "Indian Premier League 2021",
         "1st Match",
         "T20 IPL",
         "35612",
         "{'stadium': 'MA Chidambaram Stadium', 'city': 'Chennai', 'capacity': '50000', 'host_teams': 'Tamil Nadu, Chennai Super Kings'}",
         "completed",
         "Royal Challengers Bangalore",
         null,
         "Royal Challengers Bangalore have won the toss and have opted to field",
         "KN Anantha Padmanabhan, Nitin Menon",
         "Vengalil Narayanan Kutty",
         "Chettithody Shamshuddin",
         "2021-04-09 19:30:00+05:30",
         "MI",
         "RCB",
         "159",
         "9",
         "160",
         "8",
         null,
         "[]",
         "Nathan Coulter-Nile, Piyush Chawla, Dhawal Kulkarni, Saurabh Tiwary, Aditya Tare, Adam Milne, Jayant Yadav, Anmolpreet Singh, Quinton de Kock, Anukul Roy, Mohsin Khan, Arjun Tendulkar, Yudhvir Singh Charak, James Neesham",
         null,
         null,
         "[]",
         "Adam Zampa, Devdutt Padikkal, Sachin Baby, Navdeep Saini, Kane Richardson, Srikar Bharat, Pavan Deshpande, Finn Allen, Suyash Prabhudessai, Mohammed Azharuddeen",
         null,
         "10",
         "1.4",
         "Jamieson to Chris Lynn, no run, an edge that falls short of first slip. Clearly the lack of pace in the pitch on display here. Lynn went hard on the drive as Jamieson pitched it up, genuine edge, but on the bounce to the fielder diving to his left"
        ]
       ],
       "datasetInfos": [],
       "dbfsResultPath": null,
       "isJsonSchema": true,
       "metadata": {},
       "overflow": false,
       "plotOptions": {
        "customPlotOptions": {},
        "displayType": "table",
        "pivotAggregation": null,
        "pivotColumns": null,
        "xColumns": null,
        "yColumns": null
       },
       "removedWidgets": [],
       "schema": [
        {
         "metadata": "{}",
         "name": "year",
         "type": "\"string\""
        },
        {
         "metadata": "{}",
         "name": "series_type",
         "type": "\"string\""
        },
        {
         "metadata": "{}",
         "name": "series_name",
         "type": "\"string\""
        },
        {
         "metadata": "{}",
         "name": "match_no",
         "type": "\"string\""
        },
        {
         "metadata": "{}",
         "name": "match_type",
         "type": "\"string\""
        },
        {
         "metadata": "{}",
         "name": "match_id",
         "type": "\"string\""
        },
        {
         "metadata": "{}",
         "name": "match_venue",
         "type": "\"string\""
        },
        {
         "metadata": "{}",
         "name": "match_status",
         "type": "\"string\""
        },
        {
         "metadata": "{}",
         "name": "match_winning_team",
         "type": "\"string\""
        },
        {
         "metadata": "{}",
         "name": "match_tie_breaker",
         "type": "\"string\""
        },
        {
         "metadata": "{}",
         "name": "match_toss",
         "type": "\"string\""
        },
        {
         "metadata": "{}",
         "name": "umpires",
         "type": "\"string\""
        },
        {
         "metadata": "{}",
         "name": "match_referee",
         "type": "\"string\""
        },
        {
         "metadata": "{}",
         "name": "third_umpires",
         "type": "\"string\""
        },
        {
         "metadata": "{}",
         "name": "match_datetime",
         "type": "\"string\""
        },
        {
         "metadata": "{}",
         "name": "team1_name",
         "type": "\"string\""
        },
        {
         "metadata": "{}",
         "name": "team2_name",
         "type": "\"string\""
        },
        {
         "metadata": "{}",
         "name": "team1_score",
         "type": "\"string\""
        },
        {
         "metadata": "{}",
         "name": "team1_wickets",
         "type": "\"string\""
        },
        {
         "metadata": "{}",
         "name": "team2_score",
         "type": "\"string\""
        },
        {
         "metadata": "{}",
         "name": "team2_wickets",
         "type": "\"string\""
        },
        {
         "metadata": "{}",
         "name": "team1_captain",
         "type": "\"string\""
        },
        {
         "metadata": "{}",
         "name": "team1_players",
         "type": "\"string\""
        },
        {
         "metadata": "{}",
         "name": "team1_bench",
         "type": "\"string\""
        },
        {
         "metadata": "{}",
         "name": "team1_support_staff",
         "type": "\"string\""
        },
        {
         "metadata": "{}",
         "name": "team2_captain",
         "type": "\"string\""
        },
        {
         "metadata": "{}",
         "name": "team2_players",
         "type": "\"string\""
        },
        {
         "metadata": "{}",
         "name": "team2_bench",
         "type": "\"string\""
        },
        {
         "metadata": "{}",
         "name": "team2_support_staff",
         "type": "\"string\""
        },
        {
         "metadata": "{}",
         "name": "ball_no",
         "type": "\"string\""
        },
        {
         "metadata": "{}",
         "name": "over_no",
         "type": "\"string\""
        },
        {
         "metadata": "{}",
         "name": "ball_commentary",
         "type": "\"string\""
        }
       ],
       "type": "table"
      }
     },
     "output_type": "display_data"
    }
   ],
   "source": [
    "%sql\n",
    "\n",
    "SELECT * FROM commentary_view LIMIT 10;"
   ]
  }
 ],
 "metadata": {
  "application/vnd.databricks.v1+notebook": {
   "computePreferences": null,
   "dashboards": [],
   "environmentMetadata": {
    "base_environment": "",
    "environment_version": "1"
   },
   "inputWidgetPreferences": null,
   "language": "python",
   "notebookMetadata": {
    "mostRecentlyExecutedCommandWithImplicitDF": {
     "commandId": 4187916148020909,
     "dataframes": [
      "_sqldf"
     ]
    },
    "pythonIndentUnit": 4
   },
   "notebookName": "Task_2",
   "widgets": {}
  }
 },
 "nbformat": 4,
 "nbformat_minor": 0
}