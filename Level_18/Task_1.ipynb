{
 "cells": [
  {
   "cell_type": "code",
   "execution_count": 0,
   "metadata": {
    "application/vnd.databricks.v1+cell": {
     "cellMetadata": {
      "byteLimit": 2048000,
      "rowLimit": 10000
     },
     "inputWidgets": {},
     "nuid": "655888dd-8ce9-4cde-9539-c484083153da",
     "showTitle": false,
     "tableResultSettingsMap": {},
     "title": ""
    }
   },
   "outputs": [
    {
     "output_type": "stream",
     "name": "stdout",
     "output_type": "stream",
     "text": [
      "+----+-----------+--------------------+---------+----------+--------+--------------------+------------+--------------------+-----------------+--------------------+--------------------+--------------------+--------------------+--------------------+----------+----------+-----------+-------------+-----------+-------------+-------------+-------------+--------------------+-------------------+-------------+-------------+--------------------+-------------------+-------+-------+--------------------+\n|year|series_type|         series_name| match_no|match_type|match_id|         match_venue|match_status|  match_winning_team|match_tie_breaker|          match_toss|             umpires|       match_referee|       third_umpires|      match_datetime|team1_name|team2_name|team1_score|team1_wickets|team2_score|team2_wickets|team1_captain|team1_players|         team1_bench|team1_support_staff|team2_captain|team2_players|         team2_bench|team2_support_staff|ball_no|over_no|     ball_commentary|\n+----+-----------+--------------------+---------+----------+--------+--------------------+------------+--------------------+-----------------+--------------------+--------------------+--------------------+--------------------+--------------------+----------+----------+-----------+-------------+-----------+-------------+-------------+-------------+--------------------+-------------------+-------------+-------------+--------------------+-------------------+-------+-------+--------------------+\n|2021| T20 League|Indian Premier Le...|1st Match|   T20 IPL|   35612|{'stadium': 'MA C...|   completed|Royal Challengers...|             null|Royal Challengers...|KN Anantha Padman...|Vengalil Narayana...|Chettithody Shams...|2021-04-09 19:30:...|        MI|       RCB|        159|            9|        160|            8|         null|           []|Nathan Coulter-Ni...|               null|         null|           []|Adam Zampa, Devdu...|               null|      1|    0.1|Siraj to Rohit, 2...|\n|2021| T20 League|Indian Premier Le...|1st Match|   T20 IPL|   35612|{'stadium': 'MA C...|   completed|Royal Challengers...|             null|Royal Challengers...|KN Anantha Padman...|Vengalil Narayana...|Chettithody Shams...|2021-04-09 19:30:...|        MI|       RCB|        159|            9|        160|            8|         null|           []|Nathan Coulter-Ni...|               null|         null|           []|Adam Zampa, Devdu...|               null|      2|    0.2|Siraj to Rohit, n...|\n|2021| T20 League|Indian Premier Le...|1st Match|   T20 IPL|   35612|{'stadium': 'MA C...|   completed|Royal Challengers...|             null|Royal Challengers...|KN Anantha Padman...|Vengalil Narayana...|Chettithody Shams...|2021-04-09 19:30:...|        MI|       RCB|        159|            9|        160|            8|         null|           []|Nathan Coulter-Ni...|               null|         null|           []|Adam Zampa, Devdu...|               null|      3|    0.3|Siraj to Rohit, n...|\n|2021| T20 League|Indian Premier Le...|1st Match|   T20 IPL|   35612|{'stadium': 'MA C...|   completed|Royal Challengers...|             null|Royal Challengers...|KN Anantha Padman...|Vengalil Narayana...|Chettithody Shams...|2021-04-09 19:30:...|        MI|       RCB|        159|            9|        160|            8|         null|           []|Nathan Coulter-Ni...|               null|         null|           []|Adam Zampa, Devdu...|               null|      4|    0.4|Siraj to Rohit, 2...|\n|2021| T20 League|Indian Premier Le...|1st Match|   T20 IPL|   35612|{'stadium': 'MA C...|   completed|Royal Challengers...|             null|Royal Challengers...|KN Anantha Padman...|Vengalil Narayana...|Chettithody Shams...|2021-04-09 19:30:...|        MI|       RCB|        159|            9|        160|            8|         null|           []|Nathan Coulter-Ni...|               null|         null|           []|Adam Zampa, Devdu...|               null|      5|    0.5|Siraj to Rohit, n...|\n|2021| T20 League|Indian Premier Le...|1st Match|   T20 IPL|   35612|{'stadium': 'MA C...|   completed|Royal Challengers...|             null|Royal Challengers...|KN Anantha Padman...|Vengalil Narayana...|Chettithody Shams...|2021-04-09 19:30:...|        MI|       RCB|        159|            9|        160|            8|         null|           []|Nathan Coulter-Ni...|               null|         null|           []|Adam Zampa, Devdu...|               null|      6|    0.6|Siraj to Rohit, 1...|\n|2021| T20 League|Indian Premier Le...|1st Match|   T20 IPL|   35612|{'stadium': 'MA C...|   completed|Royal Challengers...|             null|Royal Challengers...|KN Anantha Padman...|Vengalil Narayana...|Chettithody Shams...|2021-04-09 19:30:...|        MI|       RCB|        159|            9|        160|            8|         null|           []|Nathan Coulter-Ni...|               null|         null|           []|Adam Zampa, Devdu...|               null|      7|    1.1|Jamieson to Rohit...|\n|2021| T20 League|Indian Premier Le...|1st Match|   T20 IPL|   35612|{'stadium': 'MA C...|   completed|Royal Challengers...|             null|Royal Challengers...|KN Anantha Padman...|Vengalil Narayana...|Chettithody Shams...|2021-04-09 19:30:...|        MI|       RCB|        159|            9|        160|            8|         null|           []|Nathan Coulter-Ni...|               null|         null|           []|Adam Zampa, Devdu...|               null|      8|    1.2|Jamieson to Chris...|\n|2021| T20 League|Indian Premier Le...|1st Match|   T20 IPL|   35612|{'stadium': 'MA C...|   completed|Royal Challengers...|             null|Royal Challengers...|KN Anantha Padman...|Vengalil Narayana...|Chettithody Shams...|2021-04-09 19:30:...|        MI|       RCB|        159|            9|        160|            8|         null|           []|Nathan Coulter-Ni...|               null|         null|           []|Adam Zampa, Devdu...|               null|      9|    1.3|Jamieson to Chris...|\n|2021| T20 League|Indian Premier Le...|1st Match|   T20 IPL|   35612|{'stadium': 'MA C...|   completed|Royal Challengers...|             null|Royal Challengers...|KN Anantha Padman...|Vengalil Narayana...|Chettithody Shams...|2021-04-09 19:30:...|        MI|       RCB|        159|            9|        160|            8|         null|           []|Nathan Coulter-Ni...|               null|         null|           []|Adam Zampa, Devdu...|               null|     10|    1.4|Jamieson to Chris...|\n|2021| T20 League|Indian Premier Le...|1st Match|   T20 IPL|   35612|{'stadium': 'MA C...|   completed|Royal Challengers...|             null|Royal Challengers...|KN Anantha Padman...|Vengalil Narayana...|Chettithody Shams...|2021-04-09 19:30:...|        MI|       RCB|        159|            9|        160|            8|         null|           []|Nathan Coulter-Ni...|               null|         null|           []|Adam Zampa, Devdu...|               null|     11|    1.5|Jamieson to Chris...|\n|2021| T20 League|Indian Premier Le...|1st Match|   T20 IPL|   35612|{'stadium': 'MA C...|   completed|Royal Challengers...|             null|Royal Challengers...|KN Anantha Padman...|Vengalil Narayana...|Chettithody Shams...|2021-04-09 19:30:...|        MI|       RCB|        159|            9|        160|            8|         null|           []|Nathan Coulter-Ni...|               null|         null|           []|Adam Zampa, Devdu...|               null|     12|    1.6|Jamieson to Chris...|\n|2021| T20 League|Indian Premier Le...|1st Match|   T20 IPL|   35612|{'stadium': 'MA C...|   completed|Royal Challengers...|             null|Royal Challengers...|KN Anantha Padman...|Vengalil Narayana...|Chettithody Shams...|2021-04-09 19:30:...|        MI|       RCB|        159|            9|        160|            8|         null|           []|Nathan Coulter-Ni...|               null|         null|           []|Adam Zampa, Devdu...|               null|     13|    2.1|Siraj to Rohit, n...|\n|2021| T20 League|Indian Premier Le...|1st Match|   T20 IPL|   35612|{'stadium': 'MA C...|   completed|Royal Challengers...|             null|Royal Challengers...|KN Anantha Padman...|Vengalil Narayana...|Chettithody Shams...|2021-04-09 19:30:...|        MI|       RCB|        159|            9|        160|            8|         null|           []|Nathan Coulter-Ni...|               null|         null|           []|Adam Zampa, Devdu...|               null|     14|    2.2|Siraj to Rohit, n...|\n|2021| T20 League|Indian Premier Le...|1st Match|   T20 IPL|   35612|{'stadium': 'MA C...|   completed|Royal Challengers...|             null|Royal Challengers...|KN Anantha Padman...|Vengalil Narayana...|Chettithody Shams...|2021-04-09 19:30:...|        MI|       RCB|        159|            9|        160|            8|         null|           []|Nathan Coulter-Ni...|               null|         null|           []|Adam Zampa, Devdu...|               null|     15|    2.3|Siraj to Rohit, n...|\n|2021| T20 League|Indian Premier Le...|1st Match|   T20 IPL|   35612|{'stadium': 'MA C...|   completed|Royal Challengers...|             null|Royal Challengers...|KN Anantha Padman...|Vengalil Narayana...|Chettithody Shams...|2021-04-09 19:30:...|        MI|       RCB|        159|            9|        160|            8|         null|           []|Nathan Coulter-Ni...|               null|         null|           []|Adam Zampa, Devdu...|               null|     16|    2.4|Siraj to Rohit, n...|\n|2021| T20 League|Indian Premier Le...|1st Match|   T20 IPL|   35612|{'stadium': 'MA C...|   completed|Royal Challengers...|             null|Royal Challengers...|KN Anantha Padman...|Vengalil Narayana...|Chettithody Shams...|2021-04-09 19:30:...|        MI|       RCB|        159|            9|        160|            8|         null|           []|Nathan Coulter-Ni...|               null|         null|           []|Adam Zampa, Devdu...|               null|     17|    2.5|Siraj to Rohit, F...|\n|2021| T20 League|Indian Premier Le...|1st Match|   T20 IPL|   35612|{'stadium': 'MA C...|   completed|Royal Challengers...|             null|Royal Challengers...|KN Anantha Padman...|Vengalil Narayana...|Chettithody Shams...|2021-04-09 19:30:...|        MI|       RCB|        159|            9|        160|            8|         null|           []|Nathan Coulter-Ni...|               null|         null|           []|Adam Zampa, Devdu...|               null|     18|    2.6|Siraj to Rohit, 2...|\n|2021| T20 League|Indian Premier Le...|1st Match|   T20 IPL|   35612|{'stadium': 'MA C...|   completed|Royal Challengers...|             null|Royal Challengers...|KN Anantha Padman...|Vengalil Narayana...|Chettithody Shams...|2021-04-09 19:30:...|        MI|       RCB|        159|            9|        160|            8|         null|           []|Nathan Coulter-Ni...|               null|         null|           []|Adam Zampa, Devdu...|               null|     19|    3.1|Chahal to Chris L...|\n|2021| T20 League|Indian Premier Le...|1st Match|   T20 IPL|   35612|{'stadium': 'MA C...|   completed|Royal Challengers...|             null|Royal Challengers...|KN Anantha Padman...|Vengalil Narayana...|Chettithody Shams...|2021-04-09 19:30:...|        MI|       RCB|        159|            9|        160|            8|         null|           []|Nathan Coulter-Ni...|               null|         null|           []|Adam Zampa, Devdu...|               null|     20|    3.2|Chahal to Chris L...|\n+----+-----------+--------------------+---------+----------+--------+--------------------+------------+--------------------+-----------------+--------------------+--------------------+--------------------+--------------------+--------------------+----------+----------+-----------+-------------+-----------+-------------+-------------+-------------+--------------------+-------------------+-------------+-------------+--------------------+-------------------+-------+-------+--------------------+\nonly showing top 20 rows\n\n"
     ]
    }
   ],
   "source": [
    "df = spark.read.option(\"header\", True).csv(\"dbfs:/FileStore/tables/ipl_commentary_data-1.csv\")\n",
    "df.show()"
   ]
  },
  {
   "cell_type": "code",
   "execution_count": 0,
   "metadata": {
    "application/vnd.databricks.v1+cell": {
     "cellMetadata": {
      "byteLimit": 2048000,
      "rowLimit": 10000
     },
     "inputWidgets": {},
     "nuid": "c78547d3-2a2e-4622-8707-fe45b5ff65b0",
     "showTitle": false,
     "tableResultSettingsMap": {},
     "title": ""
    }
   },
   "outputs": [],
   "source": [
    "csv_output_path = \"/FileStore/tables/output_csv\"\n",
    "parquet_output_path = \"/FileStore/tables/output_parquet\"\n",
    "df.write.mode(\"overwrite\").csv(csv_output_path, header=True)\n",
    "df.write.mode(\"overwrite\").parquet(parquet_output_path)"
   ]
  },
  {
   "cell_type": "code",
   "execution_count": 0,
   "metadata": {
    "application/vnd.databricks.v1+cell": {
     "cellMetadata": {
      "byteLimit": 2048000,
      "rowLimit": 10000
     },
     "inputWidgets": {},
     "nuid": "ba3db605-ac69-4abc-afd0-e7a6753c0356",
     "showTitle": false,
     "tableResultSettingsMap": {},
     "title": ""
    }
   },
   "outputs": [
    {
     "output_type": "stream",
     "name": "stdout",
     "output_type": "stream",
     "text": [
      "CSV Size: 143650.50 KB\nParquet Size: 10201.33 KB\n"
     ]
    }
   ],
   "source": [
    "csv_size = sum(f.size for f in dbutils.fs.ls(csv_output_path) if f.path.endswith(\".csv\"))\n",
    "parquet_size = sum(f.size for f in dbutils.fs.ls(parquet_output_path))\n",
    "print(f\"CSV Size: {csv_size / 1024:.2f} KB\")\n",
    "print(f\"Parquet Size: {parquet_size / 1024:.2f} KB\")"
   ]
  },
  {
   "cell_type": "code",
   "execution_count": 0,
   "metadata": {
    "application/vnd.databricks.v1+cell": {
     "cellMetadata": {
      "byteLimit": 2048000,
      "rowLimit": 10000
     },
     "inputWidgets": {},
     "nuid": "c671d254-f185-49d8-96e7-61c45a15081b",
     "showTitle": false,
     "tableResultSettingsMap": {},
     "title": ""
    }
   },
   "outputs": [
    {
     "output_type": "stream",
     "name": "stdout",
     "output_type": "stream",
     "text": [
      "Parquet is 14.08x smaller than CSV (92.90% reduction)\n"
     ]
    }
   ],
   "source": [
    "if parquet_size > 0:\n",
    "    size_diff_percent = ((csv_size - parquet_size) / csv_size) * 100\n",
    "    print(f\"Parquet is {csv_size / parquet_size:.2f}x smaller than CSV ({size_diff_percent:.2f}% reduction)\")\n",
    "else:\n",
    "    print(\"Parquet size is zero or not generated correctly.\")"
   ]
  }
 ],
 "metadata": {
  "application/vnd.databricks.v1+notebook": {
   "computePreferences": null,
   "dashboards": [],
   "environmentMetadata": {
    "base_environment": "",
    "environment_version": "1"
   },
   "inputWidgetPreferences": null,
   "language": "python",
   "notebookMetadata": {
    "pythonIndentUnit": 4
   },
   "notebookName": "Task_1",
   "widgets": {}
  }
 },
 "nbformat": 4,
 "nbformat_minor": 0
}