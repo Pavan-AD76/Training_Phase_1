{
 "cells": [
  {
   "cell_type": "markdown",
   "metadata": {
    "application/vnd.databricks.v1+cell": {
     "cellMetadata": {},
     "inputWidgets": {},
     "nuid": "c5d4f830-8955-41e4-9c60-5dc9191ebe6c",
     "showTitle": false,
     "tableResultSettingsMap": {},
     "title": ""
    }
   },
   "source": [
    "### Task_6"
   ]
  },
  {
   "cell_type": "code",
   "execution_count": 0,
   "metadata": {
    "application/vnd.databricks.v1+cell": {
     "cellMetadata": {
      "byteLimit": 2048000,
      "rowLimit": 10000
     },
     "inputWidgets": {},
     "nuid": "fcfa2fc0-5481-4feb-af6d-ff5abf316796",
     "showTitle": false,
     "tableResultSettingsMap": {},
     "title": ""
    }
   },
   "outputs": [],
   "source": [
    "from pyspark.sql.functions import concat_ws, col, udf\n",
    "from pyspark.sql.types import StructType, StructField, StringType, IntegerType"
   ]
  },
  {
   "cell_type": "code",
   "execution_count": 0,
   "metadata": {
    "application/vnd.databricks.v1+cell": {
     "cellMetadata": {
      "byteLimit": 2048000,
      "rowLimit": 10000
     },
     "inputWidgets": {},
     "nuid": "b6d956b7-c187-4b5b-a7f7-da98987400e0",
     "showTitle": false,
     "tableResultSettingsMap": {},
     "title": ""
    }
   },
   "outputs": [],
   "source": [
    "deliveries_df = spark.read.option(\"header\", True).csv(\"/FileStore/tables/ipl_sample_deliveries.csv\")"
   ]
  },
  {
   "cell_type": "code",
   "execution_count": 0,
   "metadata": {
    "application/vnd.databricks.v1+cell": {
     "cellMetadata": {
      "byteLimit": 2048000,
      "rowLimit": 10000
     },
     "inputWidgets": {},
     "nuid": "fe7d53ae-9219-4ec7-9266-d246a5edc02a",
     "showTitle": false,
     "tableResultSettingsMap": {},
     "title": ""
    }
   },
   "outputs": [],
   "source": [
    "deliveries_df = deliveries_df.withColumn(\"ball_summary\",\n",
    "    concat_ws(\" \", col(\"bowler\"), col(\"batter\"), col(\"total_runs\"))\n",
    ")"
   ]
  },
  {
   "cell_type": "code",
   "execution_count": 0,
   "metadata": {
    "application/vnd.databricks.v1+cell": {
     "cellMetadata": {
      "byteLimit": 2048000,
      "rowLimit": 10000
     },
     "inputWidgets": {},
     "nuid": "bef986e6-8041-4e4f-9e5b-86ad54d83d18",
     "showTitle": false,
     "tableResultSettingsMap": {},
     "title": ""
    }
   },
   "outputs": [],
   "source": [
    "info_schema = StructType([\n",
    "    StructField(\"Bowler\", StringType(), True),\n",
    "    StructField(\"Batsman\", StringType(), True),\n",
    "    StructField(\"Runs\", IntegerType(), True)\n",
    "])"
   ]
  },
  {
   "cell_type": "code",
   "execution_count": 0,
   "metadata": {
    "application/vnd.databricks.v1+cell": {
     "cellMetadata": {
      "byteLimit": 2048000,
      "rowLimit": 10000
     },
     "inputWidgets": {},
     "nuid": "d87b050f-7cc2-4930-b71b-7b5fff7a2018",
     "showTitle": false,
     "tableResultSettingsMap": {},
     "title": ""
    }
   },
   "outputs": [],
   "source": [
    "def parse_ball_summary(summary):\n",
    "    try:\n",
    "        parts = summary.strip().split()\n",
    "        if len(parts) >= 3:\n",
    "            bowler = parts[0]\n",
    "            batsman = parts[1]\n",
    "            runs = parts[2]\n",
    "            return (bowler, batsman, int(runs)) if runs.isdigit() else (bowler, batsman, 0)\n",
    "    except Exception:\n",
    "        pass\n",
    "    return (None, None, None)"
   ]
  },
  {
   "cell_type": "code",
   "execution_count": 0,
   "metadata": {
    "application/vnd.databricks.v1+cell": {
     "cellMetadata": {
      "byteLimit": 2048000,
      "rowLimit": 10000
     },
     "inputWidgets": {},
     "nuid": "dfcd515e-5445-4058-a1df-607af6551980",
     "showTitle": false,
     "tableResultSettingsMap": {},
     "title": ""
    }
   },
   "outputs": [],
   "source": [
    "parse_summary_udf = udf(parse_ball_summary, info_schema)\n",
    "parsed_df = deliveries_df.withColumn(\"parsed_info\", parse_summary_udf(col(\"ball_summary\")))"
   ]
  },
  {
   "cell_type": "code",
   "execution_count": 0,
   "metadata": {
    "application/vnd.databricks.v1+cell": {
     "cellMetadata": {
      "byteLimit": 2048000,
      "rowLimit": 10000
     },
     "inputWidgets": {},
     "nuid": "606cb03d-ab94-4fe9-a9f8-808b58f138f2",
     "showTitle": false,
     "tableResultSettingsMap": {},
     "title": ""
    }
   },
   "outputs": [
    {
     "output_type": "display_data",
     "data": {
      "text/html": [
       "<style scoped>\n",
       "  .table-result-container {\n",
       "    max-height: 300px;\n",
       "    overflow: auto;\n",
       "  }\n",
       "  table, th, td {\n",
       "    border: 1px solid black;\n",
       "    border-collapse: collapse;\n",
       "  }\n",
       "  th, td {\n",
       "    padding: 5px;\n",
       "  }\n",
       "  th {\n",
       "    text-align: left;\n",
       "  }\n",
       "</style><div class='table-result-container'><table class='table-result'><thead style='background-color: white'><tr><th>ball_summary</th><th>parsed_info</th></tr></thead><tbody><tr><td>P Kumar SC Ganguly 1</td><td>List(P, Kumar, 0)</td></tr><tr><td>P Kumar BB McCullum 0</td><td>List(P, Kumar, 0)</td></tr><tr><td>P Kumar BB McCullum 1</td><td>List(P, Kumar, 0)</td></tr><tr><td>P Kumar BB McCullum 0</td><td>List(P, Kumar, 0)</td></tr><tr><td>P Kumar BB McCullum 0</td><td>List(P, Kumar, 0)</td></tr><tr><td>P Kumar BB McCullum 1</td><td>List(P, Kumar, 0)</td></tr><tr><td>Z Khan SC Ganguly 2</td><td>List(Z, Khan, 0)</td></tr><tr><td>Z Khan SC Ganguly 0</td><td>List(Z, Khan, 0)</td></tr><tr><td>Z Khan SC Ganguly 4</td><td>List(Z, Khan, 0)</td></tr><tr><td>Z Khan SC Ganguly 6</td><td>List(Z, Khan, 0)</td></tr><tr><td>Z Khan SC Ganguly 1</td><td>List(Z, Khan, 0)</td></tr><tr><td>Z Khan BB McCullum 3</td><td>List(Z, Khan, 0)</td></tr><tr><td>P Kumar SC Ganguly 0</td><td>List(P, Kumar, 0)</td></tr><tr><td>P Kumar SC Ganguly 1</td><td>List(P, Kumar, 0)</td></tr><tr><td>P Kumar SC Ganguly 1</td><td>List(P, Kumar, 0)</td></tr><tr><td>P Kumar BB McCullum 2</td><td>List(P, Kumar, 0)</td></tr><tr><td>P Kumar BB McCullum 0</td><td>List(P, Kumar, 0)</td></tr><tr><td>P Kumar BB McCullum 4</td><td>List(P, Kumar, 0)</td></tr><tr><td>Z Khan SC Ganguly 0</td><td>List(Z, Khan, 0)</td></tr><tr><td>Z Khan SC Ganguly 6</td><td>List(Z, Khan, 0)</td></tr></tbody></table></div>"
      ]
     },
     "metadata": {
      "application/vnd.databricks.v1+output": {
       "addedWidgets": {},
       "aggData": [],
       "aggError": "",
       "aggOverflow": false,
       "aggSchema": [],
       "aggSeriesLimitReached": false,
       "aggType": "",
       "arguments": {},
       "columnCustomDisplayInfos": {},
       "data": [
        [
         "P Kumar SC Ganguly 1",
         [
          "P",
          "Kumar",
          0
         ]
        ],
        [
         "P Kumar BB McCullum 0",
         [
          "P",
          "Kumar",
          0
         ]
        ],
        [
         "P Kumar BB McCullum 1",
         [
          "P",
          "Kumar",
          0
         ]
        ],
        [
         "P Kumar BB McCullum 0",
         [
          "P",
          "Kumar",
          0
         ]
        ],
        [
         "P Kumar BB McCullum 0",
         [
          "P",
          "Kumar",
          0
         ]
        ],
        [
         "P Kumar BB McCullum 1",
         [
          "P",
          "Kumar",
          0
         ]
        ],
        [
         "Z Khan SC Ganguly 2",
         [
          "Z",
          "Khan",
          0
         ]
        ],
        [
         "Z Khan SC Ganguly 0",
         [
          "Z",
          "Khan",
          0
         ]
        ],
        [
         "Z Khan SC Ganguly 4",
         [
          "Z",
          "Khan",
          0
         ]
        ],
        [
         "Z Khan SC Ganguly 6",
         [
          "Z",
          "Khan",
          0
         ]
        ],
        [
         "Z Khan SC Ganguly 1",
         [
          "Z",
          "Khan",
          0
         ]
        ],
        [
         "Z Khan BB McCullum 3",
         [
          "Z",
          "Khan",
          0
         ]
        ],
        [
         "P Kumar SC Ganguly 0",
         [
          "P",
          "Kumar",
          0
         ]
        ],
        [
         "P Kumar SC Ganguly 1",
         [
          "P",
          "Kumar",
          0
         ]
        ],
        [
         "P Kumar SC Ganguly 1",
         [
          "P",
          "Kumar",
          0
         ]
        ],
        [
         "P Kumar BB McCullum 2",
         [
          "P",
          "Kumar",
          0
         ]
        ],
        [
         "P Kumar BB McCullum 0",
         [
          "P",
          "Kumar",
          0
         ]
        ],
        [
         "P Kumar BB McCullum 4",
         [
          "P",
          "Kumar",
          0
         ]
        ],
        [
         "Z Khan SC Ganguly 0",
         [
          "Z",
          "Khan",
          0
         ]
        ],
        [
         "Z Khan SC Ganguly 6",
         [
          "Z",
          "Khan",
          0
         ]
        ]
       ],
       "datasetInfos": [],
       "dbfsResultPath": null,
       "isJsonSchema": true,
       "metadata": {},
       "overflow": false,
       "plotOptions": {
        "customPlotOptions": {},
        "displayType": "table",
        "pivotAggregation": null,
        "pivotColumns": null,
        "xColumns": null,
        "yColumns": null
       },
       "removedWidgets": [],
       "schema": [
        {
         "metadata": "{}",
         "name": "ball_summary",
         "type": "\"string\""
        },
        {
         "metadata": "{}",
         "name": "parsed_info",
         "type": "{\"type\":\"struct\",\"fields\":[{\"name\":\"Bowler\",\"type\":\"string\",\"nullable\":true,\"metadata\":{}},{\"name\":\"Batsman\",\"type\":\"string\",\"nullable\":true,\"metadata\":{}},{\"name\":\"Runs\",\"type\":\"integer\",\"nullable\":true,\"metadata\":{}}]}"
        }
       ],
       "type": "table"
      }
     },
     "output_type": "display_data"
    }
   ],
   "source": [
    "parsed_df.select(\"ball_summary\", \"parsed_info\").display()"
   ]
  }
 ],
 "metadata": {
  "application/vnd.databricks.v1+notebook": {
   "computePreferences": null,
   "dashboards": [],
   "environmentMetadata": {
    "base_environment": "",
    "environment_version": "1"
   },
   "inputWidgetPreferences": null,
   "language": "python",
   "notebookMetadata": {
    "pythonIndentUnit": 4
   },
   "notebookName": "Task_6",
   "widgets": {}
  }
 },
 "nbformat": 4,
 "nbformat_minor": 0
}