{
 "cells": [
  {
   "cell_type": "markdown",
   "id": "bcb6705f-97e2-4cd5-9f8a-77127e145dea",
   "metadata": {},
   "source": [
    "## Task 4: Generator Sequence"
   ]
  },
  {
   "cell_type": "code",
   "execution_count": 38,
   "id": "86270e4f-7441-4037-9b62-90180985e48d",
   "metadata": {},
   "outputs": [
    {
     "name": "stdin",
     "output_type": "stream",
     "text": [
      "Enter the number of terms:  5\n"
     ]
    },
    {
     "name": "stdout",
     "output_type": "stream",
     "text": [
      "[0, 1, 1, 2, 3]\n"
     ]
    }
   ],
   "source": [
    "n = int(input(\"Enter the number of terms: \"))\n",
    "def fib(n):\n",
    "    a, b = 0, 1  \n",
    "    for i in range(n):\n",
    "        yield a  \n",
    "        a, b = b, a + b  \n",
    "fib_list = list(fib(n))\n",
    "print(fib_list)"
   ]
  }
 ],
 "metadata": {
  "kernelspec": {
   "display_name": "Python 3 (ipykernel)",
   "language": "python",
   "name": "python3"
  },
  "language_info": {
   "codemirror_mode": {
    "name": "ipython",
    "version": 3
   },
   "file_extension": ".py",
   "mimetype": "text/x-python",
   "name": "python",
   "nbconvert_exporter": "python",
   "pygments_lexer": "ipython3",
   "version": "3.12.4"
  }
 },
 "nbformat": 4,
 "nbformat_minor": 5
}
