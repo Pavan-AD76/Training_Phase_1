{
 "cells": [
  {
   "cell_type": "markdown",
   "id": "c4df1789-f157-4719-bf51-00efc5cfcd99",
   "metadata": {},
   "source": [
    "# Level 03"
   ]
  },
  {
   "cell_type": "markdown",
   "id": "db3ca38f-3dfd-416e-886a-d773ed427502",
   "metadata": {},
   "source": [
    "## Task 1 : Exception Handler"
   ]
  },
  {
   "cell_type": "code",
   "execution_count": 9,
   "id": "3290db91-9218-4bf5-891c-6898dc60ec0b",
   "metadata": {},
   "outputs": [
    {
     "name": "stdin",
     "output_type": "stream",
     "text": [
      "Enter a number: 12\n",
      "Enter a number: 0\n"
     ]
    },
    {
     "name": "stdout",
     "output_type": "stream",
     "text": [
      "Enter a number except zero\n",
      "Execution Done\n"
     ]
    }
   ],
   "source": [
    "try:\n",
    "    a=int(input(\"Enter a number:\"))\n",
    "    b=int(input(\"Enter a number:\"))\n",
    "    num=a/b\n",
    "except ZeroDivisionError:\n",
    "    print(\"Enter a number except zero\")\n",
    "else:\n",
    "    print(\"Ans:\",num)\n",
    "finally:\n",
    "    print(\"Execution Done\")"
   ]
  },
  {
   "cell_type": "code",
   "execution_count": null,
   "id": "3b7f4684-b0e7-4595-9036-20452cee6817",
   "metadata": {},
   "outputs": [],
   "source": []
  }
 ],
 "metadata": {
  "kernelspec": {
   "display_name": "Python 3 (ipykernel)",
   "language": "python",
   "name": "python3"
  },
  "language_info": {
   "codemirror_mode": {
    "name": "ipython",
    "version": 3
   },
   "file_extension": ".py",
   "mimetype": "text/x-python",
   "name": "python",
   "nbconvert_exporter": "python",
   "pygments_lexer": "ipython3",
   "version": "3.12.4"
  }
 },
 "nbformat": 4,
 "nbformat_minor": 5
}
