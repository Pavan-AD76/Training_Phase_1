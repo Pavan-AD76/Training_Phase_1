{
 "cells": [
  {
   "cell_type": "markdown",
   "id": "5c53951e-2b92-41f0-8e6b-bcab670ee896",
   "metadata": {},
   "source": [
    "## Task 5: Deep Copy Test"
   ]
  },
  {
   "cell_type": "markdown",
   "id": "93b0465b-d6e8-4d4d-a8e9-7712f5dc3d69",
   "metadata": {},
   "source": [
    "### shallow copy"
   ]
  },
  {
   "cell_type": "code",
   "execution_count": 87,
   "id": "48529a97-ad99-48c2-bc94-25b0d46f2b6c",
   "metadata": {},
   "outputs": [],
   "source": [
    "lst1=[[9,2],[3,4]]"
   ]
  },
  {
   "cell_type": "code",
   "execution_count": 89,
   "id": "dd31dc9b-3cd7-411a-bea4-e013b87523eb",
   "metadata": {},
   "outputs": [
    {
     "data": {
      "text/plain": [
       "([[9, 2], [3, 4]], [[9, 2], [3, 4]])"
      ]
     },
     "execution_count": 89,
     "metadata": {},
     "output_type": "execute_result"
    }
   ],
   "source": [
    "lst2=lst1.copy()\n",
    "lst1,lst2"
   ]
  },
  {
   "cell_type": "code",
   "execution_count": 77,
   "id": "90cf7441-8070-4837-871a-91c6cb25ea2f",
   "metadata": {},
   "outputs": [
    {
     "data": {
      "text/plain": [
       "9"
      ]
     },
     "execution_count": 77,
     "metadata": {},
     "output_type": "execute_result"
    }
   ],
   "source": [
    "lst1[0][0]"
   ]
  },
  {
   "cell_type": "code",
   "execution_count": 79,
   "id": "68522124-be4b-4242-92cb-d223700845a9",
   "metadata": {},
   "outputs": [
    {
     "name": "stdout",
     "output_type": "stream",
     "text": [
      "lst2: [[4, 2], [3, 4], [[8, 2], [3, 4]]]\n",
      "lst1: [[4, 2], [3, 4]]\n"
     ]
    }
   ],
   "source": [
    "lst1[0][0]=4\n",
    "print(\"lst2:\",lst2)\n",
    "print(\"lst1:\",lst1)"
   ]
  },
  {
   "cell_type": "code",
   "execution_count": 91,
   "id": "37cf65b0-26cc-4743-b2a5-a0c99924181d",
   "metadata": {},
   "outputs": [
    {
     "data": {
      "text/plain": [
       "[[9, 2], [3, 4], [[8, 2], [3, 4]]]"
      ]
     },
     "execution_count": 91,
     "metadata": {},
     "output_type": "execute_result"
    }
   ],
   "source": [
    "lst2.append([[8, 2], [3, 4]])\n",
    "lst2"
   ]
  },
  {
   "cell_type": "code",
   "execution_count": 93,
   "id": "766f3b31-99a2-41ec-bfda-8e0b738da072",
   "metadata": {},
   "outputs": [
    {
     "data": {
      "text/plain": [
       "[[9, 2], [3, 4]]"
      ]
     },
     "execution_count": 93,
     "metadata": {},
     "output_type": "execute_result"
    }
   ],
   "source": [
    "lst1"
   ]
  },
  {
   "cell_type": "code",
   "execution_count": 95,
   "id": "008644ee-b460-45cd-a618-aad24306af2b",
   "metadata": {},
   "outputs": [
    {
     "data": {
      "text/plain": [
       "([[9, 2], [3, 4]], [[9, 2], [3, 4], [[8, 2], [3, 4]]])"
      ]
     },
     "execution_count": 95,
     "metadata": {},
     "output_type": "execute_result"
    }
   ],
   "source": [
    "lst1,lst2"
   ]
  },
  {
   "cell_type": "markdown",
   "id": "27272297-7ec8-4b61-91b3-f3244fdcd5e1",
   "metadata": {},
   "source": [
    "### Deep copy"
   ]
  },
  {
   "cell_type": "code",
   "execution_count": 109,
   "id": "44f63df9-0777-4a4e-bbbe-c3526db34884",
   "metadata": {},
   "outputs": [],
   "source": [
    "import copy"
   ]
  },
  {
   "cell_type": "code",
   "execution_count": 111,
   "id": "bd0f55c1-6dde-4613-9dcc-9deafde268f3",
   "metadata": {},
   "outputs": [
    {
     "data": {
      "text/plain": [
       "[[9, 2], [3, 4]]"
      ]
     },
     "execution_count": 111,
     "metadata": {},
     "output_type": "execute_result"
    }
   ],
   "source": [
    "lst3=[[9,2],[3,4]]\n",
    "lst3"
   ]
  },
  {
   "cell_type": "code",
   "execution_count": 113,
   "id": "8f3e2f9f-d2f3-470f-b7ce-5ab04e5cd678",
   "metadata": {},
   "outputs": [
    {
     "data": {
      "text/plain": [
       "[[9, 2], [3, 4]]"
      ]
     },
     "execution_count": 113,
     "metadata": {},
     "output_type": "execute_result"
    }
   ],
   "source": [
    "lst4=copy.deepcopy(lst3)\n",
    "lst4"
   ]
  },
  {
   "cell_type": "code",
   "execution_count": 115,
   "id": "2133baf2-d244-4cd5-aba0-824858f51745",
   "metadata": {},
   "outputs": [
    {
     "data": {
      "text/plain": [
       "[[9, 2], [3, 4], [[8, 2], [3, 4]]]"
      ]
     },
     "execution_count": 115,
     "metadata": {},
     "output_type": "execute_result"
    }
   ],
   "source": [
    "lst4.append([[8, 2], [3, 4]])\n",
    "lst4"
   ]
  },
  {
   "cell_type": "code",
   "execution_count": 117,
   "id": "a4a5f7ba-19d6-46aa-afc0-00b03611859f",
   "metadata": {},
   "outputs": [
    {
     "data": {
      "text/plain": [
       "([[9, 2], [3, 4]], [[9, 2], [3, 4], [[8, 2], [3, 4]]])"
      ]
     },
     "execution_count": 117,
     "metadata": {},
     "output_type": "execute_result"
    }
   ],
   "source": [
    "lst3,lst4"
   ]
  },
  {
   "cell_type": "code",
   "execution_count": 119,
   "id": "65670228-dd3b-4174-9c78-87e81ee5c4e0",
   "metadata": {},
   "outputs": [
    {
     "data": {
      "text/plain": [
       "9"
      ]
     },
     "execution_count": 119,
     "metadata": {},
     "output_type": "execute_result"
    }
   ],
   "source": [
    "lst3[0][0]"
   ]
  },
  {
   "cell_type": "code",
   "execution_count": 121,
   "id": "d63978a2-c615-4bb3-a41c-8cb3189522b3",
   "metadata": {},
   "outputs": [
    {
     "name": "stdout",
     "output_type": "stream",
     "text": [
      "Lst3: [[4, 2], [3, 4]]\n",
      "Lst4: [[9, 2], [3, 4], [[8, 2], [3, 4]]]\n"
     ]
    }
   ],
   "source": [
    "lst3[0][0]=4\n",
    "print(\"Lst3:\",lst3)\n",
    "print(\"Lst4:\",lst4)"
   ]
  }
 ],
 "metadata": {
  "kernelspec": {
   "display_name": "Python 3 (ipykernel)",
   "language": "python",
   "name": "python3"
  },
  "language_info": {
   "codemirror_mode": {
    "name": "ipython",
    "version": 3
   },
   "file_extension": ".py",
   "mimetype": "text/x-python",
   "name": "python",
   "nbconvert_exporter": "python",
   "pygments_lexer": "ipython3",
   "version": "3.12.4"
  }
 },
 "nbformat": 4,
 "nbformat_minor": 5
}
