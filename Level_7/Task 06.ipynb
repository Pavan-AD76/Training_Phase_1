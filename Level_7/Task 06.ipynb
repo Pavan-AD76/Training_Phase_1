{
 "cells": [
  {
   "cell_type": "markdown",
   "id": "54cd1c9b-05ab-4497-9947-c1677bcd3879",
   "metadata": {},
   "source": [
    "## Task 6: Pearson vs. Spearman Correlation"
   ]
  },
  {
   "cell_type": "code",
   "execution_count": 28,
   "id": "5a400e95-bf7c-42c3-ab14-b3ea65992cba",
   "metadata": {},
   "outputs": [],
   "source": [
    "from scipy.stats import stats"
   ]
  },
  {
   "cell_type": "code",
   "execution_count": 30,
   "id": "6c1335ff-7d17-41fd-9363-dd76901b7306",
   "metadata": {},
   "outputs": [],
   "source": [
    "height=[160,170,180,175,]\n",
    "weight=[60,70,75,65]"
   ]
  },
  {
   "cell_type": "code",
   "execution_count": 50,
   "id": "d4cbddcb-dd8b-40be-913a-5cf364b0be7a",
   "metadata": {
    "scrolled": true
   },
   "outputs": [
    {
     "name": "stdout",
     "output_type": "stream",
     "text": [
      "Pearson:PearsonRResult(statistic=0.8315218406203, pvalue=0.1684781593797),\n",
      "Spearman:SignificanceResult(statistic=0.7999999999999999, pvalue=0.20000000000000007)\n"
     ]
    },
    {
     "name": "stderr",
     "output_type": "stream",
     "text": [
      "C:\\Users\\nithy\\AppData\\Local\\Temp\\ipykernel_10676\\2915466138.py:1: DeprecationWarning: Please import `pearsonr` from the `scipy.stats` namespace; the `scipy.stats.stats` namespace is deprecated and will be removed in SciPy 2.0.0.\n",
      "  pearson=stats.pearsonr(height,weight)\n",
      "C:\\Users\\nithy\\AppData\\Local\\Temp\\ipykernel_10676\\2915466138.py:3: DeprecationWarning: Please import `spearmanr` from the `scipy.stats` namespace; the `scipy.stats.stats` namespace is deprecated and will be removed in SciPy 2.0.0.\n",
      "  spearman=stats.spearmanr(height,weight)\n"
     ]
    }
   ],
   "source": [
    "pearson=stats.pearsonr(height,weight)\n",
    "type(pearson)\n",
    "spearman=stats.spearmanr(height,weight)\n",
    "print(f\"Pearson:{pearson},\\nSpearman:{spearman}\")"
   ]
  },
  {
   "cell_type": "code",
   "execution_count": 56,
   "id": "be70cd65-f9eb-46bb-b491-0f0cb7351b00",
   "metadata": {},
   "outputs": [
    {
     "data": {
      "text/plain": [
       "float"
      ]
     },
     "execution_count": 56,
     "metadata": {},
     "output_type": "execute_result"
    }
   ],
   "source": [
    "type(pearson)"
   ]
  },
  {
   "cell_type": "code",
   "execution_count": 54,
   "id": "a1c19846-078a-485f-9ce3-77ccf7551365",
   "metadata": {},
   "outputs": [],
   "source": [
    "pearson = float(pearson.statistic) \n",
    "spearman= float(spearman.statistic)"
   ]
  },
  {
   "cell_type": "code",
   "execution_count": 62,
   "id": "757c9893-b4ba-4ea2-a808-609e58ad8ca2",
   "metadata": {},
   "outputs": [
    {
     "name": "stdout",
     "output_type": "stream",
     "text": [
      "Pearson ≈ 0.8315218406203, Spearman ≈ 0.7999999999999999.Both show positive correlation; Pearson higher due to near-linear relationship.\n"
     ]
    }
   ],
   "source": [
    "if pearson>0 and spearman>0:    \n",
    "    print(f\"Pearson ≈ {pearson}, Spearman ≈ {spearman}.Both show positive correlation; Pearson higher due to near-linear relationship.\")\n",
    "else:\n",
    "    print(f\"Pearson ≈ {pearson}, Spearman ≈ {spearman}.Both show negative correlation\")"
   ]
  },
  {
   "cell_type": "code",
   "execution_count": null,
   "id": "5c3b2a30-e484-49f5-98fa-ce0cc975c018",
   "metadata": {},
   "outputs": [],
   "source": []
  }
 ],
 "metadata": {
  "kernelspec": {
   "display_name": "Python 3 (ipykernel)",
   "language": "python",
   "name": "python3"
  },
  "language_info": {
   "codemirror_mode": {
    "name": "ipython",
    "version": 3
   },
   "file_extension": ".py",
   "mimetype": "text/x-python",
   "name": "python",
   "nbconvert_exporter": "python",
   "pygments_lexer": "ipython3",
   "version": "3.12.4"
  }
 },
 "nbformat": 4,
 "nbformat_minor": 5
}
