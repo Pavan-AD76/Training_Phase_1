{
 "cells": [
  {
   "cell_type": "markdown",
   "id": "68fb0461-3e53-439b-9653-65c4934e5dd2",
   "metadata": {},
   "source": [
    "## Task 1: One-Sample Z-Test"
   ]
  },
  {
   "cell_type": "code",
   "execution_count": 24,
   "id": "8172cafe-122a-45e0-b863-ad150982d4e7",
   "metadata": {},
   "outputs": [],
   "source": [
    "from statsmodels.stats.weightstats import ztest as ztest"
   ]
  },
  {
   "cell_type": "code",
   "execution_count": 26,
   "id": "a7cb4a9a-97b5-4df0-abbf-b724f19928db",
   "metadata": {},
   "outputs": [
    {
     "data": {
      "application/javascript": [
       "\n",
       "        if (window._pyforest_update_imports_cell) { window._pyforest_update_imports_cell('import numpy as np'); }\n",
       "    "
      ],
      "text/plain": [
       "<IPython.core.display.Javascript object>"
      ]
     },
     "metadata": {},
     "output_type": "display_data"
    },
    {
     "data": {
      "text/plain": [
       "array([138.31097698, 125.84327535, 152.06296295, 137.96609044,\n",
       "       143.04359501, 139.86202754, 163.55739831, 135.43173268,\n",
       "       151.63440742, 105.40012579, 122.75240193, 139.49150984,\n",
       "       142.80704392, 140.37688696, 127.26412406, 149.09473409,\n",
       "       159.87048418, 157.56867659, 155.39077518, 109.92489997,\n",
       "       147.95439124, 132.4019289 , 152.10631571, 154.27111803,\n",
       "       147.71793779, 144.99386029, 148.61035376, 138.60823926,\n",
       "       132.75659175, 151.23897142])"
      ]
     },
     "execution_count": 26,
     "metadata": {},
     "output_type": "execute_result"
    }
   ],
   "source": [
    "data=np.random.normal(140, 15, 30)\n",
    "data"
   ]
  },
  {
   "cell_type": "code",
   "execution_count": 28,
   "id": "02f57a40-d34c-4e14-9db3-2ccb12f4f9eb",
   "metadata": {},
   "outputs": [],
   "source": [
    "(z_test,p_value)=ztest(data,value=100)"
   ]
  },
  {
   "cell_type": "code",
   "execution_count": 30,
   "id": "299c7ccf-ab02-4bbe-a6ec-3315deab5285",
   "metadata": {},
   "outputs": [
    {
     "data": {
      "text/plain": [
       "16.703617753491745"
      ]
     },
     "execution_count": 30,
     "metadata": {},
     "output_type": "execute_result"
    }
   ],
   "source": [
    "z_test"
   ]
  },
  {
   "cell_type": "code",
   "execution_count": 32,
   "id": "c2efa0fc-dce3-4ac1-9f62-b90657b1b0b3",
   "metadata": {},
   "outputs": [
    {
     "data": {
      "text/plain": [
       "1.2335343795710136e-62"
      ]
     },
     "execution_count": 32,
     "metadata": {},
     "output_type": "execute_result"
    }
   ],
   "source": [
    "p_value"
   ]
  },
  {
   "cell_type": "code",
   "execution_count": 41,
   "id": "510cb847-63ac-406d-af4c-b7fde96ccc70",
   "metadata": {},
   "outputs": [
    {
     "name": "stdout",
     "output_type": "stream",
     "text": [
      "Z_test=16.703617753491745 , P_value=1.2335343795710136e-62\n"
     ]
    }
   ],
   "source": [
    "print(f\"Z_test={z_test} , P_value={p_value}\")"
   ]
  },
  {
   "cell_type": "code",
   "execution_count": 43,
   "id": "2f9f7e1d-0e94-4364-a8d8-c8779fbc4b6e",
   "metadata": {},
   "outputs": [
    {
     "name": "stdout",
     "output_type": "stream",
     "text": [
      "H0 is rejected; medication affects IQ, likely increasing it (mean = 140 > 100).\n"
     ]
    }
   ],
   "source": [
    "α=0.05\n",
    "if p_value<α:\n",
    "    print(\"H0 is rejected; medication affects IQ, likely increasing it (mean = 140 > 100).\")\n",
    "else:\n",
    "    print(\"H0 is accepted\")"
   ]
  },
  {
   "cell_type": "code",
   "execution_count": null,
   "id": "8f1d13b9-e0b0-4d58-a303-94d073558664",
   "metadata": {},
   "outputs": [],
   "source": [
    "\n"
   ]
  },
  {
   "cell_type": "code",
   "execution_count": null,
   "id": "d5133720-77e0-4258-bd31-abbf9c5fa641",
   "metadata": {},
   "outputs": [],
   "source": []
  }
 ],
 "metadata": {
  "kernelspec": {
   "display_name": "Python 3 (ipykernel)",
   "language": "python",
   "name": "python3"
  },
  "language_info": {
   "codemirror_mode": {
    "name": "ipython",
    "version": 3
   },
   "file_extension": ".py",
   "mimetype": "text/x-python",
   "name": "python",
   "nbconvert_exporter": "python",
   "pygments_lexer": "ipython3",
   "version": "3.12.4"
  }
 },
 "nbformat": 4,
 "nbformat_minor": 5
}
