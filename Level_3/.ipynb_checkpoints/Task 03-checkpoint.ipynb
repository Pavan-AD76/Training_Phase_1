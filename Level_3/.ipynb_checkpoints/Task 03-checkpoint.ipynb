{
 "cells": [
  {
   "cell_type": "markdown",
   "id": "addb7634-03f6-4142-8d96-9f9c4e584706",
   "metadata": {},
   "source": [
    "##  Task 3: Decorator Timer"
   ]
  },
  {
   "cell_type": "code",
   "execution_count": 14,
   "id": "7c932acb-4853-47ac-ab61-7b89b0210891",
   "metadata": {},
   "outputs": [
    {
     "name": "stdout",
     "output_type": "stream",
     "text": [
      "Elapsed time: 1.0005 seconds\n"
     ]
    }
   ],
   "source": [
    "import time\n",
    "def timer_decorator(func):\n",
    "    def wrapper():\n",
    "        start_time = time.time() \n",
    "        func()  \n",
    "        end_time = time.time()  \n",
    "        elapsed_time = end_time - start_time\n",
    "        print(f\"Elapsed time: {elapsed_time:.4f} seconds\")\n",
    "    return wrapper\n",
    "@timer_decorator\n",
    "def decorator_timer():\n",
    "    time.sleep(1) \n",
    "decorator_timer()"
   ]
  }
 ],
 "metadata": {
  "kernelspec": {
   "display_name": "Python 3 (ipykernel)",
   "language": "python",
   "name": "python3"
  },
  "language_info": {
   "codemirror_mode": {
    "name": "ipython",
    "version": 3
   },
   "file_extension": ".py",
   "mimetype": "text/x-python",
   "name": "python",
   "nbconvert_exporter": "python",
   "pygments_lexer": "ipython3",
   "version": "3.12.4"
  }
 },
 "nbformat": 4,
 "nbformat_minor": 5
}
