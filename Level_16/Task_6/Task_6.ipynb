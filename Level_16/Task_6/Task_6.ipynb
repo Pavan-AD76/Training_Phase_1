{
 "cells": [
  {
   "cell_type": "code",
   "execution_count": 0,
   "metadata": {
    "application/vnd.databricks.v1+cell": {
     "cellMetadata": {
      "byteLimit": 2048000,
      "rowLimit": 10000
     },
     "inputWidgets": {},
     "nuid": "b04a1712-b8af-4c50-93fb-8e4a506dbbf5",
     "showTitle": false,
     "tableResultSettingsMap": {},
     "title": ""
    }
   },
   "outputs": [],
   "source": [
    "df=spark.read.format('csv').option('inferSchema',True).option('header',True).load('/FileStore/tables/ipl_commentary_data.csv')"
   ]
  },
  {
   "cell_type": "code",
   "execution_count": 0,
   "metadata": {
    "application/vnd.databricks.v1+cell": {
     "cellMetadata": {
      "byteLimit": 2048000,
      "rowLimit": 10000
     },
     "inputWidgets": {},
     "nuid": "74c62a46-5b6d-4942-99bc-b027b2111855",
     "showTitle": false,
     "tableResultSettingsMap": {},
     "title": ""
    }
   },
   "outputs": [
    {
     "output_type": "stream",
     "name": "stdout",
     "output_type": "stream",
     "text": [
      "root\n |-- year: string (nullable = true)\n |-- series_type: string (nullable = true)\n |-- series_name: string (nullable = true)\n |-- match_no: string (nullable = true)\n |-- match_type: string (nullable = true)\n |-- match_id: integer (nullable = true)\n |-- match_venue: string (nullable = true)\n |-- match_status: string (nullable = true)\n |-- match_winning_team: string (nullable = true)\n |-- match_tie_breaker: string (nullable = true)\n |-- match_toss: string (nullable = true)\n |-- umpires: string (nullable = true)\n |-- match_referee: string (nullable = true)\n |-- third_umpires: string (nullable = true)\n |-- match_datetime: string (nullable = true)\n |-- team1_name: string (nullable = true)\n |-- team2_name: string (nullable = true)\n |-- team1_score: string (nullable = true)\n |-- team1_wickets: integer (nullable = true)\n |-- team2_score: integer (nullable = true)\n |-- team2_wickets: integer (nullable = true)\n |-- team1_captain: string (nullable = true)\n |-- team1_players: string (nullable = true)\n |-- team1_bench: string (nullable = true)\n |-- team1_support_staff: string (nullable = true)\n |-- team2_captain: string (nullable = true)\n |-- team2_players: string (nullable = true)\n |-- team2_bench: string (nullable = true)\n |-- team2_support_staff: string (nullable = true)\n |-- ball_no: integer (nullable = true)\n |-- over_no: double (nullable = true)\n |-- ball_commentary: string (nullable = true)\n\n"
     ]
    }
   ],
   "source": [
    "df.printSchema()"
   ]
  },
  {
   "cell_type": "code",
   "execution_count": 0,
   "metadata": {
    "application/vnd.databricks.v1+cell": {
     "cellMetadata": {
      "byteLimit": 2048000,
      "rowLimit": 10000
     },
     "inputWidgets": {},
     "nuid": "47b0ce7a-3356-41b8-8b03-a02113873dd7",
     "showTitle": false,
     "tableResultSettingsMap": {},
     "title": ""
    }
   },
   "outputs": [
    {
     "output_type": "stream",
     "name": "stdout",
     "output_type": "stream",
     "text": [
      "+----+-----------+--------------------+---------+----------+--------+--------------------+------------+--------------------+-----------------+--------------------+--------------------+--------------------+--------------------+--------------------+----------+----------+-----------+-------------+-----------+-------------+-------------+-------------+--------------------+-------------------+-------------+-------------+--------------------+-------------------+-------+-------+--------------------+\n|year|series_type|         series_name| match_no|match_type|match_id|         match_venue|match_status|  match_winning_team|match_tie_breaker|          match_toss|             umpires|       match_referee|       third_umpires|      match_datetime|team1_name|team2_name|team1_score|team1_wickets|team2_score|team2_wickets|team1_captain|team1_players|         team1_bench|team1_support_staff|team2_captain|team2_players|         team2_bench|team2_support_staff|ball_no|over_no|     ball_commentary|\n+----+-----------+--------------------+---------+----------+--------+--------------------+------------+--------------------+-----------------+--------------------+--------------------+--------------------+--------------------+--------------------+----------+----------+-----------+-------------+-----------+-------------+-------------+-------------+--------------------+-------------------+-------------+-------------+--------------------+-------------------+-------+-------+--------------------+\n|2021| T20 League|Indian Premier Le...|1st Match|   T20 IPL|   35612|{'stadium': 'MA C...|   completed|Royal Challengers...|             null|Royal Challengers...|KN Anantha Padman...|Vengalil Narayana...|Chettithody Shams...|2021-04-09 19:30:...|        MI|       RCB|        159|            9|        160|            8|         null|           []|Nathan Coulter-Ni...|               null|         null|           []|Adam Zampa, Devdu...|               null|      1|    0.1|Siraj to Rohit, 2...|\n|2021| T20 League|Indian Premier Le...|1st Match|   T20 IPL|   35612|{'stadium': 'MA C...|   completed|Royal Challengers...|             null|Royal Challengers...|KN Anantha Padman...|Vengalil Narayana...|Chettithody Shams...|2021-04-09 19:30:...|        MI|       RCB|        159|            9|        160|            8|         null|           []|Nathan Coulter-Ni...|               null|         null|           []|Adam Zampa, Devdu...|               null|      2|    0.2|Siraj to Rohit, n...|\n|2021| T20 League|Indian Premier Le...|1st Match|   T20 IPL|   35612|{'stadium': 'MA C...|   completed|Royal Challengers...|             null|Royal Challengers...|KN Anantha Padman...|Vengalil Narayana...|Chettithody Shams...|2021-04-09 19:30:...|        MI|       RCB|        159|            9|        160|            8|         null|           []|Nathan Coulter-Ni...|               null|         null|           []|Adam Zampa, Devdu...|               null|      3|    0.3|Siraj to Rohit, n...|\n|2021| T20 League|Indian Premier Le...|1st Match|   T20 IPL|   35612|{'stadium': 'MA C...|   completed|Royal Challengers...|             null|Royal Challengers...|KN Anantha Padman...|Vengalil Narayana...|Chettithody Shams...|2021-04-09 19:30:...|        MI|       RCB|        159|            9|        160|            8|         null|           []|Nathan Coulter-Ni...|               null|         null|           []|Adam Zampa, Devdu...|               null|      4|    0.4|Siraj to Rohit, 2...|\n|2021| T20 League|Indian Premier Le...|1st Match|   T20 IPL|   35612|{'stadium': 'MA C...|   completed|Royal Challengers...|             null|Royal Challengers...|KN Anantha Padman...|Vengalil Narayana...|Chettithody Shams...|2021-04-09 19:30:...|        MI|       RCB|        159|            9|        160|            8|         null|           []|Nathan Coulter-Ni...|               null|         null|           []|Adam Zampa, Devdu...|               null|      5|    0.5|Siraj to Rohit, n...|\n|2021| T20 League|Indian Premier Le...|1st Match|   T20 IPL|   35612|{'stadium': 'MA C...|   completed|Royal Challengers...|             null|Royal Challengers...|KN Anantha Padman...|Vengalil Narayana...|Chettithody Shams...|2021-04-09 19:30:...|        MI|       RCB|        159|            9|        160|            8|         null|           []|Nathan Coulter-Ni...|               null|         null|           []|Adam Zampa, Devdu...|               null|      6|    0.6|Siraj to Rohit, 1...|\n|2021| T20 League|Indian Premier Le...|1st Match|   T20 IPL|   35612|{'stadium': 'MA C...|   completed|Royal Challengers...|             null|Royal Challengers...|KN Anantha Padman...|Vengalil Narayana...|Chettithody Shams...|2021-04-09 19:30:...|        MI|       RCB|        159|            9|        160|            8|         null|           []|Nathan Coulter-Ni...|               null|         null|           []|Adam Zampa, Devdu...|               null|      7|    1.1|Jamieson to Rohit...|\n|2021| T20 League|Indian Premier Le...|1st Match|   T20 IPL|   35612|{'stadium': 'MA C...|   completed|Royal Challengers...|             null|Royal Challengers...|KN Anantha Padman...|Vengalil Narayana...|Chettithody Shams...|2021-04-09 19:30:...|        MI|       RCB|        159|            9|        160|            8|         null|           []|Nathan Coulter-Ni...|               null|         null|           []|Adam Zampa, Devdu...|               null|      8|    1.2|Jamieson to Chris...|\n|2021| T20 League|Indian Premier Le...|1st Match|   T20 IPL|   35612|{'stadium': 'MA C...|   completed|Royal Challengers...|             null|Royal Challengers...|KN Anantha Padman...|Vengalil Narayana...|Chettithody Shams...|2021-04-09 19:30:...|        MI|       RCB|        159|            9|        160|            8|         null|           []|Nathan Coulter-Ni...|               null|         null|           []|Adam Zampa, Devdu...|               null|      9|    1.3|Jamieson to Chris...|\n|2021| T20 League|Indian Premier Le...|1st Match|   T20 IPL|   35612|{'stadium': 'MA C...|   completed|Royal Challengers...|             null|Royal Challengers...|KN Anantha Padman...|Vengalil Narayana...|Chettithody Shams...|2021-04-09 19:30:...|        MI|       RCB|        159|            9|        160|            8|         null|           []|Nathan Coulter-Ni...|               null|         null|           []|Adam Zampa, Devdu...|               null|     10|    1.4|Jamieson to Chris...|\n|2021| T20 League|Indian Premier Le...|1st Match|   T20 IPL|   35612|{'stadium': 'MA C...|   completed|Royal Challengers...|             null|Royal Challengers...|KN Anantha Padman...|Vengalil Narayana...|Chettithody Shams...|2021-04-09 19:30:...|        MI|       RCB|        159|            9|        160|            8|         null|           []|Nathan Coulter-Ni...|               null|         null|           []|Adam Zampa, Devdu...|               null|     11|    1.5|Jamieson to Chris...|\n|2021| T20 League|Indian Premier Le...|1st Match|   T20 IPL|   35612|{'stadium': 'MA C...|   completed|Royal Challengers...|             null|Royal Challengers...|KN Anantha Padman...|Vengalil Narayana...|Chettithody Shams...|2021-04-09 19:30:...|        MI|       RCB|        159|            9|        160|            8|         null|           []|Nathan Coulter-Ni...|               null|         null|           []|Adam Zampa, Devdu...|               null|     12|    1.6|Jamieson to Chris...|\n|2021| T20 League|Indian Premier Le...|1st Match|   T20 IPL|   35612|{'stadium': 'MA C...|   completed|Royal Challengers...|             null|Royal Challengers...|KN Anantha Padman...|Vengalil Narayana...|Chettithody Shams...|2021-04-09 19:30:...|        MI|       RCB|        159|            9|        160|            8|         null|           []|Nathan Coulter-Ni...|               null|         null|           []|Adam Zampa, Devdu...|               null|     13|    2.1|Siraj to Rohit, n...|\n|2021| T20 League|Indian Premier Le...|1st Match|   T20 IPL|   35612|{'stadium': 'MA C...|   completed|Royal Challengers...|             null|Royal Challengers...|KN Anantha Padman...|Vengalil Narayana...|Chettithody Shams...|2021-04-09 19:30:...|        MI|       RCB|        159|            9|        160|            8|         null|           []|Nathan Coulter-Ni...|               null|         null|           []|Adam Zampa, Devdu...|               null|     14|    2.2|Siraj to Rohit, n...|\n|2021| T20 League|Indian Premier Le...|1st Match|   T20 IPL|   35612|{'stadium': 'MA C...|   completed|Royal Challengers...|             null|Royal Challengers...|KN Anantha Padman...|Vengalil Narayana...|Chettithody Shams...|2021-04-09 19:30:...|        MI|       RCB|        159|            9|        160|            8|         null|           []|Nathan Coulter-Ni...|               null|         null|           []|Adam Zampa, Devdu...|               null|     15|    2.3|Siraj to Rohit, n...|\n|2021| T20 League|Indian Premier Le...|1st Match|   T20 IPL|   35612|{'stadium': 'MA C...|   completed|Royal Challengers...|             null|Royal Challengers...|KN Anantha Padman...|Vengalil Narayana...|Chettithody Shams...|2021-04-09 19:30:...|        MI|       RCB|        159|            9|        160|            8|         null|           []|Nathan Coulter-Ni...|               null|         null|           []|Adam Zampa, Devdu...|               null|     16|    2.4|Siraj to Rohit, n...|\n|2021| T20 League|Indian Premier Le...|1st Match|   T20 IPL|   35612|{'stadium': 'MA C...|   completed|Royal Challengers...|             null|Royal Challengers...|KN Anantha Padman...|Vengalil Narayana...|Chettithody Shams...|2021-04-09 19:30:...|        MI|       RCB|        159|            9|        160|            8|         null|           []|Nathan Coulter-Ni...|               null|         null|           []|Adam Zampa, Devdu...|               null|     17|    2.5|Siraj to Rohit, F...|\n|2021| T20 League|Indian Premier Le...|1st Match|   T20 IPL|   35612|{'stadium': 'MA C...|   completed|Royal Challengers...|             null|Royal Challengers...|KN Anantha Padman...|Vengalil Narayana...|Chettithody Shams...|2021-04-09 19:30:...|        MI|       RCB|        159|            9|        160|            8|         null|           []|Nathan Coulter-Ni...|               null|         null|           []|Adam Zampa, Devdu...|               null|     18|    2.6|Siraj to Rohit, 2...|\n|2021| T20 League|Indian Premier Le...|1st Match|   T20 IPL|   35612|{'stadium': 'MA C...|   completed|Royal Challengers...|             null|Royal Challengers...|KN Anantha Padman...|Vengalil Narayana...|Chettithody Shams...|2021-04-09 19:30:...|        MI|       RCB|        159|            9|        160|            8|         null|           []|Nathan Coulter-Ni...|               null|         null|           []|Adam Zampa, Devdu...|               null|     19|    3.1|Chahal to Chris L...|\n|2021| T20 League|Indian Premier Le...|1st Match|   T20 IPL|   35612|{'stadium': 'MA C...|   completed|Royal Challengers...|             null|Royal Challengers...|KN Anantha Padman...|Vengalil Narayana...|Chettithody Shams...|2021-04-09 19:30:...|        MI|       RCB|        159|            9|        160|            8|         null|           []|Nathan Coulter-Ni...|               null|         null|           []|Adam Zampa, Devdu...|               null|     20|    3.2|Chahal to Chris L...|\n+----+-----------+--------------------+---------+----------+--------+--------------------+------------+--------------------+-----------------+--------------------+--------------------+--------------------+--------------------+--------------------+----------+----------+-----------+-------------+-----------+-------------+-------------+-------------+--------------------+-------------------+-------------+-------------+--------------------+-------------------+-------+-------+--------------------+\nonly showing top 20 rows\n\n"
     ]
    }
   ],
   "source": [
    "df.show()"
   ]
  }
 ],
 "metadata": {
  "application/vnd.databricks.v1+notebook": {
   "computePreferences": null,
   "dashboards": [],
   "environmentMetadata": {
    "base_environment": "",
    "environment_version": "1"
   },
   "inputWidgetPreferences": null,
   "language": "python",
   "notebookMetadata": {
    "pythonIndentUnit": 4
   },
   "notebookName": "Task_6",
   "widgets": {}
  }
 },
 "nbformat": 4,
 "nbformat_minor": 0
}