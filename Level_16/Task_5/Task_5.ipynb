{
 "cells": [
  {
   "cell_type": "code",
   "execution_count": 0,
   "metadata": {
    "application/vnd.databricks.v1+cell": {
     "cellMetadata": {
      "byteLimit": 2048000,
      "rowLimit": 10000
     },
     "inputWidgets": {},
     "nuid": "39475ed5-7b59-43a6-98c5-3a657f12ad95",
     "showTitle": false,
     "tableResultSettingsMap": {},
     "title": ""
    }
   },
   "outputs": [],
   "source": [
    "df=spark.read.format('csv').option('inferSchema',True).option('header',True).load('/FileStore/tables/ipl_commentary_data.csv')"
   ]
  },
  {
   "cell_type": "code",
   "execution_count": 0,
   "metadata": {
    "application/vnd.databricks.v1+cell": {
     "cellMetadata": {
      "byteLimit": 2048000,
      "rowLimit": 10000
     },
     "inputWidgets": {},
     "nuid": "1628312e-2464-4e84-8d0f-2b633242ccda",
     "showTitle": false,
     "tableResultSettingsMap": {},
     "title": ""
    }
   },
   "outputs": [],
   "source": [
    "columns= [\"year\", \"match_no\", \"team1_name\", \"team2_name\", \"match_status\", \"match_tie_breaker\"]\n",
    "df_cleaned = df.select(*columns)"
   ]
  },
  {
   "cell_type": "code",
   "execution_count": 0,
   "metadata": {
    "application/vnd.databricks.v1+cell": {
     "cellMetadata": {
      "byteLimit": 2048000,
      "rowLimit": 10000
     },
     "inputWidgets": {},
     "nuid": "3f932670-f1df-48c8-a6a5-2a81b6d1ff8e",
     "showTitle": false,
     "tableResultSettingsMap": {},
     "title": ""
    }
   },
   "outputs": [],
   "source": [
    "delta_path = \"/tmp/ipl_matches_delta\"\n",
    "df_cleaned.write.format(\"delta\").mode(\"overwrite\").save(delta_path)"
   ]
  },
  {
   "cell_type": "code",
   "execution_count": 0,
   "metadata": {
    "application/vnd.databricks.v1+cell": {
     "cellMetadata": {
      "byteLimit": 2048000,
      "rowLimit": 10000
     },
     "inputWidgets": {},
     "nuid": "11243058-d13f-4dbb-b14c-5b72eea55afa",
     "showTitle": false,
     "tableResultSettingsMap": {},
     "title": ""
    }
   },
   "outputs": [
    {
     "output_type": "stream",
     "name": "stdout",
     "output_type": "stream",
     "text": [
      "Out[4]: DataFrame[]"
     ]
    }
   ],
   "source": [
    "spark.sql(\"DROP TABLE IF EXISTS ipl_matches\")\n",
    "spark.sql(f\"CREATE TABLE ipl_matches USING DELTA LOCATION '{delta_path}'\")"
   ]
  },
  {
   "cell_type": "code",
   "execution_count": 0,
   "metadata": {
    "application/vnd.databricks.v1+cell": {
     "cellMetadata": {
      "byteLimit": 2048000,
      "rowLimit": 10000
     },
     "inputWidgets": {},
     "nuid": "08cb9c4c-6bc4-4498-b9cd-699ef889272d",
     "showTitle": false,
     "tableResultSettingsMap": {},
     "title": ""
    }
   },
   "outputs": [
    {
     "output_type": "stream",
     "name": "stdout",
     "output_type": "stream",
     "text": [
      "+----+---------+----------+----------+------------+-----------------+\n|year| match_no|team1_name|team2_name|match_status|match_tie_breaker|\n+----+---------+----------+----------+------------+-----------------+\n|2021|1st Match|        MI|       RCB|   completed|             null|\n|2021|1st Match|        MI|       RCB|   completed|             null|\n|2021|1st Match|        MI|       RCB|   completed|             null|\n|2021|1st Match|        MI|       RCB|   completed|             null|\n|2021|1st Match|        MI|       RCB|   completed|             null|\n|2021|1st Match|        MI|       RCB|   completed|             null|\n|2021|1st Match|        MI|       RCB|   completed|             null|\n|2021|1st Match|        MI|       RCB|   completed|             null|\n|2021|1st Match|        MI|       RCB|   completed|             null|\n|2021|1st Match|        MI|       RCB|   completed|             null|\n+----+---------+----------+----------+------------+-----------------+\n\n"
     ]
    }
   ],
   "source": [
    "spark.sql(\"SELECT * FROM ipl_matches LIMIT 10\").show()"
   ]
  }
 ],
 "metadata": {
  "application/vnd.databricks.v1+notebook": {
   "computePreferences": null,
   "dashboards": [],
   "environmentMetadata": {
    "base_environment": "",
    "environment_version": "1"
   },
   "inputWidgetPreferences": null,
   "language": "python",
   "notebookMetadata": {
    "pythonIndentUnit": 4
   },
   "notebookName": "Task_5",
   "widgets": {}
  }
 },
 "nbformat": 4,
 "nbformat_minor": 0
}