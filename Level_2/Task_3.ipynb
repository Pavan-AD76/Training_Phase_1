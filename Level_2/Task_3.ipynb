{
 "cells": [
  {
   "cell_type": "markdown",
   "id": "944d061b-81c6-45ee-b08d-24e9964a380d",
   "metadata": {},
   "source": [
    "## Task 3: Function Calculator"
   ]
  },
  {
   "cell_type": "code",
   "execution_count": 2,
   "id": "deed6ae7-ccaf-479f-ac93-fa1ba8fcbbaf",
   "metadata": {},
   "outputs": [
    {
     "data": {
      "text/plain": [
       "[2, 4, 6, 8, 10, 12]"
      ]
     },
     "execution_count": 2,
     "metadata": {},
     "output_type": "execute_result"
    }
   ],
   "source": [
    "def func(a,num):\n",
    "    result=[]\n",
    "    for x in a:\n",
    "        prod=x*num\n",
    "        if prod%2==0:\n",
    "            result.append(prod)\n",
    "    return result\n",
    "a=[1,2,3,4,5,6]\n",
    "num=2\n",
    "func(a,num)"
   ]
  },
  {
   "cell_type": "code",
   "execution_count": 4,
   "id": "8ac343a9-2a84-4011-adb3-1a1267d41b2e",
   "metadata": {},
   "outputs": [
    {
     "name": "stdout",
     "output_type": "stream",
     "text": [
      "[2, 4, 6, 8, 10, 12]\n"
     ]
    }
   ],
   "source": [
    "product=lambda a,num:a*num\n",
    "res=list(map(lambda x: product(x, num), a))\n",
    "filtered_res=list(filter(lambda x: x % 2 == 0, res))\n",
    "print(filtered_res)"
   ]
  },
  {
   "cell_type": "code",
   "execution_count": null,
   "id": "b9394ffa-4da3-4f08-8c2f-501d5578c903",
   "metadata": {},
   "outputs": [],
   "source": []
  }
 ],
 "metadata": {
  "kernelspec": {
   "display_name": "Python 3 (ipykernel)",
   "language": "python",
   "name": "python3"
  },
  "language_info": {
   "codemirror_mode": {
    "name": "ipython",
    "version": 3
   },
   "file_extension": ".py",
   "mimetype": "text/x-python",
   "name": "python",
   "nbconvert_exporter": "python",
   "pygments_lexer": "ipython3",
   "version": "3.12.4"
  }
 },
 "nbformat": 4,
 "nbformat_minor": 5
}
