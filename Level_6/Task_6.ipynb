{
 "cells": [
  {
   "cell_type": "markdown",
   "id": "41142cc3-7608-4a53-b0d4-33c08e468440",
   "metadata": {},
   "source": [
    "# Task 6: Measures of Dispersion"
   ]
  },
  {
   "cell_type": "code",
   "execution_count": 27,
   "id": "0d7d9e09-8c6e-4ea9-b6db-ff834f9cf32b",
   "metadata": {},
   "outputs": [],
   "source": [
    "import numpy as np\n",
    "import statistics as stats\n",
    "import math"
   ]
  },
  {
   "cell_type": "code",
   "execution_count": 13,
   "id": "b453568f-7c5e-4f60-b321-0b06054c6354",
   "metadata": {},
   "outputs": [
    {
     "data": {
      "text/plain": [
       "[2, 4, 6, 8, 10]"
      ]
     },
     "execution_count": 13,
     "metadata": {},
     "output_type": "execute_result"
    }
   ],
   "source": [
    "arr=[2, 4, 6, 8, 10]\n",
    "arr"
   ]
  },
  {
   "cell_type": "code",
   "execution_count": 15,
   "id": "017d60aa-0184-4b73-90dc-29a2d51c4377",
   "metadata": {},
   "outputs": [
    {
     "data": {
      "text/plain": [
       "6"
      ]
     },
     "execution_count": 15,
     "metadata": {},
     "output_type": "execute_result"
    }
   ],
   "source": [
    "mean=np.mean(arr,dtype='int')\n",
    "mean"
   ]
  },
  {
   "cell_type": "code",
   "execution_count": 17,
   "id": "d2f9b846-8f96-40d8-9fb9-8d7b7084362c",
   "metadata": {},
   "outputs": [
    {
     "data": {
      "text/plain": [
       "10"
      ]
     },
     "execution_count": 17,
     "metadata": {},
     "output_type": "execute_result"
    }
   ],
   "source": [
    "variance=stats.variance(arr)\n",
    "variance"
   ]
  },
  {
   "cell_type": "code",
   "execution_count": 19,
   "id": "d35311c8-e8b9-41e0-a971-3385c31f4108",
   "metadata": {},
   "outputs": [
    {
     "data": {
      "text/plain": [
       "3.1622776601683795"
      ]
     },
     "execution_count": 19,
     "metadata": {},
     "output_type": "execute_result"
    }
   ],
   "source": [
    "sd=stats.stdev(arr)\n",
    "sd"
   ]
  },
  {
   "cell_type": "code",
   "execution_count": 23,
   "id": "3c280b89-b6cf-4381-86a8-888aefb4c8e2",
   "metadata": {},
   "outputs": [
    {
     "data": {
      "text/plain": [
       "8.0"
      ]
     },
     "execution_count": 23,
     "metadata": {},
     "output_type": "execute_result"
    }
   ],
   "source": [
    "var=sum([(n-mean)**2 for n in arr])/len(arr)\n",
    "var"
   ]
  },
  {
   "cell_type": "code",
   "execution_count": 40,
   "id": "d88c37f7-9ae4-4ee9-b3a7-5ed0bf2fd4c3",
   "metadata": {},
   "outputs": [
    {
     "data": {
      "text/plain": [
       "2.828"
      ]
     },
     "execution_count": 40,
     "metadata": {},
     "output_type": "execute_result"
    }
   ],
   "source": [
    "standard_dev=np.round(math.sqrt(var),3)\n",
    "standard_dev"
   ]
  },
  {
   "cell_type": "code",
   "execution_count": null,
   "id": "7f40b0ee-5f38-4220-892b-6529943a3f33",
   "metadata": {},
   "outputs": [],
   "source": []
  }
 ],
 "metadata": {
  "kernelspec": {
   "display_name": "Python 3 (ipykernel)",
   "language": "python",
   "name": "python3"
  },
  "language_info": {
   "codemirror_mode": {
    "name": "ipython",
    "version": 3
   },
   "file_extension": ".py",
   "mimetype": "text/x-python",
   "name": "python",
   "nbconvert_exporter": "python",
   "pygments_lexer": "ipython3",
   "version": "3.12.4"
  }
 },
 "nbformat": 4,
 "nbformat_minor": 5
}
