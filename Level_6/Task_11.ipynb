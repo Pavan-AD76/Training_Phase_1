{
 "cells": [
  {
   "cell_type": "markdown",
   "id": "dfa459ab-79e9-4d7c-b859-28f4d3a48725",
   "metadata": {},
   "source": [
    "# Task 11: Outlier Detection with Z-Score"
   ]
  },
  {
   "cell_type": "code",
   "execution_count": 64,
   "id": "4cb2e4f7-c59f-4afe-bc87-b479b7163b2d",
   "metadata": {},
   "outputs": [],
   "source": [
    "import numpy as np"
   ]
  },
  {
   "cell_type": "code",
   "execution_count": 66,
   "id": "1dcf732e-5433-4607-b3c0-b9d66b78bea5",
   "metadata": {},
   "outputs": [
    {
     "data": {
      "text/plain": [
       "array([ 1,  2,  3,  4,  5,  6,  7,  8,  9, 20])"
      ]
     },
     "execution_count": 66,
     "metadata": {},
     "output_type": "execute_result"
    }
   ],
   "source": [
    "lst=[1, 2, 3, 4, 5, 6, 7, 8, 9, 20]\n",
    "lst=np.array(lst)\n",
    "lst"
   ]
  },
  {
   "cell_type": "code",
   "execution_count": 68,
   "id": "368e6aeb-21ef-4f44-bf94-7234847febc4",
   "metadata": {},
   "outputs": [
    {
     "data": {
      "text/plain": [
       "6.5"
      ]
     },
     "execution_count": 68,
     "metadata": {},
     "output_type": "execute_result"
    }
   ],
   "source": [
    "mean=np.mean(lst)\n",
    "mean"
   ]
  },
  {
   "cell_type": "code",
   "execution_count": 70,
   "id": "49452235-d8f9-4fc4-96d1-7776428b6bbf",
   "metadata": {},
   "outputs": [
    {
     "data": {
      "text/plain": [
       "5.123475382979799"
      ]
     },
     "execution_count": 70,
     "metadata": {},
     "output_type": "execute_result"
    }
   ],
   "source": [
    "sd=np.std(lst)\n",
    "sd"
   ]
  },
  {
   "cell_type": "code",
   "execution_count": 72,
   "id": "f3ddad51-fefe-436a-9660-7eff2fbfc794",
   "metadata": {},
   "outputs": [
    {
     "data": {
      "text/plain": [
       "array([-1.073, -0.878, -0.683, -0.488, -0.293, -0.098,  0.098,  0.293,\n",
       "        0.488,  2.635])"
      ]
     },
     "execution_count": 72,
     "metadata": {},
     "output_type": "execute_result"
    }
   ],
   "source": [
    "z_score=np.round((([(x-mean) for x in lst])/sd),3)\n",
    "z_score"
   ]
  },
  {
   "cell_type": "code",
   "execution_count": 74,
   "id": "bfd59927-b059-4309-a814-dfef3517e9c7",
   "metadata": {},
   "outputs": [
    {
     "name": "stdout",
     "output_type": "stream",
     "text": [
      "No outliers detected, all z_scores are below 3\n"
     ]
    }
   ],
   "source": [
    "threshold=3\n",
    "outliers=lst[np.abs(z_score)>3]\n",
    "if len(outliers)==0:\n",
    "    print(\"No outliers detected, all z_scores are below 3\")\n",
    "else:\n",
    "    print(outliers)"
   ]
  },
  {
   "cell_type": "code",
   "execution_count": null,
   "id": "aa0c4676-402b-4d91-bac1-88600169952a",
   "metadata": {},
   "outputs": [],
   "source": []
  }
 ],
 "metadata": {
  "kernelspec": {
   "display_name": "Python 3 (ipykernel)",
   "language": "python",
   "name": "python3"
  },
  "language_info": {
   "codemirror_mode": {
    "name": "ipython",
    "version": 3
   },
   "file_extension": ".py",
   "mimetype": "text/x-python",
   "name": "python",
   "nbconvert_exporter": "python",
   "pygments_lexer": "ipython3",
   "version": "3.12.4"
  }
 },
 "nbformat": 4,
 "nbformat_minor": 5
}
