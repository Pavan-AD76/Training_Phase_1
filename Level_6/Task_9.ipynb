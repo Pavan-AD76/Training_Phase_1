{
 "cells": [
  {
   "cell_type": "markdown",
   "id": "e89a449e-c368-44f8-83a3-421658b272f3",
   "metadata": {},
   "source": [
    "# Task 9: Gaussian Distribution Area"
   ]
  },
  {
   "cell_type": "code",
   "execution_count": 37,
   "id": "9de48b1f-72f1-4a8e-b3a3-7f20809524bd",
   "metadata": {},
   "outputs": [],
   "source": [
    "from scipy.stats import norm\n",
    "import numpy as np"
   ]
  },
  {
   "cell_type": "code",
   "execution_count": 39,
   "id": "c614e7b1-f3a7-459a-a266-b242a452edfc",
   "metadata": {},
   "outputs": [],
   "source": [
    "mean=4\n",
    "sd=1\n",
    "z_score=0.25"
   ]
  },
  {
   "cell_type": "code",
   "execution_count": 41,
   "id": "0f07a460-3bca-4cb9-a7a7-94f0cb8b5a27",
   "metadata": {},
   "outputs": [
    {
     "data": {
      "text/plain": [
       "0.4012936743170763"
      ]
     },
     "execution_count": 41,
     "metadata": {},
     "output_type": "execute_result"
    }
   ],
   "source": [
    "tail_area=norm.sf(4.25,mean,sd)\n",
    "tail_area"
   ]
  },
  {
   "cell_type": "code",
   "execution_count": 43,
   "id": "38789755-193d-441d-bc8f-6252a0179298",
   "metadata": {},
   "outputs": [],
   "source": [
    "tail_area=np.round(tail_area*100)\n",
    "tail_area=int(tail_area)"
   ]
  },
  {
   "cell_type": "code",
   "execution_count": 49,
   "id": "21d82788-a561-4338-8f0a-3aab721ccec7",
   "metadata": {},
   "outputs": [
    {
     "name": "stdout",
     "output_type": "stream",
     "text": [
      "Approximately 40 % of scores fall above 4.25.\n"
     ]
    }
   ],
   "source": [
    "print(f\"Approximately {tail_area} % of scores fall above 4.25.\")"
   ]
  },
  {
   "cell_type": "code",
   "execution_count": null,
   "id": "17ac21c2-0385-42b8-a6a6-cbcc155ceacd",
   "metadata": {},
   "outputs": [],
   "source": []
  }
 ],
 "metadata": {
  "kernelspec": {
   "display_name": "Python 3 (ipykernel)",
   "language": "python",
   "name": "python3"
  },
  "language_info": {
   "codemirror_mode": {
    "name": "ipython",
    "version": 3
   },
   "file_extension": ".py",
   "mimetype": "text/x-python",
   "name": "python",
   "nbconvert_exporter": "python",
   "pygments_lexer": "ipython3",
   "version": "3.12.4"
  }
 },
 "nbformat": 4,
 "nbformat_minor": 5
}
