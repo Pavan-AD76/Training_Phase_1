{
 "cells": [
  {
   "cell_type": "markdown",
   "id": "4f9f656b-69d6-492e-bb9c-ad35db9fa044",
   "metadata": {},
   "source": [
    "# Task 7: Z-Score Calculation"
   ]
  },
  {
   "cell_type": "code",
   "execution_count": 42,
   "id": "7d991b02-37fc-451e-a80f-18db8d95f893",
   "metadata": {},
   "outputs": [],
   "source": [
    "import numpy as np\n",
    "import statistics as stats\n",
    "import math"
   ]
  },
  {
   "cell_type": "code",
   "execution_count": 48,
   "id": "80fbbf2a-53ab-4f5e-b097-f43d362c888b",
   "metadata": {},
   "outputs": [
    {
     "data": {
      "text/plain": [
       "[2, 3, 4, 5, 6, 7]"
      ]
     },
     "execution_count": 48,
     "metadata": {},
     "output_type": "execute_result"
    }
   ],
   "source": [
    "lst=[2, 3, 4, 5, 6, 7]\n",
    "lst"
   ]
  },
  {
   "cell_type": "code",
   "execution_count": 50,
   "id": "703621ed-9c27-4ae1-a9f5-f80450ddbeab",
   "metadata": {},
   "outputs": [
    {
     "data": {
      "text/plain": [
       "4.5"
      ]
     },
     "execution_count": 50,
     "metadata": {},
     "output_type": "execute_result"
    }
   ],
   "source": [
    "mean=np.mean(lst)\n",
    "mean"
   ]
  },
  {
   "cell_type": "code",
   "execution_count": 64,
   "id": "f3b82567-8be7-4de5-b01b-a28bc3317359",
   "metadata": {},
   "outputs": [
    {
     "data": {
      "text/plain": [
       "1.707825127659933"
      ]
     },
     "execution_count": 64,
     "metadata": {},
     "output_type": "execute_result"
    }
   ],
   "source": [
    "standard_dev=np.std(lst)\n",
    "standard_dev"
   ]
  },
  {
   "cell_type": "code",
   "execution_count": 68,
   "id": "6c223a78-d4e2-47d3-8a99-dba7e9112a30",
   "metadata": {},
   "outputs": [
    {
     "data": {
      "text/plain": [
       "array([-1.464, -0.878, -0.293,  0.293,  0.878,  1.464])"
      ]
     },
     "execution_count": 68,
     "metadata": {},
     "output_type": "execute_result"
    }
   ],
   "source": [
    "z_score=np.round((([(x-mean) for x in lst])/standard_dev),3)\n",
    "z_score"
   ]
  },
  {
   "cell_type": "code",
   "execution_count": 70,
   "id": "d02d4e67-03de-47b2-95f1-21fe09d5d399",
   "metadata": {},
   "outputs": [
    {
     "name": "stdout",
     "output_type": "stream",
     "text": [
      "The z_score for 5 is 0.293 ,meaning it's 0.293 standard deviations above the mean\n"
     ]
    }
   ],
   "source": [
    "print(f\"The z_score for 5 is {z_score[3]} ,meaning it's {z_score[3]} standard deviations above the mean\")"
   ]
  },
  {
   "cell_type": "code",
   "execution_count": null,
   "id": "3a88e9a0-e6bd-4352-ac5a-f38d1df2f0a5",
   "metadata": {},
   "outputs": [],
   "source": []
  }
 ],
 "metadata": {
  "kernelspec": {
   "display_name": "Python 3 (ipykernel)",
   "language": "python",
   "name": "python3"
  },
  "language_info": {
   "codemirror_mode": {
    "name": "ipython",
    "version": 3
   },
   "file_extension": ".py",
   "mimetype": "text/x-python",
   "name": "python",
   "nbconvert_exporter": "python",
   "pygments_lexer": "ipython3",
   "version": "3.12.4"
  }
 },
 "nbformat": 4,
 "nbformat_minor": 5
}
