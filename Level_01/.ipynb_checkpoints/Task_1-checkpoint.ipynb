{
 "cells": [
  {
   "cell_type": "markdown",
   "id": "1621d943-ff10-4536-98e2-ffebc4caba8a",
   "metadata": {},
   "source": [
    "##  Task 1: Hello Python"
   ]
  },
  {
   "cell_type": "code",
   "execution_count": 2,
   "id": "9e36ad89-abba-4318-9990-d82421344c96",
   "metadata": {},
   "outputs": [
    {
     "name": "stdout",
     "output_type": "stream",
     "text": [
      "Hello,Python\n"
     ]
    }
   ],
   "source": [
    "print(\"Hello,Python\")"
   ]
  },
  {
   "cell_type": "code",
   "execution_count": 12,
   "id": "a8e48fb7-afcc-4d13-ba48-9bc0f9037633",
   "metadata": {},
   "outputs": [
    {
     "name": "stdout",
     "output_type": "stream",
     "text": [
      "5+3=8\n"
     ]
    }
   ],
   "source": [
    "a=5\n",
    "b=3\n",
    "print(f'{a}+{b}={a+b}')"
   ]
  },
  {
   "cell_type": "code",
   "execution_count": null,
   "id": "304c4382-17ed-4efd-a58c-2393f5bc7a16",
   "metadata": {},
   "outputs": [],
   "source": []
  }
 ],
 "metadata": {
  "kernelspec": {
   "display_name": "Python 3 (ipykernel)",
   "language": "python",
   "name": "python3"
  },
  "language_info": {
   "codemirror_mode": {
    "name": "ipython",
    "version": 3
   },
   "file_extension": ".py",
   "mimetype": "text/x-python",
   "name": "python",
   "nbconvert_exporter": "python",
   "pygments_lexer": "ipython3",
   "version": "3.12.4"
  }
 },
 "nbformat": 4,
 "nbformat_minor": 5
}
