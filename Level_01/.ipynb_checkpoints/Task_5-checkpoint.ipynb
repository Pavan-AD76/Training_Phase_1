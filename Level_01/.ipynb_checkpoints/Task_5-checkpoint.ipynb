{
 "cells": [
  {
   "cell_type": "markdown",
   "id": "f061c92c-0a91-49e8-be07-2ea13afabfdd",
   "metadata": {},
   "source": [
    "## Task 5: Dynamic Data Structure"
   ]
  },
  {
   "cell_type": "code",
   "execution_count": 2,
   "id": "52759277-89d8-44ed-91e0-8e6009aa408f",
   "metadata": {},
   "outputs": [
    {
     "name": "stdin",
     "output_type": "stream",
     "text": [
      "Enter a string: x\n",
      "Enter an integer: 1\n",
      "Enter a string: y\n",
      "Enter an integer: 2\n",
      "Enter a string: z\n",
      "Enter an integer: 3\n"
     ]
    },
    {
     "name": "stdout",
     "output_type": "stream",
     "text": [
      "{'x': '1', 'y': '2', 'z': '3'}\n"
     ]
    }
   ],
   "source": [
    "my_dict={}\n",
    "for i in range(3):\n",
    "    key=input(\"Enter a string:\")\n",
    "    value=input(\"Enter an integer:\")\n",
    "    my_dict[key]=value\n",
    "print(my_dict)"
   ]
  },
  {
   "cell_type": "code",
   "execution_count": null,
   "id": "e86c1c79-62eb-4c0b-89d1-29fbddff5642",
   "metadata": {},
   "outputs": [],
   "source": []
  }
 ],
 "metadata": {
  "kernelspec": {
   "display_name": "Python 3 (ipykernel)",
   "language": "python",
   "name": "python3"
  },
  "language_info": {
   "codemirror_mode": {
    "name": "ipython",
    "version": 3
   },
   "file_extension": ".py",
   "mimetype": "text/x-python",
   "name": "python",
   "nbconvert_exporter": "python",
   "pygments_lexer": "ipython3",
   "version": "3.12.4"
  }
 },
 "nbformat": 4,
 "nbformat_minor": 5
}
