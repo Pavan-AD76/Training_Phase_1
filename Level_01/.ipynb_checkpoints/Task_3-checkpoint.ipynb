{
 "cells": [
  {
   "cell_type": "markdown",
   "id": "333136e3-50fe-4192-b34f-032637aa2584",
   "metadata": {},
   "source": [
    "## Task 3: NumPy Array Stats"
   ]
  },
  {
   "cell_type": "code",
   "execution_count": 9,
   "id": "4b5414ad-8c56-48e2-b325-17c1c5466a85",
   "metadata": {},
   "outputs": [],
   "source": [
    "import numpy as np"
   ]
  },
  {
   "cell_type": "code",
   "execution_count": 11,
   "id": "d2cfd306-f0a6-44dd-a988-a99968277454",
   "metadata": {},
   "outputs": [
    {
     "data": {
      "text/plain": [
       "array([ 1,  2,  3,  4,  5,  6,  7,  8,  9, 10])"
      ]
     },
     "execution_count": 11,
     "metadata": {},
     "output_type": "execute_result"
    }
   ],
   "source": [
    "arr=np.arange(1,11)\n",
    "arr"
   ]
  },
  {
   "cell_type": "code",
   "execution_count": 13,
   "id": "662d4d3a-813d-42ca-959a-f4fa3b474ae6",
   "metadata": {},
   "outputs": [
    {
     "name": "stdout",
     "output_type": "stream",
     "text": [
      "Mean:5.5, Max: 10, Min: 1\n"
     ]
    }
   ],
   "source": [
    "mean=np.mean(arr)\n",
    "max_no=np.max(arr)\n",
    "min_no=np.min(arr)\n",
    "print(f\"Mean:{mean}\"+\", \"+f\"Max: {max_no}\"+\", \"+f\"Min: {min_no}\")"
   ]
  },
  {
   "cell_type": "code",
   "execution_count": null,
   "id": "5a9ee295-207c-451b-a95d-7365aa81d271",
   "metadata": {},
   "outputs": [],
   "source": []
  }
 ],
 "metadata": {
  "kernelspec": {
   "display_name": "Python 3 (ipykernel)",
   "language": "python",
   "name": "python3"
  },
  "language_info": {
   "codemirror_mode": {
    "name": "ipython",
    "version": 3
   },
   "file_extension": ".py",
   "mimetype": "text/x-python",
   "name": "python",
   "nbconvert_exporter": "python",
   "pygments_lexer": "ipython3",
   "version": "3.12.4"
  }
 },
 "nbformat": 4,
 "nbformat_minor": 5
}
