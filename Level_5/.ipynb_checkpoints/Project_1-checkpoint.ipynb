{
 "cells": [
  {
   "cell_type": "markdown",
   "id": "e1f0b216-2f74-4b13-bc32-eecd027d7b5d",
   "metadata": {},
   "source": [
    "# Project 1: Personal Budget Tracker"
   ]
  },
  {
   "cell_type": "code",
   "execution_count": 1,
   "id": "893ad446-09ba-4a55-bd3c-a36c8d308278",
   "metadata": {},
   "outputs": [
    {
     "name": "stdout",
     "output_type": "stream",
     "text": [
      "Income:6500,Expense:450,Balance:6050\n"
     ]
    }
   ],
   "source": [
    "Income={\"Salary\":5000,\"Freelance\":1500}\n",
    "Expense={\"Rent\":250,\"Food\":150,\"Transport\":50}\n",
    "def cal_income(Income):\n",
    "    return sum(Income.values())\n",
    "def cal_expense(Expense):\n",
    "    return sum(Expense.values())    \n",
    "tot_inc=cal_income(Income)\n",
    "tot_exp=cal_expense(Expense)\n",
    "bal=tot_inc-tot_exp\n",
    "print(f\"Income:{tot_inc},Expense:{tot_exp},Balance:{bal}\")"
   ]
  },
  {
   "cell_type": "code",
   "execution_count": null,
   "id": "28cee8ed-56f8-4105-86ee-1fdaf61fd7e7",
   "metadata": {},
   "outputs": [],
   "source": []
  }
 ],
 "metadata": {
  "kernelspec": {
   "display_name": "Python 3 (ipykernel)",
   "language": "python",
   "name": "python3"
  },
  "language_info": {
   "codemirror_mode": {
    "name": "ipython",
    "version": 3
   },
   "file_extension": ".py",
   "mimetype": "text/x-python",
   "name": "python",
   "nbconvert_exporter": "python",
   "pygments_lexer": "ipython3",
   "version": "3.12.4"
  }
 },
 "nbformat": 4,
 "nbformat_minor": 5
}
