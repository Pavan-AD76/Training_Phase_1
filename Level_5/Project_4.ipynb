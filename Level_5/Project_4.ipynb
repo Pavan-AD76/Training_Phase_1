{
 "cells": [
  {
   "cell_type": "markdown",
   "id": "f8669954-08a6-424e-9349-58655bbaf53f",
   "metadata": {},
   "source": [
    "# Project 4: Parallel Data Processor"
   ]
  },
  {
   "cell_type": "code",
   "execution_count": 9,
   "id": "f9bb5478-3968-489d-8a78-a4fb38f80bdb",
   "metadata": {},
   "outputs": [
    {
     "name": "stdout",
     "output_type": "stream",
     "text": [
      "Mean Age: 29.69911764705882, Mean Survived: 0.3838383838383838\n"
     ]
    }
   ],
   "source": [
    "import threading\n",
    "import logging\n",
    "import pandas as pd\n",
    "logging.basicConfig(filename='processing.log', filemode='a',level=logging.INFO, format='%(asctime)s - %(message)s')\n",
    "def process_csv(file, results, index, column):\n",
    "    logging.info(f'Starting {file}')\n",
    "    df = pd.read_csv(r\"C:/Users/nithy/OneDrive/Desktop/Training/Level_5/Titanic-Dataset.csv\")\n",
    "    results[index] = df[column].mean()\n",
    "    logging.info(f'Completed {file}, Mean {column}: {results[index]}')\n",
    "results = {}\n",
    "columns = [\"Age\", \"Survived\"]\n",
    "threads = [\n",
    "    threading.Thread(target=process_csv, args=(\"titanic.csv\", results, i, column)) \n",
    "    for i, column in enumerate(columns, 1)\n",
    "]\n",
    "for t in threads: t.start()\n",
    "for t in threads: t.join()\n",
    "print(f\"Mean Age: {results.get(1, 'N/A')}, Mean Survived: {results.get(2, 'N/A')}\")"
   ]
  },
  {
   "cell_type": "code",
   "execution_count": null,
   "id": "d3a43f66-15bf-4eb6-bc29-e505b110b8c2",
   "metadata": {},
   "outputs": [],
   "source": []
  }
 ],
 "metadata": {
  "kernelspec": {
   "display_name": "Python 3 (ipykernel)",
   "language": "python",
   "name": "python3"
  },
  "language_info": {
   "codemirror_mode": {
    "name": "ipython",
    "version": 3
   },
   "file_extension": ".py",
   "mimetype": "text/x-python",
   "name": "python",
   "nbconvert_exporter": "python",
   "pygments_lexer": "ipython3",
   "version": "3.12.4"
  }
 },
 "nbformat": 4,
 "nbformat_minor": 5
}
