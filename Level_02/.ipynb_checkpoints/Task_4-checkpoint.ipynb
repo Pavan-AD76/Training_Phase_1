{
 "cells": [
  {
   "cell_type": "markdown",
   "id": "62dbb34a-2e23-453e-9b6b-79a657e7056b",
   "metadata": {},
   "source": [
    "## Task 4: Seaborn Visualization"
   ]
  },
  {
   "cell_type": "code",
   "execution_count": 2,
   "id": "5a4c8282-f7b0-4c4a-a8ee-785bad769a62",
   "metadata": {},
   "outputs": [],
   "source": [
    "import seaborn as sns"
   ]
  },
  {
   "cell_type": "code",
   "execution_count": 3,
   "id": "0b67f677-d5ed-464d-a9e2-67fc83dfc2dd",
   "metadata": {},
   "outputs": [
    {
     "data": {
      "application/javascript": [
       "\n",
       "        if (window._pyforest_update_imports_cell) { window._pyforest_update_imports_cell('import numpy as np'); }\n",
       "    "
      ],
      "text/plain": [
       "<IPython.core.display.Javascript object>"
      ]
     },
     "metadata": {},
     "output_type": "display_data"
    },
    {
     "data": {
      "text/plain": [
       "array([0.85325239, 0.19699903, 0.13659573, 0.29297516, 0.41610111,\n",
       "       0.00302278, 0.86049121, 0.04817251, 0.05777783, 0.47487106,\n",
       "       0.53901616, 0.84027688, 0.84192183, 0.30974907, 0.6739644 ,\n",
       "       0.95578802, 0.09728862, 0.81426136, 0.03333722, 0.77844696,\n",
       "       0.38466202, 0.13524866, 0.17529704, 0.87623951, 0.54858776,\n",
       "       0.26086152, 0.59887302, 0.03877543, 0.40356313, 0.43782761,\n",
       "       0.89695367, 0.84311433, 0.02979553, 0.01015594, 0.88801434,\n",
       "       0.71877223, 0.61160513, 0.09566876, 0.84189658, 0.64929114,\n",
       "       0.8821157 , 0.09110805, 0.20094103, 0.85555329, 0.26706311,\n",
       "       0.3232074 , 0.68836117, 0.71420644, 0.92549074, 0.70253903,\n",
       "       0.28890725, 0.07764052, 0.24888921, 0.03496301, 0.74819759,\n",
       "       0.70263469, 0.92523727, 0.90262147, 0.02331129, 0.13099843,\n",
       "       0.65130249, 0.69859383, 0.13723191, 0.68738518, 0.93482989,\n",
       "       0.61973856, 0.51777213, 0.45596443, 0.41023064, 0.42238625,\n",
       "       0.97134141, 0.20407055, 0.0833527 , 0.85700586, 0.32892279,\n",
       "       0.54537777, 0.65559713, 0.72507112, 0.6150271 , 0.81772977,\n",
       "       0.75350716, 0.32940697, 0.28715271, 0.56989456, 0.1953627 ,\n",
       "       0.0736146 , 0.6677123 , 0.51552354, 0.00800791, 0.3507612 ,\n",
       "       0.44630084, 0.74561453, 0.15263607, 0.40669565, 0.81852549,\n",
       "       0.04389247, 0.75463339, 0.39084841, 0.86611031, 0.53317143])"
      ]
     },
     "execution_count": 3,
     "metadata": {},
     "output_type": "execute_result"
    }
   ],
   "source": [
    "arr1=np.random.rand(100)\n",
    "arr1"
   ]
  },
  {
   "cell_type": "code",
   "execution_count": 6,
   "id": "97cc48bc-1910-44cb-8415-038b9386ebe8",
   "metadata": {},
   "outputs": [
    {
     "data": {
      "application/javascript": [
       "\n",
       "        if (window._pyforest_update_imports_cell) { window._pyforest_update_imports_cell('import numpy as np\\nimport matplotlib.pyplot as plt'); }\n",
       "    "
      ],
      "text/plain": [
       "<IPython.core.display.Javascript object>"
      ]
     },
     "metadata": {},
     "output_type": "display_data"
    },
    {
     "data": {
      "image/png": "[encoded data removed]",
      "text/plain": [
       "<Figure size 640x480 with 1 Axes>"
      ]
     },
     "metadata": {},
     "output_type": "display_data"
    }
   ],
   "source": [
    "box=sns.boxplot(y=arr1)\n",
    "plt.show()"
   ]
  },
  {
   "cell_type": "code",
   "execution_count": null,
   "id": "67b973e1-9137-4e35-a2d4-8a25bd4be276",
   "metadata": {},
   "outputs": [],
   "source": []
  }
 ],
 "metadata": {
  "kernelspec": {
   "display_name": "Python 3 (ipykernel)",
   "language": "python",
   "name": "python3"
  },
  "language_info": {
   "codemirror_mode": {
    "name": "ipython",
    "version": 3
   },
   "file_extension": ".py",
   "mimetype": "text/x-python",
   "name": "python",
   "nbconvert_exporter": "python",
   "pygments_lexer": "ipython3",
   "version": "3.12.4"
  }
 },
 "nbformat": 4,
 "nbformat_minor": 5
}
